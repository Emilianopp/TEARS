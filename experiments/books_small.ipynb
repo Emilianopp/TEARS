{
 "cells": [
  {
   "cell_type": "code",
   "execution_count": 1,
   "metadata": {},
   "outputs": [],
   "source": [
    "\n",
    "%load_ext autoreload\n",
    "%autoreload 2\n"
   ]
  },
  {
   "cell_type": "code",
   "execution_count": 2,
   "metadata": {},
   "outputs": [
    {
     "name": "stderr",
     "output_type": "stream",
     "text": [
      "/home/mila/e/emiliano.penaloza/llm4rec/lib/python3.10/site-packages/tqdm/auto.py:21: TqdmWarning: IProgress not found. Please update jupyter and ipywidgets. See https://ipywidgets.readthedocs.io/en/stable/user_install.html\n",
      "  from .autonotebook import tqdm as notebook_tqdm\n",
      "/home/mila/e/emiliano.penaloza/llm4rec/lib/python3.10/site-packages/transformers/models/t5/tokenization_t5_fast.py:158: FutureWarning: This tokenizer was incorrectly instantiated with a model max length of 512 which will be corrected in Transformers v5.\n",
      "For now, this behavior is kept to avoid breaking backwards compatibility when padding/encoding with `truncation is True`.\n",
      "- Be aware that you SHOULD NOT rely on t5-large automatically truncating your input to 512 when padding/encoding.\n",
      "- If you want to encode/pad to sequences longer than 512 you can either instantiate this tokenizer with `model_max_length` or pass `max_length` when encoding/padding.\n",
      "- To avoid this warning, please instantiate this tokenizer with `model_max_length` set to your preferred value.\n",
      "  warnings.warn(\n"
     ]
    },
    {
     "name": "stdout",
     "output_type": "stream",
     "text": [
      "data_path='./data_preprocessed/books/'\n",
      "Max Prompt Length 260\n",
      "Number of Users is num_users=3534\n",
      "Number of Movies is num_movies=14871\n"
     ]
    },
    {
     "name": "stderr",
     "output_type": "stream",
     "text": [
      "Some weights of sentenceT5Classification were not initialized from the model checkpoint at t5-large and are newly initialized: ['classification_head.dense.weight', 'classification_head.out_proj.weight']\n",
      "You should probably TRAIN this model on a down-stream task to be able to use it for predictions and inference.\n"
     ]
    },
    {
     "data": {
      "text/plain": [
       "PeftModelForSequenceClassification(\n",
       "  (base_model): LoraModel(\n",
       "    (model): sentenceT5Classification(\n",
       "      (transformer): T5EncoderModel(\n",
       "        (shared): Embedding(32128, 1024)\n",
       "        (encoder): T5Stack(\n",
       "          (embed_tokens): Embedding(32128, 1024)\n",
       "          (block): ModuleList(\n",
       "            (0): T5Block(\n",
       "              (layer): ModuleList(\n",
       "                (0): T5LayerSelfAttention(\n",
       "                  (SelfAttention): T5Attention(\n",
       "                    (q): lora.Linear(\n",
       "                      (base_layer): Linear(in_features=1024, out_features=1024, bias=False)\n",
       "                      (lora_dropout): ModuleDict(\n",
       "                        (default): Identity()\n",
       "                      )\n",
       "                      (lora_A): ModuleDict(\n",
       "                        (default): Linear(in_features=1024, out_features=32, bias=False)\n",
       "                      )\n",
       "                      (lora_B): ModuleDict(\n",
       "                        (default): Linear(in_features=32, out_features=1024, bias=False)\n",
       "                      )\n",
       "                      (lora_embedding_A): ParameterDict()\n",
       "                      (lora_embedding_B): ParameterDict()\n",
       "                    )\n",
       "                    (k): Linear(in_features=1024, out_features=1024, bias=False)\n",
       "                    (v): lora.Linear(\n",
       "                      (base_layer): Linear(in_features=1024, out_features=1024, bias=False)\n",
       "                      (lora_dropout): ModuleDict(\n",
       "                        (default): Identity()\n",
       "                      )\n",
       "                      (lora_A): ModuleDict(\n",
       "                        (default): Linear(in_features=1024, out_features=32, bias=False)\n",
       "                      )\n",
       "                      (lora_B): ModuleDict(\n",
       "                        (default): Linear(in_features=32, out_features=1024, bias=False)\n",
       "                      )\n",
       "                      (lora_embedding_A): ParameterDict()\n",
       "                      (lora_embedding_B): ParameterDict()\n",
       "                    )\n",
       "                    (o): Linear(in_features=1024, out_features=1024, bias=False)\n",
       "                    (relative_attention_bias): Embedding(32, 16)\n",
       "                  )\n",
       "                  (layer_norm): T5LayerNorm()\n",
       "                  (dropout): Dropout(p=0.1, inplace=False)\n",
       "                )\n",
       "                (1): T5LayerFF(\n",
       "                  (DenseReluDense): T5DenseActDense(\n",
       "                    (wi): Linear(in_features=1024, out_features=4096, bias=False)\n",
       "                    (wo): Linear(in_features=4096, out_features=1024, bias=False)\n",
       "                    (dropout): Dropout(p=0.1, inplace=False)\n",
       "                    (act): ReLU()\n",
       "                  )\n",
       "                  (layer_norm): T5LayerNorm()\n",
       "                  (dropout): Dropout(p=0.1, inplace=False)\n",
       "                )\n",
       "              )\n",
       "            )\n",
       "            (1-23): 23 x T5Block(\n",
       "              (layer): ModuleList(\n",
       "                (0): T5LayerSelfAttention(\n",
       "                  (SelfAttention): T5Attention(\n",
       "                    (q): lora.Linear(\n",
       "                      (base_layer): Linear(in_features=1024, out_features=1024, bias=False)\n",
       "                      (lora_dropout): ModuleDict(\n",
       "                        (default): Identity()\n",
       "                      )\n",
       "                      (lora_A): ModuleDict(\n",
       "                        (default): Linear(in_features=1024, out_features=32, bias=False)\n",
       "                      )\n",
       "                      (lora_B): ModuleDict(\n",
       "                        (default): Linear(in_features=32, out_features=1024, bias=False)\n",
       "                      )\n",
       "                      (lora_embedding_A): ParameterDict()\n",
       "                      (lora_embedding_B): ParameterDict()\n",
       "                    )\n",
       "                    (k): Linear(in_features=1024, out_features=1024, bias=False)\n",
       "                    (v): lora.Linear(\n",
       "                      (base_layer): Linear(in_features=1024, out_features=1024, bias=False)\n",
       "                      (lora_dropout): ModuleDict(\n",
       "                        (default): Identity()\n",
       "                      )\n",
       "                      (lora_A): ModuleDict(\n",
       "                        (default): Linear(in_features=1024, out_features=32, bias=False)\n",
       "                      )\n",
       "                      (lora_B): ModuleDict(\n",
       "                        (default): Linear(in_features=32, out_features=1024, bias=False)\n",
       "                      )\n",
       "                      (lora_embedding_A): ParameterDict()\n",
       "                      (lora_embedding_B): ParameterDict()\n",
       "                    )\n",
       "                    (o): Linear(in_features=1024, out_features=1024, bias=False)\n",
       "                  )\n",
       "                  (layer_norm): T5LayerNorm()\n",
       "                  (dropout): Dropout(p=0.1, inplace=False)\n",
       "                )\n",
       "                (1): T5LayerFF(\n",
       "                  (DenseReluDense): T5DenseActDense(\n",
       "                    (wi): Linear(in_features=1024, out_features=4096, bias=False)\n",
       "                    (wo): Linear(in_features=4096, out_features=1024, bias=False)\n",
       "                    (dropout): Dropout(p=0.1, inplace=False)\n",
       "                    (act): ReLU()\n",
       "                  )\n",
       "                  (layer_norm): T5LayerNorm()\n",
       "                  (dropout): Dropout(p=0.1, inplace=False)\n",
       "                )\n",
       "              )\n",
       "            )\n",
       "          )\n",
       "          (final_layer_norm): T5LayerNorm()\n",
       "          (dropout): Dropout(p=0.1, inplace=False)\n",
       "        )\n",
       "      )\n",
       "      (classification_head): ModulesToSaveWrapper(\n",
       "        (original_module): T5ClassificationHead(\n",
       "          (dense): Linear(in_features=1024, out_features=1024, bias=False)\n",
       "          (dropout): Dropout(p=0.0, inplace=False)\n",
       "          (out_proj): Linear(in_features=1024, out_features=14871, bias=False)\n",
       "        )\n",
       "        (modules_to_save): ModuleDict(\n",
       "          (default): T5ClassificationHead(\n",
       "            (dense): Linear(in_features=1024, out_features=1024, bias=False)\n",
       "            (dropout): Dropout(p=0.0, inplace=False)\n",
       "            (out_proj): Linear(in_features=1024, out_features=14871, bias=False)\n",
       "          )\n",
       "        )\n",
       "      )\n",
       "    )\n",
       "  )\n",
       ")"
      ]
     },
     "execution_count": 2,
     "metadata": {},
     "output_type": "execute_result"
    }
   ],
   "source": [
    "import os\n",
    "os.chdir('../')\n",
    "\n",
    "import sys \n",
    "sys.path.append('../')\n",
    "import time\n",
    "import pandas as pd \n",
    "import numpy as np\n",
    "import torch\n",
    "import openai\n",
    "from tqdm import tqdm\n",
    "from dotenv import load_dotenv\n",
    "from trainer.transformer_utilts import *\n",
    "from helper.dataloader import * \n",
    "import pickle\n",
    "from peft import get_peft_model\n",
    "from model.MF import sentenceT5Classification\n",
    "import argparse\n",
    "from tqdm import tqdm\n",
    "from peft import LoraConfig, TaskType\n",
    "import logging\n",
    "from nltk.translate.bleu_score import sentence_bleu\n",
    "from transformers import AutoTokenizer\n",
    "\n",
    "\n",
    "logging.basicConfig(filename=f'./logs/{time.time()}.log',level=logging.INFO)\n",
    "logging.info(f'Experiment started at {time.time()}')\n",
    "\n",
    "\n",
    "def parse_args(notebook = False):  # Parse command line arguments\n",
    "    parser = argparse.ArgumentParser(description=\"LLM4RecSys\")\n",
    "    parser.add_argument(\"--data_name\", default='ml-1m', type=str)\n",
    "    parser.add_argument(\"--direction\", default='down', type=str)\n",
    "    parser.add_argument(\"--bs\", default=32, type=int)\n",
    "    parser.add_argument(\"--target_index\", default=49, type=int)\n",
    "    parser.add_argument(\"--num_samples\", default=250, type=int)\n",
    "    parser.add_argument(\"--max_l\", default=260, type=int)\n",
    "    parser.add_argument(\"--debug_prompts\", default=False, type=bool)\n",
    "    parser.add_argument(\"--metadata_path\",default='./data_preprocessed/books/train.csv',type=str)\n",
    "    args = parser.parse_args() if not notebook else parser.parse_args(args=[])\n",
    "    args.scratch = '/home/mila/e/emiliano.penaloza/scratch'\n",
    "    return args\n",
    "args = parse_args(True)\n",
    "args.data_name = 'books'\n",
    "\n",
    "\n",
    "load_dotenv()\n",
    "max_l = args.max_l\n",
    "key = os.getenv(\"OPEN-AI-SECRET\")\n",
    "openai.api_key = key\n",
    "tokenizer = AutoTokenizer.from_pretrained(\"t5-large\")\n",
    "prompts,rec_dataloader,num_movies,val_dataloader,test_dataloader,_,_= load_data(args,tokenizer,0,1)\n",
    "\n",
    "# Load model and mapping dicts\n",
    "path = f'{args.scratch}/saved_model/{args.data_name}/t5_classification_embedding_module_t5_classification_l2_lambda_0.0_lora_r_32_scheduler_cosine_warmup_0.001_0.2.csv.pt'\n",
    "model = sentenceT5Classification.from_pretrained('t5-large', num_labels=num_movies)\n",
    "\n",
    "lora_config = LoraConfig(task_type=TaskType.SEQ_CLS, r=32, lora_alpha=16, lora_dropout=0,\n",
    "                            target_modules=[\"q\", \"v\"],\n",
    "                            modules_to_save=['classification_head'])\n",
    "model = get_peft_model(model, lora_config)\n",
    "model.load_state_dict(torch.load(path ,map_location=torch.device('cpu')))\n",
    "model.to(0)\n"
   ]
  },
  {
   "cell_type": "code",
   "execution_count": null,
   "metadata": {},
   "outputs": [],
   "source": [
    "example = '''\n",
    "Summary: The user has a distinct preference for fiction, particularly works that delve into science fiction, fantasy, and speculative narratives, \\\n",
    "    often with a touch of epic storytelling or significant historical context. \\\n",
    "    These genres resonate due to their imaginative scope and the ability to transport the audience to different realms or alternate realities,\\\n",
    "    offering complex world-building and often featuring iconic characters on journeys or missions with high stakes.\\\n",
    "    The user appreciates plots revolving around heroism, adventure, and warfare, both tactical and grandiose in scale, particularly those that interweave fictional\\\n",
    "    elements with historical nods or futuristic settings. In contrast, the user might not favor genres that are grounded strictly\\\n",
    "    in the current reality or those that focus on the more mundane aspects of life. For example, works strictly categorized under technology & engineering might \\\n",
    "    be less appealing if they lack the narrative drive or the philosophical underpinnings found in the user's preferred genres.\\\n",
    "    Autobiographies and strictly narrative-driven real-world historical events, without the infusion of dramatization or thematic depth, could potentially fall flat for the user,\\\n",
    "        despite their appreciation for history when it intertwines with fiction or grand storytelling.'''\n",
    "s = '''\n",
    "Summary: The user has a distinct preference for fiction, particularly works that delve into science fiction, and speculative narratives, \\\n",
    "    often with a touch of epic storytelling or significant historical context. \\\n",
    "    These genres resonate due to their imaginative scope and the ability to transport the audience to different realms or alternate realities,\\\n",
    "    offering complex world-building and often featuring iconic characters on journeys or missions with high stakes.\\\n",
    "    The user appreciates plots revolving around heroism, adventure, and warfare, both tactical and grandiose in scale, particularly those that interweave fictional\\\n",
    "    elements with  futuristic settings. In contrast, the user might not favor genres that are grounded strictly\\\n",
    "    in the current reality or those that focus on the more mundane aspects of life. For example, works strictly categorized under technology & engineering might \\\n",
    "    be less appealing if they lack the narrative drive or the philosophical underpinnings found in the user's preferred genres.\\\n",
    "    Autobiographies and strictly narrative-driven real-world historical events, without the infusion of dramatization or thematic depth, could potentially fall flat for the user,\\\n",
    "        despite their appreciation for history when it intertwines with fiction or grand storytelling.\n",
    "'''\n",
    "example_item = 'Star Wars: I, Jedi'"
   ]
  },
  {
   "cell_type": "code",
   "execution_count": 3,
   "metadata": {},
   "outputs": [],
   "source": [
    "example = '''\n",
    "Summary: The user has a distinct preference for fiction, particularly works that delve into science fiction, fantasy, and speculative narratives, \\\n",
    "    often with a touch of epic storytelling or significant historical context. \\\n",
    "    These genres resonate due to their imaginative scope and the ability to transport the audience to different realms or alternate realities,\\\n",
    "    offering complex world-building and often featuring iconic characters on journeys or missions with high stakes.\\\n",
    "    The user appreciates plots revolving around heroism, adventure, and warfare, both tactical and grandiose in scale, particularly those that interweave fictional\\\n",
    "    elements with historical nods or futuristic settings. In contrast, the user might not favor genres that are grounded strictly\\\n",
    "    in the current reality or those that focus on the more mundane aspects of life. For example, works strictly categorized under technology & engineering might \\\n",
    "    be less appealing if they lack the narrative drive or the philosophical underpinnings found in the user's preferred genres.\\\n",
    "    Autobiographies and strictly narrative-driven real-world historical events, without the infusion of dramatization or thematic depth, could potentially fall flat for the user,\\\n",
    "        despite their appreciation for history when it intertwines with fiction or grand storytelling.'''\n",
    "s = '''\n",
    "Summary: The user has a distinct preference for fiction, particularly works that delve into fantasy, and speculative narratives, \\\n",
    "    often with a touch of epic storytelling or significant historical context. \\\n",
    "    These genres resonate due to their imaginative scope and the ability to transport the audience to different realms or alternate realities.\\\n",
    "    The user appreciates plots revolving around heroism, adventure, both tactical and grandiose in scale, particularly those that interweave fictional\\\n",
    "    elements with historical nods. In contrast, the user might not favor genres that are grounded strictly\\\n",
    "    in the current reality or those that focus on the more mundane aspects of life. For example, works strictly categorized under technology & engineering might \\\n",
    "    be less appealing if they lack the narrative drive or the philosophical underpinnings found in the user's preferred genres.\\\n",
    "    Autobiographies and strictly narrative-driven real-world historical events, without the infusion of dramatization or thematic depth, could potentially fall flat for the user,\\\n",
    "        despite their appreciation for history when it intertwines with fiction or grand storytelling.\n",
    "'''\n",
    "example_item = 'Star Wars: I, Jedi'"
   ]
  },
  {
   "cell_type": "code",
   "execution_count": null,
   "metadata": {},
   "outputs": [
    {
     "data": {
      "text/plain": [
       "\"\\nSummary: The user has a distinct preference for fiction, particularly works that delve into science fiction, fantasy, and speculative narratives,     often with a touch of epic storytelling or significant historical context.     These genres resonate due to their imaginative scope and the ability to transport the audience to different realms or alternate realities,    offering complex world-building and often featuring iconic characters on journeys or missions with high stakes.    The user appreciates plots revolving around heroism, adventure, and warfare, both tactical and grandiose in scale, particularly those that interweave fictional    elements with historical nods or futuristic settings. In contrast, the user might not favor genres that are grounded strictly    in the current reality or those that focus on the more mundane aspects of life. For example, works strictly categorized under technology & engineering might     be less appealing if they lack the narrative drive or the philosophical underpinnings found in the user's preferred genres.    Autobiographies and strictly narrative-driven real-world historical events, without the infusion of dramatization or thematic depth, could potentially fall flat for the user,        despite their appreciation for history when it intertwines with fiction or grand storytelling.\""
      ]
     },
     "execution_count": 6,
     "metadata": {},
     "output_type": "execute_result"
    }
   ],
   "source": [
    "example"
   ]
  },
  {
   "cell_type": "code",
   "execution_count": null,
   "metadata": {},
   "outputs": [],
   "source": [
    "original = pd.read_csv(f'./results/{args.data_name}/gpt4_results_{taget_rank}_{direction}.csv')"
   ]
  },
  {
   "cell_type": "code",
   "execution_count": null,
   "metadata": {},
   "outputs": [],
   "source": [
    "original.to_csv(f'./results/{args.data_name}/gpt4_results_{taget_rank}_{direction}_old.csv')"
   ]
  },
  {
   "cell_type": "code",
   "execution_count": 4,
   "metadata": {},
   "outputs": [
    {
     "name": "stderr",
     "output_type": "stream",
     "text": [
      "  0%|          | 0/250 [00:00<?, ?it/s]"
     ]
    },
    {
     "name": "stdout",
     "output_type": "stream",
     "text": [
      "Proportion of deltas below zero: 0.0\n",
      "Proportion of deltas above zero: 1.0\n"
     ]
    },
    {
     "name": "stderr",
     "output_type": "stream",
     "text": [
      "Target item: Star Wars: I, Jedi, Original Ranking: Delta: 15 , Running mean Delta: 15.000,Running median Delta: 15.0, Mean BLEU Score: 0.711:   0%|          | 1/250 [00:10<42:41, 10.29s/it]"
     ]
    },
    {
     "name": "stdout",
     "output_type": "stream",
     "text": [
      "Proportion of deltas below zero: 0.5\n",
      "Proportion of deltas above zero: 0.5\n"
     ]
    },
    {
     "name": "stderr",
     "output_type": "stream",
     "text": [
      "Target item: Ringworld, Original Ranking: Delta: -278 , Running mean Delta: -131.500,Running median Delta: -131.5, Mean BLEU Score: 0.812:   1%|          | 2/250 [00:21<45:47, 11.08s/it]   "
     ]
    },
    {
     "name": "stdout",
     "output_type": "stream",
     "text": [
      "Proportion of deltas below zero: 0.6666666666666666\n",
      "Proportion of deltas above zero: 0.3333333333333333\n"
     ]
    },
    {
     "name": "stderr",
     "output_type": "stream",
     "text": [
      "Target item: The Romanov Prophecy, Original Ranking: Delta: -23 , Running mean Delta: -95.333,Running median Delta: -23.0, Mean BLEU Score: 0.837:   1%|          | 3/250 [00:32<44:13, 10.74s/it]"
     ]
    },
    {
     "name": "stdout",
     "output_type": "stream",
     "text": [
      "Proportion of deltas below zero: 0.5\n",
      "Proportion of deltas above zero: 0.5\n"
     ]
    },
    {
     "name": "stderr",
     "output_type": "stream",
     "text": [
      "Target item: A tree grows in Brooklyn: A novel (Armed Services edition), Original Ranking: Delta: 18 , Running mean Delta: -67.000,Running median Delta: -4.0, Mean BLEU Score: 0.830:   2%|▏         | 4/250 [00:40<40:24,  9.86s/it]"
     ]
    },
    {
     "name": "stdout",
     "output_type": "stream",
     "text": [
      "Proportion of deltas below zero: 0.6\n",
      "Proportion of deltas above zero: 0.4\n"
     ]
    },
    {
     "name": "stderr",
     "output_type": "stream",
     "text": [
      "Target item: Wuthering Heights (College classics in English), Original Ranking: Delta: -8 , Running mean Delta: -55.200,Running median Delta: -8.0, Mean BLEU Score: 0.823:   2%|▏         | 5/250 [00:47<35:14,  8.63s/it]           "
     ]
    },
    {
     "name": "stdout",
     "output_type": "stream",
     "text": [
      "Proportion of deltas below zero: 0.6666666666666666\n",
      "Proportion of deltas above zero: 0.3333333333333333\n"
     ]
    },
    {
     "name": "stderr",
     "output_type": "stream",
     "text": [
      "Target item: Soul on Ice, Original Ranking: Delta: -17 , Running mean Delta: -48.833,Running median Delta: -12.5, Mean BLEU Score: 0.825:   2%|▏         | 6/250 [01:04<46:30, 11.44s/it]                                  "
     ]
    },
    {
     "name": "stdout",
     "output_type": "stream",
     "text": [
      "Proportion of deltas below zero: 0.5714285714285714\n",
      "Proportion of deltas above zero: 0.42857142857142855\n"
     ]
    },
    {
     "name": "stderr",
     "output_type": "stream",
     "text": [
      "Target item: The No. 1 Ladies' Detective Agency, Original Ranking: Delta: 16 , Running mean Delta: -39.571,Running median Delta: -8.0, Mean BLEU Score: 0.823:   3%|▎         | 7/250 [01:08<36:36,  9.04s/it]"
     ]
    },
    {
     "name": "stdout",
     "output_type": "stream",
     "text": [
      "Proportion of deltas below zero: 0.625\n",
      "Proportion of deltas above zero: 0.375\n"
     ]
    },
    {
     "name": "stderr",
     "output_type": "stream",
     "text": [
      "Target item: All quiet on the western front;, Original Ranking: Delta: -48 , Running mean Delta: -40.625,Running median Delta: -12.5, Mean BLEU Score: 0.822:   3%|▎         | 8/250 [01:12<30:31,  7.57s/it] "
     ]
    },
    {
     "name": "stdout",
     "output_type": "stream",
     "text": [
      "Proportion of deltas below zero: 0.6666666666666666\n",
      "Proportion of deltas above zero: 0.3333333333333333\n"
     ]
    },
    {
     "name": "stderr",
     "output_type": "stream",
     "text": [
      "Target item: OF MICE AND MEN, Original Ranking: Delta: -12 , Running mean Delta: -37.444,Running median Delta: -12.0, Mean BLEU Score: 0.819:   4%|▎         | 9/250 [01:19<28:58,  7.22s/it]                "
     ]
    },
    {
     "name": "stdout",
     "output_type": "stream",
     "text": [
      "Proportion of deltas below zero: 0.6\n",
      "Proportion of deltas above zero: 0.4\n"
     ]
    },
    {
     "name": "stderr",
     "output_type": "stream",
     "text": [
      "Target item: Of Mice and Men (Penguin Audiobooks), Original Ranking: Delta: 1 , Running mean Delta: -33.600,Running median Delta: -10.0, Mean BLEU Score: 0.828:   4%|▍         | 10/250 [01:23<25:27,  6.37s/it]"
     ]
    },
    {
     "name": "stdout",
     "output_type": "stream",
     "text": [
      "Proportion of deltas below zero: 0.6363636363636364\n",
      "Proportion of deltas above zero: 0.36363636363636365\n"
     ]
    },
    {
     "name": "stderr",
     "output_type": "stream",
     "text": [
      "Target item: Sense and sensibility, Original Ranking: Delta: -4 , Running mean Delta: -30.909,Running median Delta: -8.0, Mean BLEU Score: 0.801:   4%|▍         | 11/250 [01:30<25:32,  6.41s/it]               "
     ]
    },
    {
     "name": "stdout",
     "output_type": "stream",
     "text": [
      "Proportion of deltas below zero: 0.5833333333333334\n",
      "Proportion of deltas above zero: 0.4166666666666667\n"
     ]
    },
    {
     "name": "stderr",
     "output_type": "stream",
     "text": [
      "Target item: The bridge of San Luis Rey, Original Ranking: Delta: 38 , Running mean Delta: -25.167,Running median Delta: -6.0, Mean BLEU Score: 0.813:   5%|▍         | 12/250 [01:34<22:49,  5.75s/it]"
     ]
    },
    {
     "name": "stdout",
     "output_type": "stream",
     "text": [
      "Proportion of deltas below zero: 0.6153846153846154\n",
      "Proportion of deltas above zero: 0.38461538461538464\n"
     ]
    },
    {
     "name": "stderr",
     "output_type": "stream",
     "text": [
      "Target item: Journey to the Center of the Earth, Original Ranking: Delta: -35 , Running mean Delta: -25.923,Running median Delta: -8.0, Mean BLEU Score: 0.810:   5%|▌         | 13/250 [01:40<23:18,  5.90s/it]"
     ]
    },
    {
     "name": "stdout",
     "output_type": "stream",
     "text": [
      "Proportion of deltas below zero: 0.6428571428571429\n",
      "Proportion of deltas above zero: 0.35714285714285715\n"
     ]
    },
    {
     "name": "stderr",
     "output_type": "stream",
     "text": [
      "Target item: Redwall: Redwall, Book 1, Original Ranking: Delta: -201 , Running mean Delta: -38.429,Running median Delta: -10.0, Mean BLEU Score: 0.812:   6%|▌         | 14/250 [01:49<27:09,  6.90s/it]        "
     ]
    },
    {
     "name": "stdout",
     "output_type": "stream",
     "text": [
      "Proportion of deltas below zero: 0.6666666666666666\n",
      "Proportion of deltas above zero: 0.3333333333333333\n"
     ]
    },
    {
     "name": "stderr",
     "output_type": "stream",
     "text": [
      "Target item: Night, Original Ranking: Delta: -42 , Running mean Delta: -38.667,Running median Delta: -12.0, Mean BLEU Score: 0.817:   6%|▌         | 15/250 [01:55<25:35,  6.53s/it]                    "
     ]
    },
    {
     "name": "stdout",
     "output_type": "stream",
     "text": [
      "Proportion of deltas below zero: 0.6875\n",
      "Proportion of deltas above zero: 0.3125\n"
     ]
    },
    {
     "name": "stderr",
     "output_type": "stream",
     "text": [
      "Target item: Prescription for Nutritional Healing: A Practical A-Z Reference to Drug-Free Remedies Using Vitamins, Minerals, Herbs & Food Supplements, Original Ranking: Delta: -7 , Running mean Delta: -36.688,Running median Delta: -10.0, Mean BLEU Score: 0.818:   6%|▋         | 16/250 [02:00<23:31,  6.03s/it]"
     ]
    },
    {
     "name": "stdout",
     "output_type": "stream",
     "text": [
      "Proportion of deltas below zero: 0.7058823529411765\n",
      "Proportion of deltas above zero: 0.29411764705882354\n"
     ]
    },
    {
     "name": "stderr",
     "output_type": "stream",
     "text": [
      "Target item: My Utmost for His Highest: Selections for the Year- The Golden Book of Oswald Chambers, Original Ranking: Delta: -12 , Running mean Delta: -35.235,Running median Delta: -12.0, Mean BLEU Score: 0.825:   7%|▋         | 17/250 [02:05<22:54,  5.90s/it]                                                 "
     ]
    },
    {
     "name": "stdout",
     "output_type": "stream",
     "text": [
      "Proportion of deltas below zero: 0.7222222222222222\n",
      "Proportion of deltas above zero: 0.2777777777777778\n"
     ]
    },
    {
     "name": "stderr",
     "output_type": "stream",
     "text": [
      "Target item: Computational study of the aerodynamics and control of the asymmetric vortical flows over Delta wings (JIAA TR), Original Ranking: Delta: -75 , Running mean Delta: -37.444,Running median Delta: -12.0, Mean BLEU Score: 0.819:   7%|▋         | 18/250 [02:14<25:33,  6.61s/it]"
     ]
    },
    {
     "name": "stdout",
     "output_type": "stream",
     "text": [
      "Proportion of deltas below zero: 0.6842105263157895\n",
      "Proportion of deltas above zero: 0.3157894736842105\n"
     ]
    },
    {
     "name": "stderr",
     "output_type": "stream",
     "text": [
      "Target item: The No. 1 Ladies' Detective Agency, Original Ranking: Delta: 9 , Running mean Delta: -35.000,Running median Delta: -12.0, Mean BLEU Score: 0.819:   8%|▊         | 19/250 [02:19<23:36,  6.13s/it]                                                                               "
     ]
    },
    {
     "name": "stdout",
     "output_type": "stream",
     "text": [
      "Proportion of deltas below zero: 0.65\n",
      "Proportion of deltas above zero: 0.35\n"
     ]
    },
    {
     "name": "stderr",
     "output_type": "stream",
     "text": [
      "Target item: The Time Machine: An Invention, Original Ranking: Delta: 38 , Running mean Delta: -31.350,Running median Delta: -10.0, Mean BLEU Score: 0.823:   8%|▊         | 20/250 [02:25<23:14,  6.06s/it]   "
     ]
    },
    {
     "name": "stdout",
     "output_type": "stream",
     "text": [
      "Proportion of deltas below zero: 0.6190476190476191\n",
      "Proportion of deltas above zero: 0.38095238095238093\n"
     ]
    },
    {
     "name": "stderr",
     "output_type": "stream",
     "text": [
      "Target item: Emma, Original Ranking: Delta: 9 , Running mean Delta: -29.429,Running median Delta: -8.0, Mean BLEU Score: 0.824:   8%|▊         | 21/250 [02:30<21:52,  5.73s/it]                            "
     ]
    },
    {
     "name": "stdout",
     "output_type": "stream",
     "text": [
      "Proportion of deltas below zero: 0.5909090909090909\n",
      "Proportion of deltas above zero: 0.4090909090909091\n"
     ]
    },
    {
     "name": "stderr",
     "output_type": "stream",
     "text": [
      "Target item: Speaker for the Dead, Original Ranking: Delta: 12 , Running mean Delta: -27.545,Running median Delta: -7.5, Mean BLEU Score: 0.829:   9%|▉         | 22/250 [02:34<20:48,  5.48s/it]"
     ]
    },
    {
     "name": "stdout",
     "output_type": "stream",
     "text": [
      "Proportion of deltas below zero: 0.6086956521739131\n",
      "Proportion of deltas above zero: 0.391304347826087\n"
     ]
    },
    {
     "name": "stderr",
     "output_type": "stream",
     "text": [
      "Target item: Bad Company, Original Ranking: Delta: -141 , Running mean Delta: -32.478,Running median Delta: -8.0, Mean BLEU Score: 0.829:   9%|▉         | 23/250 [02:40<21:06,  5.58s/it]       "
     ]
    },
    {
     "name": "stdout",
     "output_type": "stream",
     "text": [
      "Proportion of deltas below zero: 0.625\n",
      "Proportion of deltas above zero: 0.375\n"
     ]
    },
    {
     "name": "stderr",
     "output_type": "stream",
     "text": [
      "Target item: Imperium, Original Ranking: Delta: -155 , Running mean Delta: -37.583,Running median Delta: -10.0, Mean BLEU Score: 0.828:  10%|▉         | 24/250 [02:48<23:48,  6.32s/it]  "
     ]
    },
    {
     "name": "stdout",
     "output_type": "stream",
     "text": [
      "Proportion of deltas below zero: 0.64\n",
      "Proportion of deltas above zero: 0.36\n"
     ]
    },
    {
     "name": "stderr",
     "output_type": "stream",
     "text": [
      "Target item: Sharpe's Revenge (The Sharpe Series), Original Ranking: Delta: -10 , Running mean Delta: -36.480,Running median Delta: -10.0, Mean BLEU Score: 0.827:  10%|█         | 25/250 [02:55<24:37,  6.57s/it]"
     ]
    },
    {
     "name": "stdout",
     "output_type": "stream",
     "text": [
      "Proportion of deltas below zero: 0.6538461538461539\n",
      "Proportion of deltas above zero: 0.34615384615384615\n"
     ]
    },
    {
     "name": "stderr",
     "output_type": "stream",
     "text": [
      "Target item: The Pact: A Love Story, Original Ranking: Delta: -2 , Running mean Delta: -35.154,Running median Delta: -9.0, Mean BLEU Score: 0.834:  10%|█         | 26/250 [03:10<33:21,  8.93s/it]                "
     ]
    },
    {
     "name": "stdout",
     "output_type": "stream",
     "text": [
      "Proportion of deltas below zero: 0.6666666666666666\n",
      "Proportion of deltas above zero: 0.3333333333333333\n"
     ]
    },
    {
     "name": "stderr",
     "output_type": "stream",
     "text": [
      "Target item: The self-publishing manual: How to write, print & sell your own book, Original Ranking: Delta: -14 , Running mean Delta: -34.370,Running median Delta: -10.0, Mean BLEU Score: 0.829:  11%|█         | 27/250 [03:15<28:26,  7.65s/it]"
     ]
    },
    {
     "name": "stdout",
     "output_type": "stream",
     "text": [
      "Proportion of deltas below zero: 0.6785714285714286\n",
      "Proportion of deltas above zero: 0.32142857142857145\n"
     ]
    },
    {
     "name": "stderr",
     "output_type": "stream",
     "text": [
      "Target item: Moby Dick or the White Whale, Original Ranking: Delta: -37 , Running mean Delta: -34.464,Running median Delta: -11.0, Mean BLEU Score: 0.830:  11%|█         | 28/250 [03:20<26:04,  7.05s/it]                                        "
     ]
    },
    {
     "name": "stdout",
     "output_type": "stream",
     "text": [
      "Proportion of deltas below zero: 0.6896551724137931\n",
      "Proportion of deltas above zero: 0.3103448275862069\n"
     ]
    },
    {
     "name": "stderr",
     "output_type": "stream",
     "text": [
      "Target item: The History of Love, Original Ranking: Delta: -13 , Running mean Delta: -33.724,Running median Delta: -12.0, Mean BLEU Score: 0.830:  12%|█▏        | 29/250 [03:24<22:30,  6.11s/it]         "
     ]
    },
    {
     "name": "stdout",
     "output_type": "stream",
     "text": [
      "Proportion of deltas below zero: 0.7\n",
      "Proportion of deltas above zero: 0.3\n"
     ]
    },
    {
     "name": "stderr",
     "output_type": "stream",
     "text": [
      "Target item: Northanger abbey (The World's classics), Original Ranking: Delta: -36 , Running mean Delta: -33.800,Running median Delta: -12.0, Mean BLEU Score: 0.832:  12%|█▏        | 30/250 [03:28<20:20,  5.55s/it]"
     ]
    },
    {
     "name": "stdout",
     "output_type": "stream",
     "text": [
      "Proportion of deltas below zero: 0.7096774193548387\n",
      "Proportion of deltas above zero: 0.2903225806451613\n"
     ]
    },
    {
     "name": "stderr",
     "output_type": "stream",
     "text": [
      "Target item: Six Days of War: June 1967 and the Making of the Modern Middle East, Original Ranking: Delta: -47 , Running mean Delta: -34.226,Running median Delta: -12.0, Mean BLEU Score: 0.831:  12%|█▏        | 31/250 [03:34<20:36,  5.65s/it]"
     ]
    },
    {
     "name": "stdout",
     "output_type": "stream",
     "text": [
      "Proportion of deltas below zero: 0.6875\n",
      "Proportion of deltas above zero: 0.3125\n"
     ]
    },
    {
     "name": "stderr",
     "output_type": "stream",
     "text": [
      "Target item: ONE HUNDRED YEARS OF SOLITUDE, Original Ranking: Delta: 1 , Running mean Delta: -33.125,Running median Delta: -12.0, Mean BLEU Score: 0.834:  13%|█▎        | 32/250 [03:41<21:23,  5.89s/it]                                        "
     ]
    },
    {
     "name": "stdout",
     "output_type": "stream",
     "text": [
      "Proportion of deltas below zero: 0.696969696969697\n",
      "Proportion of deltas above zero: 0.30303030303030304\n"
     ]
    },
    {
     "name": "stderr",
     "output_type": "stream",
     "text": [
      "Target item: How to Talk to a Liberal (If You Must): The World According to Ann Coulter, Original Ranking: Delta: -16 , Running mean Delta: -32.606,Running median Delta: -12.0, Mean BLEU Score: 0.836:  13%|█▎        | 33/250 [03:52<26:50,  7.42s/it]"
     ]
    },
    {
     "name": "stdout",
     "output_type": "stream",
     "text": [
      "Proportion of deltas below zero: 0.6764705882352942\n",
      "Proportion of deltas above zero: 0.3235294117647059\n"
     ]
    },
    {
     "name": "stderr",
     "output_type": "stream",
     "text": [
      "Target item: Of Mice and Men Hb (New Windmill), Original Ranking: Delta: 7 , Running mean Delta: -31.441,Running median Delta: -12.0, Mean BLEU Score: 0.838:  14%|█▎        | 34/250 [04:02<29:50,  8.29s/it]                                           "
     ]
    },
    {
     "name": "stdout",
     "output_type": "stream",
     "text": [
      "Proportion of deltas below zero: 0.6571428571428571\n",
      "Proportion of deltas above zero: 0.34285714285714286\n"
     ]
    },
    {
     "name": "stderr",
     "output_type": "stream",
     "text": [
      "Target item: Liar's Poker: Rising Through the Wreckage on Wall Street, Original Ranking: Delta: 41 , Running mean Delta: -29.371,Running median Delta: -12.0, Mean BLEU Score: 0.835:  14%|█▍        | 35/250 [04:12<31:18,  8.74s/it]"
     ]
    },
    {
     "name": "stdout",
     "output_type": "stream",
     "text": [
      "Proportion of deltas below zero: 0.6666666666666666\n",
      "Proportion of deltas above zero: 0.3333333333333333\n"
     ]
    },
    {
     "name": "stderr",
     "output_type": "stream",
     "text": [
      "Target item: The Mystery of Capital: Why Capitalism Triumphs in the West and Fails Everywhere Else, Original Ranking: Delta: -17 , Running mean Delta: -29.028,Running median Delta: -12.0, Mean BLEU Score: 0.838:  14%|█▍        | 36/250 [04:25<35:34,  9.97s/it]"
     ]
    },
    {
     "name": "stdout",
     "output_type": "stream",
     "text": [
      "Proportion of deltas below zero: 0.6486486486486487\n",
      "Proportion of deltas above zero: 0.35135135135135137\n"
     ]
    },
    {
     "name": "stderr",
     "output_type": "stream",
     "text": [
      "Target item: Dune, Original Ranking: Delta: 14 , Running mean Delta: -27.865,Running median Delta: -12.0, Mean BLEU Score: 0.837:  15%|█▍        | 37/250 [04:33<33:27,  9.42s/it]                                                                                  "
     ]
    },
    {
     "name": "stdout",
     "output_type": "stream",
     "text": [
      "Proportion of deltas below zero: 0.6578947368421053\n",
      "Proportion of deltas above zero: 0.34210526315789475\n"
     ]
    },
    {
     "name": "stderr",
     "output_type": "stream",
     "text": [
      "Target item: A Wizard of Earthsea (Earthsea Trilogy Ser.), Original Ranking: Delta: -27 , Running mean Delta: -27.842,Running median Delta: -12.0, Mean BLEU Score: 0.840:  15%|█▌        | 38/250 [04:43<34:14,  9.69s/it]"
     ]
    },
    {
     "name": "stdout",
     "output_type": "stream",
     "text": [
      "Proportion of deltas below zero: 0.6410256410256411\n",
      "Proportion of deltas above zero: 0.358974358974359\n"
     ]
    },
    {
     "name": "stderr",
     "output_type": "stream",
     "text": [
      "Target item: Genome: The Autobiography of a Species in 23 Chapters, Original Ranking: Delta: 12 , Running mean Delta: -26.821,Running median Delta: -12.0, Mean BLEU Score: 0.834:  16%|█▌        | 39/250 [04:49<29:43,  8.45s/it]"
     ]
    },
    {
     "name": "stdout",
     "output_type": "stream",
     "text": [
      "Proportion of deltas below zero: 0.65\n",
      "Proportion of deltas above zero: 0.35\n"
     ]
    },
    {
     "name": "stderr",
     "output_type": "stream",
     "text": [
      "Target item: Middlemarch: A Study of Provincial Life, Original Ranking: Delta: -4 , Running mean Delta: -26.250,Running median Delta: -11.0, Mean BLEU Score: 0.834:  16%|█▌        | 40/250 [04:56<28:39,  8.19s/it]              "
     ]
    },
    {
     "name": "stdout",
     "output_type": "stream",
     "text": [
      "Proportion of deltas below zero: 0.6341463414634146\n",
      "Proportion of deltas above zero: 0.36585365853658536\n"
     ]
    },
    {
     "name": "stderr",
     "output_type": "stream",
     "text": [
      "Target item: The Unpleasantness at the Bellona Club, Original Ranking: Delta: 19 , Running mean Delta: -25.146,Running median Delta: -10.0, Mean BLEU Score: 0.837:  16%|█▋        | 41/250 [05:02<26:16,  7.54s/it] "
     ]
    },
    {
     "name": "stdout",
     "output_type": "stream",
     "text": [
      "Proportion of deltas below zero: 0.6428571428571429\n",
      "Proportion of deltas above zero: 0.35714285714285715\n"
     ]
    },
    {
     "name": "stderr",
     "output_type": "stream",
     "text": [
      "Target item: Visions of Sugar Plums, Original Ranking: Delta: -15 , Running mean Delta: -24.905,Running median Delta: -11.0, Mean BLEU Score: 0.832:  17%|█▋        | 42/250 [05:08<24:41,  7.12s/it]               "
     ]
    },
    {
     "name": "stdout",
     "output_type": "stream",
     "text": [
      "Proportion of deltas below zero: 0.627906976744186\n",
      "Proportion of deltas above zero: 0.37209302325581395\n"
     ]
    },
    {
     "name": "stderr",
     "output_type": "stream",
     "text": [
      "Target item: The Rise and Fall of the Third Reich, Original Ranking: Delta: 6 , Running mean Delta: -24.186,Running median Delta: -10.0, Mean BLEU Score: 0.827:  17%|█▋        | 43/250 [05:14<23:09,  6.71s/it]"
     ]
    },
    {
     "name": "stdout",
     "output_type": "stream",
     "text": [
      "Proportion of deltas below zero: 0.6136363636363636\n",
      "Proportion of deltas above zero: 0.38636363636363635\n"
     ]
    },
    {
     "name": "stderr",
     "output_type": "stream",
     "text": [
      "Target item: Heart of Darkness (Everyman Classics), Original Ranking: Delta: 45 , Running mean Delta: -22.614,Running median Delta: -9.0, Mean BLEU Score: 0.828:  18%|█▊        | 44/250 [05:20<22:08,  6.45s/it]"
     ]
    },
    {
     "name": "stdout",
     "output_type": "stream",
     "text": [
      "Proportion of deltas below zero: 0.6222222222222222\n",
      "Proportion of deltas above zero: 0.37777777777777777\n"
     ]
    },
    {
     "name": "stderr",
     "output_type": "stream",
     "text": [
      "Target item: Give Me a Break : How I Exposed Hucksters, Cheats, and Scam Artists and Became the Scourge of the Liberal Media..., Original Ranking: Delta: -3 , Running mean Delta: -22.178,Running median Delta: -8.0, Mean BLEU Score: 0.824:  18%|█▊        | 45/250 [05:24<19:28,  5.70s/it]"
     ]
    },
    {
     "name": "stdout",
     "output_type": "stream",
     "text": [
      "Proportion of deltas below zero: 0.6304347826086957\n",
      "Proportion of deltas above zero: 0.3695652173913043\n"
     ]
    },
    {
     "name": "stderr",
     "output_type": "stream",
     "text": [
      "Target item: NEW EARTH, Original Ranking: Delta: -94 , Running mean Delta: -23.739,Running median Delta: -9.0, Mean BLEU Score: 0.823:  18%|█▊        | 46/250 [05:35<24:41,  7.26s/it]                                                                                                        "
     ]
    },
    {
     "name": "stdout",
     "output_type": "stream",
     "text": [
      "Proportion of deltas below zero: 0.6170212765957447\n",
      "Proportion of deltas above zero: 0.3829787234042553\n"
     ]
    },
    {
     "name": "stderr",
     "output_type": "stream",
     "text": [
      "Target item: The Two Towers, Original Ranking: Delta: 21 , Running mean Delta: -22.787,Running median Delta: -8.0, Mean BLEU Score: 0.825:  19%|█▉        | 47/250 [05:45<27:56,  8.26s/it]"
     ]
    },
    {
     "name": "stdout",
     "output_type": "stream",
     "text": [
      "Proportion of deltas below zero: 0.6041666666666666\n",
      "Proportion of deltas above zero: 0.3958333333333333\n"
     ]
    },
    {
     "name": "stderr",
     "output_type": "stream",
     "text": [
      "Target item: The scarlet letter: a romance, Original Ranking: Delta: 1 , Running mean Delta: -22.292,Running median Delta: -7.5, Mean BLEU Score: 0.823:  19%|█▉        | 48/250 [05:51<24:59,  7.43s/it]"
     ]
    },
    {
     "name": "stdout",
     "output_type": "stream",
     "text": [
      "Proportion of deltas below zero: 0.6122448979591837\n",
      "Proportion of deltas above zero: 0.3877551020408163\n"
     ]
    },
    {
     "name": "stderr",
     "output_type": "stream",
     "text": [
      "Target item: THIRD SECRET: A Novel Of Suspense (H), Original Ranking: Delta: -368 , Running mean Delta: -29.347,Running median Delta: -8.0, Mean BLEU Score: 0.821:  20%|█▉        | 49/250 [05:57<23:25,  6.99s/it]"
     ]
    },
    {
     "name": "stdout",
     "output_type": "stream",
     "text": [
      "Proportion of deltas below zero: 0.62\n",
      "Proportion of deltas above zero: 0.38\n"
     ]
    },
    {
     "name": "stderr",
     "output_type": "stream",
     "text": [
      "Target item: The Kalahari Typing School for Men: More from the No. 1 Ladies' Detective Agency, Original Ranking: Delta: -10 , Running mean Delta: -28.960,Running median Delta: -9.0, Mean BLEU Score: 0.822:  20%|██        | 50/250 [06:01<20:49,  6.25s/it]"
     ]
    },
    {
     "name": "stdout",
     "output_type": "stream",
     "text": [
      "Proportion of deltas below zero: 0.6274509803921569\n",
      "Proportion of deltas above zero: 0.37254901960784315\n"
     ]
    },
    {
     "name": "stderr",
     "output_type": "stream",
     "text": [
      "Target item: Jane Eyre, Original Ranking: Delta: -43 , Running mean Delta: -29.235,Running median Delta: -10.0, Mean BLEU Score: 0.823:  20%|██        | 51/250 [06:11<23:51,  7.19s/it]                                                                      "
     ]
    },
    {
     "name": "stdout",
     "output_type": "stream",
     "text": [
      "Proportion of deltas below zero: 0.6346153846153846\n",
      "Proportion of deltas above zero: 0.36538461538461536\n"
     ]
    },
    {
     "name": "stderr",
     "output_type": "stream",
     "text": [
      "Target item: Social Intelligence: The New Science of Human Relationships (Random House Large Print), Original Ranking: Delta: -38 , Running mean Delta: -29.404,Running median Delta: -10.0, Mean BLEU Score: 0.824:  21%|██        | 52/250 [06:15<20:59,  6.36s/it]"
     ]
    },
    {
     "name": "stdout",
     "output_type": "stream",
     "text": [
      "Proportion of deltas below zero: 0.6226415094339622\n",
      "Proportion of deltas above zero: 0.37735849056603776\n"
     ]
    },
    {
     "name": "stderr",
     "output_type": "stream",
     "text": [
      "Target item: Heart of Darkness and the Secret Sharer, Original Ranking: Delta: 39 , Running mean Delta: -28.113,Running median Delta: -10.0, Mean BLEU Score: 0.823:  21%|██        | 53/250 [06:23<21:57,  6.69s/it]                                                "
     ]
    },
    {
     "name": "stdout",
     "output_type": "stream",
     "text": [
      "Proportion of deltas below zero: 0.6296296296296297\n",
      "Proportion of deltas above zero: 0.37037037037037035\n"
     ]
    },
    {
     "name": "stderr",
     "output_type": "stream",
     "text": [
      "Target item: The great divorce, Original Ranking: Delta: -44 , Running mean Delta: -28.407,Running median Delta: -10.0, Mean BLEU Score: 0.823:  22%|██▏       | 54/250 [06:32<24:30,  7.50s/it]                     "
     ]
    },
    {
     "name": "stdout",
     "output_type": "stream",
     "text": [
      "Proportion of deltas below zero: 0.6363636363636364\n",
      "Proportion of deltas above zero: 0.36363636363636365\n"
     ]
    },
    {
     "name": "stderr",
     "output_type": "stream",
     "text": [
      "Target item: The Bean Trees, Original Ranking: Delta: -21 , Running mean Delta: -28.273,Running median Delta: -10.0, Mean BLEU Score: 0.825:  22%|██▏       | 55/250 [06:43<27:15,  8.39s/it]   "
     ]
    },
    {
     "name": "stdout",
     "output_type": "stream",
     "text": [
      "Proportion of deltas below zero: 0.625\n",
      "Proportion of deltas above zero: 0.375\n"
     ]
    },
    {
     "name": "stderr",
     "output_type": "stream",
     "text": [
      "Target item: The Lord of the Rings Trilogy 3 Volumes, Original Ranking: Delta: 14 , Running mean Delta: -27.518,Running median Delta: -10.0, Mean BLEU Score: 0.823:  22%|██▏       | 56/250 [06:47<23:25,  7.24s/it]"
     ]
    },
    {
     "name": "stdout",
     "output_type": "stream",
     "text": [
      "Proportion of deltas below zero: 0.631578947368421\n",
      "Proportion of deltas above zero: 0.3684210526315789\n"
     ]
    },
    {
     "name": "stderr",
     "output_type": "stream",
     "text": [
      "Target item: Fortune of War, The, Original Ranking: Delta: -29 , Running mean Delta: -27.544,Running median Delta: -10.0, Mean BLEU Score: 0.825:  23%|██▎       | 57/250 [06:56<25:01,  7.78s/it]                   "
     ]
    },
    {
     "name": "stdout",
     "output_type": "stream",
     "text": [
      "Proportion of deltas below zero: 0.6206896551724138\n",
      "Proportion of deltas above zero: 0.3793103448275862\n"
     ]
    },
    {
     "name": "stderr",
     "output_type": "stream",
     "text": [
      "Target item: Dracula (G. K. Hall (Large Print)), Original Ranking: Delta: 1 , Running mean Delta: -27.052,Running median Delta: -10.0, Mean BLEU Score: 0.826:  23%|██▎       | 58/250 [07:03<23:42,  7.41s/it]"
     ]
    },
    {
     "name": "stdout",
     "output_type": "stream",
     "text": [
      "Proportion of deltas below zero: 0.6101694915254238\n",
      "Proportion of deltas above zero: 0.3898305084745763\n"
     ]
    },
    {
     "name": "stderr",
     "output_type": "stream",
     "text": [
      "Target item: The Color of Water, Original Ranking: Delta: 1 , Running mean Delta: -26.576,Running median Delta: -10.0, Mean BLEU Score: 0.825:  24%|██▎       | 59/250 [07:08<21:47,  6.84s/it]                "
     ]
    },
    {
     "name": "stdout",
     "output_type": "stream",
     "text": [
      "Proportion of deltas below zero: 0.6\n",
      "Proportion of deltas above zero: 0.4\n"
     ]
    },
    {
     "name": "stderr",
     "output_type": "stream",
     "text": [
      "Target item: The Worldly Philosophers: The Lives, Times And Ideas Of The Great Economic Thinkers, Seventh Edition, Original Ranking: Delta: 16 , Running mean Delta: -25.867,Running median Delta: -9.0, Mean BLEU Score: 0.822:  24%|██▍       | 60/250 [07:13<19:53,  6.28s/it]"
     ]
    },
    {
     "name": "stdout",
     "output_type": "stream",
     "text": [
      "Proportion of deltas below zero: 0.6065573770491803\n",
      "Proportion of deltas above zero: 0.39344262295081966\n"
     ]
    },
    {
     "name": "stderr",
     "output_type": "stream",
     "text": [
      "Target item: Fortune of War, The, Original Ranking: Delta: -75 , Running mean Delta: -26.672,Running median Delta: -10.0, Mean BLEU Score: 0.824:  24%|██▍       | 61/250 [07:17<17:52,  5.67s/it]                                                                               "
     ]
    },
    {
     "name": "stdout",
     "output_type": "stream",
     "text": [
      "Proportion of deltas below zero: 0.6129032258064516\n",
      "Proportion of deltas above zero: 0.3870967741935484\n"
     ]
    },
    {
     "name": "stderr",
     "output_type": "stream",
     "text": [
      "Target item: Alice's Adventures in Wonderland and Through the Looking Glass, Original Ranking: Delta: -51 , Running mean Delta: -27.065,Running median Delta: -10.0, Mean BLEU Score: 0.825:  25%|██▍       | 62/250 [07:24<18:16,  5.83s/it]"
     ]
    },
    {
     "name": "stdout",
     "output_type": "stream",
     "text": [
      "Proportion of deltas below zero: 0.6190476190476191\n",
      "Proportion of deltas above zero: 0.38095238095238093\n"
     ]
    },
    {
     "name": "stderr",
     "output_type": "stream",
     "text": [
      "Target item: Shutter Island, Original Ranking: Delta: -6 , Running mean Delta: -26.730,Running median Delta: -10.0, Mean BLEU Score: 0.826:  25%|██▌       | 63/250 [07:29<18:00,  5.78s/it]                                                 "
     ]
    },
    {
     "name": "stdout",
     "output_type": "stream",
     "text": [
      "Proportion of deltas below zero: 0.625\n",
      "Proportion of deltas above zero: 0.375\n"
     ]
    },
    {
     "name": "stderr",
     "output_type": "stream",
     "text": [
      "Target item: The Lincoln Lawyer, Original Ranking: Delta: -19 , Running mean Delta: -26.609,Running median Delta: -10.0, Mean BLEU Score: 0.827:  26%|██▌       | 64/250 [07:35<18:09,  5.86s/it]"
     ]
    },
    {
     "name": "stdout",
     "output_type": "stream",
     "text": [
      "Proportion of deltas below zero: 0.6307692307692307\n",
      "Proportion of deltas above zero: 0.36923076923076925\n"
     ]
    },
    {
     "name": "stderr",
     "output_type": "stream",
     "text": [
      "Target item: Night Shift (Signet), Original Ranking: Delta: -20 , Running mean Delta: -26.508,Running median Delta: -10.0, Mean BLEU Score: 0.826:  26%|██▌       | 65/250 [07:45<21:41,  7.03s/it]"
     ]
    },
    {
     "name": "stdout",
     "output_type": "stream",
     "text": [
      "Proportion of deltas below zero: 0.6212121212121212\n",
      "Proportion of deltas above zero: 0.3787878787878788\n"
     ]
    },
    {
     "name": "stderr",
     "output_type": "stream",
     "text": [
      "Target item: Wuthering Heights (College classics in English), Original Ranking: Delta: 7 , Running mean Delta: -26.000,Running median Delta: -10.0, Mean BLEU Score: 0.827:  26%|██▋       | 66/250 [07:54<23:35,  7.69s/it]"
     ]
    },
    {
     "name": "stdout",
     "output_type": "stream",
     "text": [
      "Proportion of deltas below zero: 0.6119402985074627\n",
      "Proportion of deltas above zero: 0.3880597014925373\n"
     ]
    },
    {
     "name": "stderr",
     "output_type": "stream",
     "text": [
      "Target item: Harry Potter and The Sorcerer's Stone, Original Ranking: Delta: 44 , Running mean Delta: -24.955,Running median Delta: -10.0, Mean BLEU Score: 0.825:  27%|██▋       | 67/250 [08:02<23:36,  7.74s/it]         "
     ]
    },
    {
     "name": "stdout",
     "output_type": "stream",
     "text": [
      "Proportion of deltas below zero: 0.6029411764705882\n",
      "Proportion of deltas above zero: 0.39705882352941174\n"
     ]
    },
    {
     "name": "stderr",
     "output_type": "stream",
     "text": [
      "Target item: The Foreign Correspondent: A Novel, Original Ranking: Delta: 2 , Running mean Delta: -24.559,Running median Delta: -9.0, Mean BLEU Score: 0.823:  27%|██▋       | 68/250 [08:14<26:48,  8.84s/it]     "
     ]
    },
    {
     "name": "stdout",
     "output_type": "stream",
     "text": [
      "Proportion of deltas below zero: 0.5942028985507246\n",
      "Proportion of deltas above zero: 0.4057971014492754\n"
     ]
    },
    {
     "name": "stderr",
     "output_type": "stream",
     "text": [
      "Target item: The Search: How Google and Its Rivals Rewrote the Rules of Business and Transformed Our Culture, Original Ranking: Delta: 7 , Running mean Delta: -24.101,Running median Delta: -8.0, Mean BLEU Score: 0.824:  28%|██▊       | 69/250 [08:21<24:56,  8.27s/it]"
     ]
    },
    {
     "name": "stdout",
     "output_type": "stream",
     "text": [
      "Proportion of deltas below zero: 0.6\n",
      "Proportion of deltas above zero: 0.4\n"
     ]
    },
    {
     "name": "stderr",
     "output_type": "stream",
     "text": [
      "Target item: Lewis Carroll's Alice in Wonderland, Original Ranking: Delta: -12 , Running mean Delta: -23.929,Running median Delta: -9.0, Mean BLEU Score: 0.825:  28%|██▊       | 70/250 [08:29<24:43,  8.24s/it]                                                          "
     ]
    },
    {
     "name": "stdout",
     "output_type": "stream",
     "text": [
      "Proportion of deltas below zero: 0.6056338028169014\n",
      "Proportion of deltas above zero: 0.39436619718309857\n"
     ]
    },
    {
     "name": "stderr",
     "output_type": "stream",
     "text": [
      "Target item: The Innocent Man: Murder and Injustice in a Small Town (Random House Large Print), Original Ranking: Delta: -43 , Running mean Delta: -24.197,Running median Delta: -10.0, Mean BLEU Score: 0.826:  28%|██▊       | 71/250 [08:36<23:20,  7.82s/it]"
     ]
    },
    {
     "name": "stdout",
     "output_type": "stream",
     "text": [
      "Proportion of deltas below zero: 0.5972222222222222\n",
      "Proportion of deltas above zero: 0.4027777777777778\n"
     ]
    },
    {
     "name": "stderr",
     "output_type": "stream",
     "text": [
      "Target item: Heart of Darkness (Everyman Classics), Original Ranking: Delta: 3 , Running mean Delta: -23.819,Running median Delta: -9.0, Mean BLEU Score: 0.828:  29%|██▉       | 72/250 [08:42<22:18,  7.52s/it]                                               "
     ]
    },
    {
     "name": "stdout",
     "output_type": "stream",
     "text": [
      "Proportion of deltas below zero: 0.589041095890411\n",
      "Proportion of deltas above zero: 0.410958904109589\n"
     ]
    },
    {
     "name": "stderr",
     "output_type": "stream",
     "text": [
      "Target item: The great divorce,, Original Ranking: Delta: 15 , Running mean Delta: -23.288,Running median Delta: -8.0, Mean BLEU Score: 0.830:  29%|██▉       | 73/250 [08:57<28:36,  9.70s/it]                  "
     ]
    },
    {
     "name": "stdout",
     "output_type": "stream",
     "text": [
      "Proportion of deltas below zero: 0.5945945945945946\n",
      "Proportion of deltas above zero: 0.40540540540540543\n"
     ]
    },
    {
     "name": "stderr",
     "output_type": "stream",
     "text": [
      "Target item: The poisonwood Bible : a novel, Original Ranking: Delta: -28 , Running mean Delta: -23.351,Running median Delta: -9.0, Mean BLEU Score: 0.829:  30%|██▉       | 74/250 [09:09<30:19, 10.34s/it]"
     ]
    },
    {
     "name": "stdout",
     "output_type": "stream",
     "text": [
      "Proportion of deltas below zero: 0.6\n",
      "Proportion of deltas above zero: 0.4\n"
     ]
    },
    {
     "name": "stderr",
     "output_type": "stream",
     "text": [
      "Target item: The Innocent Man: Murder and Injustice in a Small Town (Random House Large Print), Original Ranking: Delta: -140 , Running mean Delta: -24.907,Running median Delta: -10.0, Mean BLEU Score: 0.827:  30%|███       | 75/250 [09:13<24:34,  8.42s/it]"
     ]
    },
    {
     "name": "stdout",
     "output_type": "stream",
     "text": [
      "Proportion of deltas below zero: 0.6052631578947368\n",
      "Proportion of deltas above zero: 0.39473684210526316\n"
     ]
    },
    {
     "name": "stderr",
     "output_type": "stream",
     "text": [
      "Target item: The naked ape, Original Ranking: Delta: -25 , Running mean Delta: -24.908,Running median Delta: -10.0, Mean BLEU Score: 0.829:  30%|███       | 76/250 [09:19<22:32,  7.77s/it]                                                                     "
     ]
    },
    {
     "name": "stdout",
     "output_type": "stream",
     "text": [
      "Proportion of deltas below zero: 0.6103896103896104\n",
      "Proportion of deltas above zero: 0.38961038961038963\n"
     ]
    },
    {
     "name": "stderr",
     "output_type": "stream",
     "text": [
      "Target item: The Scarlet Letter (Lake Illustrated Classics, Collection 2), Original Ranking: Delta: -2 , Running mean Delta: -24.610,Running median Delta: -10.0, Mean BLEU Score: 0.829:  31%|███       | 77/250 [09:29<24:09,  8.38s/it]"
     ]
    },
    {
     "name": "stdout",
     "output_type": "stream",
     "text": [
      "Proportion of deltas below zero: 0.6025641025641025\n",
      "Proportion of deltas above zero: 0.3974358974358974\n"
     ]
    },
    {
     "name": "stderr",
     "output_type": "stream",
     "text": [
      "Target item: Old Man & the Sea, Original Ranking: Delta: 29 , Running mean Delta: -23.923,Running median Delta: -9.0, Mean BLEU Score: 0.829:  31%|███       | 78/250 [09:34<21:29,  7.50s/it]                                            "
     ]
    },
    {
     "name": "stdout",
     "output_type": "stream",
     "text": [
      "Proportion of deltas below zero: 0.5949367088607594\n",
      "Proportion of deltas above zero: 0.4050632911392405\n"
     ]
    },
    {
     "name": "stderr",
     "output_type": "stream",
     "text": [
      "Target item: Blink: The Power of Thinking Without Thinking, Original Ranking: Delta: 27 , Running mean Delta: -23.278,Running median Delta: -8.0, Mean BLEU Score: 0.826:  32%|███▏      | 79/250 [09:39<18:53,  6.63s/it]"
     ]
    },
    {
     "name": "stdout",
     "output_type": "stream",
     "text": [
      "Proportion of deltas below zero: 0.6\n",
      "Proportion of deltas above zero: 0.4\n"
     ]
    },
    {
     "name": "stderr",
     "output_type": "stream",
     "text": [
      "Target item: The Know-It-All: One Man's Humble Quest To Become The Smartest Person In The World, Original Ranking: Delta: -72 , Running mean Delta: -23.887,Running median Delta: -9.0, Mean BLEU Score: 0.827:  32%|███▏      | 80/250 [09:46<18:47,  6.63s/it]"
     ]
    },
    {
     "name": "stdout",
     "output_type": "stream",
     "text": [
      "Proportion of deltas below zero: 0.6049382716049383\n",
      "Proportion of deltas above zero: 0.3950617283950617\n"
     ]
    },
    {
     "name": "stderr",
     "output_type": "stream",
     "text": [
      "Target item: Frankenstein (Running Press classics), Original Ranking: Delta: -14 , Running mean Delta: -23.765,Running median Delta: -10.0, Mean BLEU Score: 0.828:  32%|███▏      | 81/250 [09:55<21:16,  7.56s/it]                                            "
     ]
    },
    {
     "name": "stdout",
     "output_type": "stream",
     "text": [
      "Proportion of deltas below zero: 0.6097560975609756\n",
      "Proportion of deltas above zero: 0.3902439024390244\n"
     ]
    },
    {
     "name": "stderr",
     "output_type": "stream",
     "text": [
      "Target item: The Catcher in the Rye [Audiobook] [Cd] [Unabridged] (Audio CD), Original Ranking: Delta: -65 , Running mean Delta: -24.268,Running median Delta: -10.0, Mean BLEU Score: 0.828:  33%|███▎      | 82/250 [10:05<22:46,  8.13s/it]"
     ]
    },
    {
     "name": "stdout",
     "output_type": "stream",
     "text": [
      "Proportion of deltas below zero: 0.6144578313253012\n",
      "Proportion of deltas above zero: 0.3855421686746988\n"
     ]
    },
    {
     "name": "stderr",
     "output_type": "stream",
     "text": [
      "Target item: I Know Why The Caged Bird Sings, Original Ranking: Delta: -15 , Running mean Delta: -24.157,Running median Delta: -10.0, Mean BLEU Score: 0.829:  33%|███▎      | 83/250 [10:11<21:18,  7.66s/it]                                "
     ]
    },
    {
     "name": "stdout",
     "output_type": "stream",
     "text": [
      "Proportion of deltas below zero: 0.6190476190476191\n",
      "Proportion of deltas above zero: 0.38095238095238093\n"
     ]
    },
    {
     "name": "stderr",
     "output_type": "stream",
     "text": [
      "Target item: The Lincoln Lawyer, Original Ranking: Delta: -183 , Running mean Delta: -26.048,Running median Delta: -11.0, Mean BLEU Score: 0.829:  34%|███▎      | 84/250 [10:16<18:25,  6.66s/it]            "
     ]
    },
    {
     "name": "stdout",
     "output_type": "stream",
     "text": [
      "Proportion of deltas below zero: 0.6235294117647059\n",
      "Proportion of deltas above zero: 0.3764705882352941\n"
     ]
    },
    {
     "name": "stderr",
     "output_type": "stream",
     "text": [
      "Target item: No Ordinary Time: Franklin and Eleanor Roosevelt: The Home Front in World War II, Original Ranking: Delta: -176 , Running mean Delta: -27.812,Running median Delta: -12.0, Mean BLEU Score: 0.829:  34%|███▍      | 85/250 [10:20<15:58,  5.81s/it]"
     ]
    },
    {
     "name": "stdout",
     "output_type": "stream",
     "text": [
      "Proportion of deltas below zero: 0.6162790697674418\n",
      "Proportion of deltas above zero: 0.38372093023255816\n"
     ]
    },
    {
     "name": "stderr",
     "output_type": "stream",
     "text": [
      "Target item: Slaughterhouse-five: Or, The children's crusade : a duty-dance with death, Original Ranking: Delta: 32 , Running mean Delta: -27.116,Running median Delta: -11.0, Mean BLEU Score: 0.827:  34%|███▍      | 86/250 [10:25<15:22,  5.63s/it]         "
     ]
    },
    {
     "name": "stdout",
     "output_type": "stream",
     "text": [
      "Proportion of deltas below zero: 0.6091954022988506\n",
      "Proportion of deltas above zero: 0.39080459770114945\n"
     ]
    },
    {
     "name": "stderr",
     "output_type": "stream",
     "text": [
      "Target item: Crime and Punishment, Original Ranking: Delta: 10 , Running mean Delta: -26.690,Running median Delta: -10.0, Mean BLEU Score: 0.826:  35%|███▍      | 87/250 [10:30<14:44,  5.43s/it]                                                     "
     ]
    },
    {
     "name": "stdout",
     "output_type": "stream",
     "text": [
      "Proportion of deltas below zero: 0.6136363636363636\n",
      "Proportion of deltas above zero: 0.38636363636363635\n"
     ]
    },
    {
     "name": "stderr",
     "output_type": "stream",
     "text": [
      "Target item: Moby Dick;: Or, The whale,, Original Ranking: Delta: -7 , Running mean Delta: -26.466,Running median Delta: -10.0, Mean BLEU Score: 0.827:  35%|███▌      | 88/250 [10:34<14:04,  5.21s/it]"
     ]
    },
    {
     "name": "stdout",
     "output_type": "stream",
     "text": [
      "Proportion of deltas below zero: 0.6179775280898876\n",
      "Proportion of deltas above zero: 0.38202247191011235\n"
     ]
    },
    {
     "name": "stderr",
     "output_type": "stream",
     "text": [
      "Target item: To The Lighthouse, A Harvest Book, Original Ranking: Delta: -3 , Running mean Delta: -26.202,Running median Delta: -10.0, Mean BLEU Score: 0.827:  36%|███▌      | 89/250 [10:40<14:33,  5.43s/it]"
     ]
    },
    {
     "name": "stdout",
     "output_type": "stream",
     "text": [
      "Proportion of deltas below zero: 0.6111111111111112\n",
      "Proportion of deltas above zero: 0.3888888888888889\n"
     ]
    },
    {
     "name": "stderr",
     "output_type": "stream",
     "text": [
      "Target item: The Corrections, Original Ranking: Delta: 49 , Running mean Delta: -25.367,Running median Delta: -9.0, Mean BLEU Score: 0.827:  36%|███▌      | 90/250 [10:50<18:13,  6.84s/it]                   "
     ]
    },
    {
     "name": "stdout",
     "output_type": "stream",
     "text": [
      "Proportion of deltas below zero: 0.6153846153846154\n",
      "Proportion of deltas above zero: 0.38461538461538464\n"
     ]
    },
    {
     "name": "stderr",
     "output_type": "stream",
     "text": [
      "Target item: Neuromancer, Original Ranking: Delta: -881 , Running mean Delta: -34.769,Running median Delta: -10.0, Mean BLEU Score: 0.826:  36%|███▋      | 91/250 [10:56<17:18,  6.53s/it] "
     ]
    },
    {
     "name": "stdout",
     "output_type": "stream",
     "text": [
      "Proportion of deltas below zero: 0.6086956521739131\n",
      "Proportion of deltas above zero: 0.391304347826087\n"
     ]
    },
    {
     "name": "stderr",
     "output_type": "stream",
     "text": [
      "Target item: Lord of the Flies, Original Ranking: Delta: 20 , Running mean Delta: -34.174,Running median Delta: -9.0, Mean BLEU Score: 0.825:  37%|███▋      | 92/250 [11:01<15:53,  6.03s/it]"
     ]
    },
    {
     "name": "stdout",
     "output_type": "stream",
     "text": [
      "Proportion of deltas below zero: 0.6021505376344086\n",
      "Proportion of deltas above zero: 0.3978494623655914\n"
     ]
    },
    {
     "name": "stderr",
     "output_type": "stream",
     "text": [
      "Target item: Tess of the d'Urbervilles, Original Ranking: Delta: 1 , Running mean Delta: -33.796,Running median Delta: -8.0, Mean BLEU Score: 0.826:  37%|███▋      | 93/250 [11:07<15:44,  6.02s/it]"
     ]
    },
    {
     "name": "stdout",
     "output_type": "stream",
     "text": [
      "Proportion of deltas below zero: 0.6063829787234043\n",
      "Proportion of deltas above zero: 0.39361702127659576\n"
     ]
    },
    {
     "name": "stderr",
     "output_type": "stream",
     "text": [
      "Target item: Then Came You, Original Ranking: Delta: -47 , Running mean Delta: -33.936,Running median Delta: -9.0, Mean BLEU Score: 0.826:  38%|███▊      | 94/250 [11:12<14:43,  5.66s/it]          "
     ]
    },
    {
     "name": "stdout",
     "output_type": "stream",
     "text": [
      "Proportion of deltas below zero: 0.6\n",
      "Proportion of deltas above zero: 0.4\n"
     ]
    },
    {
     "name": "stderr",
     "output_type": "stream",
     "text": [
      "Target item: Night, Original Ranking: Delta: 24 , Running mean Delta: -33.326,Running median Delta: -8.0, Mean BLEU Score: 0.826:  38%|███▊      | 95/250 [11:24<19:44,  7.64s/it]         "
     ]
    },
    {
     "name": "stdout",
     "output_type": "stream",
     "text": [
      "Proportion of deltas below zero: 0.59375\n",
      "Proportion of deltas above zero: 0.40625\n"
     ]
    },
    {
     "name": "stderr",
     "output_type": "stream",
     "text": [
      "Target item: A Clockwork Orange, Original Ranking: Delta: 15 , Running mean Delta: -32.823,Running median Delta: -7.5, Mean BLEU Score: 0.826:  38%|███▊      | 96/250 [11:35<21:42,  8.46s/it]"
     ]
    },
    {
     "name": "stdout",
     "output_type": "stream",
     "text": [
      "Proportion of deltas below zero: 0.5979381443298969\n",
      "Proportion of deltas above zero: 0.4020618556701031\n"
     ]
    },
    {
     "name": "stderr",
     "output_type": "stream",
     "text": [
      "Target item: FROM A BUICK 8 (True first edition), Original Ranking: Delta: -83 , Running mean Delta: -33.340,Running median Delta: -8.0, Mean BLEU Score: 0.825:  39%|███▉      | 97/250 [11:40<19:20,  7.58s/it]"
     ]
    },
    {
     "name": "stdout",
     "output_type": "stream",
     "text": [
      "Proportion of deltas below zero: 0.5918367346938775\n",
      "Proportion of deltas above zero: 0.40816326530612246\n"
     ]
    },
    {
     "name": "stderr",
     "output_type": "stream",
     "text": [
      "Target item: Great Gatsby (Everyman), Original Ranking: Delta: 13 , Running mean Delta: -32.867,Running median Delta: -7.5, Mean BLEU Score: 0.826:  39%|███▉      | 98/250 [11:45<17:02,  6.73s/it]             "
     ]
    },
    {
     "name": "stdout",
     "output_type": "stream",
     "text": [
      "Proportion of deltas below zero: 0.5858585858585859\n",
      "Proportion of deltas above zero: 0.41414141414141414\n"
     ]
    },
    {
     "name": "stderr",
     "output_type": "stream",
     "text": [
      "Target item: Seabiscuit: An American Legend (Trade Edition) (Turtleback School & Library Binding Edition), Original Ranking: Delta: 21 , Running mean Delta: -32.323,Running median Delta: -7.0, Mean BLEU Score: 0.824:  40%|███▉      | 99/250 [11:50<15:30,  6.16s/it]"
     ]
    },
    {
     "name": "stdout",
     "output_type": "stream",
     "text": [
      "Proportion of deltas below zero: 0.58\n",
      "Proportion of deltas above zero: 0.42\n"
     ]
    },
    {
     "name": "stderr",
     "output_type": "stream",
     "text": [
      "Target item: The Clan of the Cave Bear, Original Ranking: Delta: 21 , Running mean Delta: -31.790,Running median Delta: -7.0, Mean BLEU Score: 0.824:  40%|████      | 100/250 [11:55<15:05,  6.03s/it]                                                                  "
     ]
    },
    {
     "name": "stdout",
     "output_type": "stream",
     "text": [
      "Proportion of deltas below zero: 0.5841584158415841\n",
      "Proportion of deltas above zero: 0.4158415841584158\n"
     ]
    },
    {
     "name": "stderr",
     "output_type": "stream",
     "text": [
      "Target item: The Hunt for RED OCTOBER, Original Ranking: Delta: -40 , Running mean Delta: -31.871,Running median Delta: -7.0, Mean BLEU Score: 0.824:  40%|████      | 101/250 [12:02<15:10,  6.11s/it]"
     ]
    },
    {
     "name": "stdout",
     "output_type": "stream",
     "text": [
      "Proportion of deltas below zero: 0.5784313725490197\n",
      "Proportion of deltas above zero: 0.4215686274509804\n"
     ]
    },
    {
     "name": "stderr",
     "output_type": "stream",
     "text": [
      "Target item: The Lord of the Rings Trilogy 3 Volumes, Original Ranking: Delta: 39 , Running mean Delta: -31.176,Running median Delta: -7.0, Mean BLEU Score: 0.824:  41%|████      | 102/250 [12:06<13:31,  5.49s/it]"
     ]
    },
    {
     "name": "stdout",
     "output_type": "stream",
     "text": [
      "Proportion of deltas below zero: 0.5825242718446602\n",
      "Proportion of deltas above zero: 0.4174757281553398\n"
     ]
    },
    {
     "name": "stderr",
     "output_type": "stream",
     "text": [
      "Target item: The time machine,: An invention,, Original Ranking: Delta: -26 , Running mean Delta: -31.126,Running median Delta: -7.0, Mean BLEU Score: 0.825:  41%|████      | 103/250 [12:14<15:18,  6.25s/it]      "
     ]
    },
    {
     "name": "stdout",
     "output_type": "stream",
     "text": [
      "Proportion of deltas below zero: 0.5865384615384616\n",
      "Proportion of deltas above zero: 0.41346153846153844\n"
     ]
    },
    {
     "name": "stderr",
     "output_type": "stream",
     "text": [
      "Target item: Valis With Cosmogony and Cosmology, Original Ranking: Delta: -125 , Running mean Delta: -32.029,Running median Delta: -7.5, Mean BLEU Score: 0.826:  42%|████▏     | 104/250 [12:19<14:16,  5.87s/it]"
     ]
    },
    {
     "name": "stdout",
     "output_type": "stream",
     "text": [
      "Proportion of deltas below zero: 0.580952380952381\n",
      "Proportion of deltas above zero: 0.41904761904761906\n"
     ]
    },
    {
     "name": "stderr",
     "output_type": "stream",
     "text": [
      "Target item: The Structure of Scientific Revolutions, Original Ranking: Delta: 7 , Running mean Delta: -31.657,Running median Delta: -7.0, Mean BLEU Score: 0.825:  42%|████▏     | 105/250 [12:24<13:25,  5.55s/it]"
     ]
    },
    {
     "name": "stdout",
     "output_type": "stream",
     "text": [
      "Proportion of deltas below zero: 0.5754716981132075\n",
      "Proportion of deltas above zero: 0.42452830188679247\n"
     ]
    },
    {
     "name": "stderr",
     "output_type": "stream",
     "text": [
      "Target item: Great Expectations, Original Ranking: Delta: 10 , Running mean Delta: -31.264,Running median Delta: -7.0, Mean BLEU Score: 0.824:  42%|████▏     | 106/250 [12:29<13:28,  5.61s/it]                    "
     ]
    },
    {
     "name": "stdout",
     "output_type": "stream",
     "text": [
      "Proportion of deltas below zero: 0.5700934579439252\n",
      "Proportion of deltas above zero: 0.42990654205607476\n"
     ]
    },
    {
     "name": "stderr",
     "output_type": "stream",
     "text": [
      "Target item: Liar's poker : rising through the wreckage on Wall Street, Original Ranking: Delta: 39 , Running mean Delta: -30.607,Running median Delta: -7.0, Mean BLEU Score: 0.823:  43%|████▎     | 107/250 [12:35<13:12,  5.54s/it]"
     ]
    },
    {
     "name": "stdout",
     "output_type": "stream",
     "text": [
      "Proportion of deltas below zero: 0.5740740740740741\n",
      "Proportion of deltas above zero: 0.42592592592592593\n"
     ]
    },
    {
     "name": "stderr",
     "output_type": "stream",
     "text": [
      "Target item: A Redbird Christmas, Original Ranking: Delta: -23 , Running mean Delta: -30.537,Running median Delta: -7.0, Mean BLEU Score: 0.823:  43%|████▎     | 108/250 [12:45<16:48,  7.10s/it]                                     "
     ]
    },
    {
     "name": "stdout",
     "output_type": "stream",
     "text": [
      "Proportion of deltas below zero: 0.5779816513761468\n",
      "Proportion of deltas above zero: 0.42201834862385323\n"
     ]
    },
    {
     "name": "stderr",
     "output_type": "stream",
     "text": [
      "Target item: Imperium, Original Ranking: Delta: -21 , Running mean Delta: -30.450,Running median Delta: -7.0, Mean BLEU Score: 0.823:  44%|████▎     | 109/250 [12:51<15:43,  6.69s/it]           "
     ]
    },
    {
     "name": "stdout",
     "output_type": "stream",
     "text": [
      "Proportion of deltas below zero: 0.5818181818181818\n",
      "Proportion of deltas above zero: 0.41818181818181815\n"
     ]
    },
    {
     "name": "stderr",
     "output_type": "stream",
     "text": [
      "Target item: Inquiry into the nature and causes of the wealth of nations, Original Ranking: Delta: -132 , Running mean Delta: -31.373,Running median Delta: -7.5, Mean BLEU Score: 0.823:  44%|████▍     | 110/250 [12:59<16:02,  6.88s/it]"
     ]
    },
    {
     "name": "stdout",
     "output_type": "stream",
     "text": [
      "Proportion of deltas below zero: 0.5855855855855856\n",
      "Proportion of deltas above zero: 0.4144144144144144\n"
     ]
    },
    {
     "name": "stderr",
     "output_type": "stream",
     "text": [
      "Target item: Moby Dick;: Or, The whale,, Original Ranking: Delta: -36 , Running mean Delta: -31.414,Running median Delta: -8.0, Mean BLEU Score: 0.824:  44%|████▍     | 111/250 [13:06<16:07,  6.96s/it]                                  "
     ]
    },
    {
     "name": "stdout",
     "output_type": "stream",
     "text": [
      "Proportion of deltas below zero: 0.5803571428571429\n",
      "Proportion of deltas above zero: 0.41964285714285715\n"
     ]
    },
    {
     "name": "stderr",
     "output_type": "stream",
     "text": [
      "Target item: Frankenstein (Running Press classics), Original Ranking: Delta: 14 , Running mean Delta: -31.009,Running median Delta: -7.5, Mean BLEU Score: 0.824:  45%|████▍     | 112/250 [13:15<17:31,  7.62s/it]"
     ]
    },
    {
     "name": "stdout",
     "output_type": "stream",
     "text": [
      "Proportion of deltas below zero: 0.584070796460177\n",
      "Proportion of deltas above zero: 0.415929203539823\n"
     ]
    },
    {
     "name": "stderr",
     "output_type": "stream",
     "text": [
      "Target item: Sharpe's Tiger : Richard Sharpe and the Siege of Seringapatam, 1799 (Richard Sharpe's Adventure Series #1), Original Ranking: Delta: -8 , Running mean Delta: -30.805,Running median Delta: -8.0, Mean BLEU Score: 0.823:  45%|████▌     | 113/250 [13:20<15:32,  6.81s/it]"
     ]
    },
    {
     "name": "stdout",
     "output_type": "stream",
     "text": [
      "Proportion of deltas below zero: 0.5789473684210527\n",
      "Proportion of deltas above zero: 0.42105263157894735\n"
     ]
    },
    {
     "name": "stderr",
     "output_type": "stream",
     "text": [
      "Target item: FEAR AND LOATHING IN LAS VEGAS a Savage Journey to the Heart of the American Dream, Original Ranking: Delta: 4 , Running mean Delta: -30.500,Running median Delta: -7.5, Mean BLEU Score: 0.824:  46%|████▌     | 114/250 [13:26<14:51,  6.55s/it]                         "
     ]
    },
    {
     "name": "stdout",
     "output_type": "stream",
     "text": [
      "Proportion of deltas below zero: 0.5739130434782609\n",
      "Proportion of deltas above zero: 0.4260869565217391\n"
     ]
    },
    {
     "name": "stderr",
     "output_type": "stream",
     "text": [
      "Target item: Jim Cramer's Real Money: Sane Investing in an Insane World, Original Ranking: Delta: 14 , Running mean Delta: -30.113,Running median Delta: -7.0, Mean BLEU Score: 0.822:  46%|████▌     | 115/250 [13:34<15:42,  6.98s/it]                       "
     ]
    },
    {
     "name": "stdout",
     "output_type": "stream",
     "text": [
      "Proportion of deltas below zero: 0.5775862068965517\n",
      "Proportion of deltas above zero: 0.4224137931034483\n"
     ]
    },
    {
     "name": "stderr",
     "output_type": "stream",
     "text": [
      "Target item: Sense and Sensibility (Wordsworth Hardback Library), Original Ranking: Delta: -65 , Running mean Delta: -30.414,Running median Delta: -7.5, Mean BLEU Score: 0.822:  46%|████▋     | 116/250 [13:40<14:57,  6.70s/it]      "
     ]
    },
    {
     "name": "stdout",
     "output_type": "stream",
     "text": [
      "Proportion of deltas below zero: 0.5811965811965812\n",
      "Proportion of deltas above zero: 0.4188034188034188\n"
     ]
    },
    {
     "name": "stderr",
     "output_type": "stream",
     "text": [
      "Target item: Island of Saints : A Story of the One Principle That Frees the Human Spirit, Original Ranking: Delta: -10 , Running mean Delta: -30.239,Running median Delta: -8.0, Mean BLEU Score: 0.822:  47%|████▋     | 117/250 [13:49<16:49,  7.59s/it]"
     ]
    },
    {
     "name": "stdout",
     "output_type": "stream",
     "text": [
      "Proportion of deltas below zero: 0.5847457627118644\n",
      "Proportion of deltas above zero: 0.4152542372881356\n"
     ]
    },
    {
     "name": "stderr",
     "output_type": "stream",
     "text": [
      "Target item: Rise to Rebellion: A Novel of the American Revolution, Original Ranking: Delta: -204 , Running mean Delta: -31.712,Running median Delta: -8.0, Mean BLEU Score: 0.823:  47%|████▋     | 118/250 [13:55<15:34,  7.08s/it]                     "
     ]
    },
    {
     "name": "stdout",
     "output_type": "stream",
     "text": [
      "Proportion of deltas below zero: 0.5882352941176471\n",
      "Proportion of deltas above zero: 0.4117647058823529\n"
     ]
    },
    {
     "name": "stderr",
     "output_type": "stream",
     "text": [
      "Target item: How to Win Friends & Influence People (Cardinal Editions, C 303), Original Ranking: Delta: -688 , Running mean Delta: -37.227,Running median Delta: -8.0, Mean BLEU Score: 0.823:  48%|████▊     | 119/250 [14:07<18:35,  8.51s/it]"
     ]
    },
    {
     "name": "stdout",
     "output_type": "stream",
     "text": [
      "Proportion of deltas below zero: 0.5833333333333334\n",
      "Proportion of deltas above zero: 0.4166666666666667\n"
     ]
    },
    {
     "name": "stderr",
     "output_type": "stream",
     "text": [
      "Target item: The pelican brief, Original Ranking: Delta: 4 , Running mean Delta: -36.883,Running median Delta: -8.0, Mean BLEU Score: 0.824:  48%|████▊     | 120/250 [14:19<20:40,  9.55s/it]                                                  "
     ]
    },
    {
     "name": "stdout",
     "output_type": "stream",
     "text": [
      "Proportion of deltas below zero: 0.5867768595041323\n",
      "Proportion of deltas above zero: 0.4132231404958678\n"
     ]
    },
    {
     "name": "stderr",
     "output_type": "stream",
     "text": [
      "Target item: Bringing Down the House: The Inside Story of Six M.I.T. Students Who Took Vegas for Millions, Original Ranking: Delta: -35 , Running mean Delta: -36.868,Running median Delta: -8.0, Mean BLEU Score: 0.825:  48%|████▊     | 121/250 [14:24<17:34,  8.17s/it]"
     ]
    },
    {
     "name": "stdout",
     "output_type": "stream",
     "text": [
      "Proportion of deltas below zero: 0.5819672131147541\n",
      "Proportion of deltas above zero: 0.4180327868852459\n"
     ]
    },
    {
     "name": "stderr",
     "output_type": "stream",
     "text": [
      "Target item: A JOURNEY TO THE CENTER OF THE EARTH, Original Ranking: Delta: 18 , Running mean Delta: -36.418,Running median Delta: -8.0, Mean BLEU Score: 0.824:  49%|████▉     | 122/250 [14:29<15:25,  7.23s/it]                                                         "
     ]
    },
    {
     "name": "stdout",
     "output_type": "stream",
     "text": [
      "Proportion of deltas below zero: 0.5853658536585366\n",
      "Proportion of deltas above zero: 0.4146341463414634\n"
     ]
    },
    {
     "name": "stderr",
     "output_type": "stream",
     "text": [
      "Target item: Agnes Grey (The Works of Anne Bronte), Original Ranking: Delta: -21 , Running mean Delta: -36.293,Running median Delta: -8.0, Mean BLEU Score: 0.824:  49%|████▉     | 123/250 [14:43<19:17,  9.11s/it]"
     ]
    },
    {
     "name": "stdout",
     "output_type": "stream",
     "text": [
      "Proportion of deltas below zero: 0.5887096774193549\n",
      "Proportion of deltas above zero: 0.4112903225806452\n"
     ]
    },
    {
     "name": "stderr",
     "output_type": "stream",
     "text": [
      "Target item: Joe DiMaggio: The Hero's Life, Original Ranking: Delta: -4 , Running mean Delta: -36.032,Running median Delta: -8.0, Mean BLEU Score: 0.824:  50%|████▉     | 124/250 [14:48<16:43,  7.96s/it]         "
     ]
    },
    {
     "name": "stdout",
     "output_type": "stream",
     "text": [
      "Proportion of deltas below zero: 0.584\n",
      "Proportion of deltas above zero: 0.416\n"
     ]
    },
    {
     "name": "stderr",
     "output_type": "stream",
     "text": [
      "Target item: The Shadow of the Wind Bestseller's Choice Audio, Original Ranking: Delta: 37 , Running mean Delta: -35.448,Running median Delta: -8.0, Mean BLEU Score: 0.823:  50%|█████     | 125/250 [14:53<14:34,  7.00s/it]"
     ]
    },
    {
     "name": "stdout",
     "output_type": "stream",
     "text": [
      "Proportion of deltas below zero: 0.5873015873015873\n",
      "Proportion of deltas above zero: 0.4126984126984127\n"
     ]
    },
    {
     "name": "stderr",
     "output_type": "stream",
     "text": [
      "Target item: ALICE'S ADVENTURES IN WONDERLAND & THROUGH THE LOOKING GLASS and What Alice Found There (2 volumes), Original Ranking: Delta: -19 , Running mean Delta: -35.317,Running median Delta: -8.0, Mean BLEU Score: 0.824:  50%|█████     | 126/250 [14:58<13:20,  6.46s/it]"
     ]
    },
    {
     "name": "stdout",
     "output_type": "stream",
     "text": [
      "Proportion of deltas below zero: 0.5826771653543307\n",
      "Proportion of deltas above zero: 0.41732283464566927\n"
     ]
    },
    {
     "name": "stderr",
     "output_type": "stream",
     "text": [
      "Target item: The Bear and the Dragon, Original Ranking: Delta: 4 , Running mean Delta: -35.008,Running median Delta: -8.0, Mean BLEU Score: 0.825:  51%|█████     | 127/250 [15:08<15:23,  7.50s/it]                                                                              "
     ]
    },
    {
     "name": "stdout",
     "output_type": "stream",
     "text": [
      "Proportion of deltas below zero: 0.5859375\n",
      "Proportion of deltas above zero: 0.4140625\n"
     ]
    },
    {
     "name": "stderr",
     "output_type": "stream",
     "text": [
      "Target item: Catch-22, Original Ranking: Delta: -15 , Running mean Delta: -34.852,Running median Delta: -8.0, Mean BLEU Score: 0.823:  51%|█████     | 128/250 [15:12<13:18,  6.55s/it]             "
     ]
    },
    {
     "name": "stdout",
     "output_type": "stream",
     "text": [
      "Proportion of deltas below zero: 0.5813953488372093\n",
      "Proportion of deltas above zero: 0.4186046511627907\n"
     ]
    },
    {
     "name": "stderr",
     "output_type": "stream",
     "text": [
      "Target item: Seabiscuit: An American Legend (Trade Edition) (Turtleback School & Library Binding Edition), Original Ranking: Delta: 24 , Running mean Delta: -34.395,Running median Delta: -8.0, Mean BLEU Score: 0.825:  52%|█████▏    | 129/250 [15:16<11:29,  5.70s/it]"
     ]
    },
    {
     "name": "stdout",
     "output_type": "stream",
     "text": [
      "Proportion of deltas below zero: 0.5846153846153846\n",
      "Proportion of deltas above zero: 0.4153846153846154\n"
     ]
    },
    {
     "name": "stderr",
     "output_type": "stream",
     "text": [
      "Target item: Journey into the Void (Sovereign Stone Trilogy, Book 3), Original Ranking: Delta: -25 , Running mean Delta: -34.323,Running median Delta: -8.0, Mean BLEU Score: 0.824:  52%|█████▏    | 130/250 [15:20<10:29,  5.24s/it]                                    "
     ]
    },
    {
     "name": "stdout",
     "output_type": "stream",
     "text": [
      "Proportion of deltas below zero: 0.5801526717557252\n",
      "Proportion of deltas above zero: 0.4198473282442748\n"
     ]
    },
    {
     "name": "stderr",
     "output_type": "stream",
     "text": [
      "Target item: Breakfast of Champions, Original Ranking: Delta: 9 , Running mean Delta: -33.992,Running median Delta: -8.0, Mean BLEU Score: 0.824:  52%|█████▏    | 131/250 [15:26<11:04,  5.59s/it]                                   "
     ]
    },
    {
     "name": "stdout",
     "output_type": "stream",
     "text": [
      "Proportion of deltas below zero: 0.5833333333333334\n",
      "Proportion of deltas above zero: 0.4166666666666667\n"
     ]
    },
    {
     "name": "stderr",
     "output_type": "stream",
     "text": [
      "Target item: Back When We Were Grownups: A Novel, Original Ranking: Delta: -6 , Running mean Delta: -33.780,Running median Delta: -7.5, Mean BLEU Score: 0.825:  53%|█████▎    | 132/250 [15:32<10:46,  5.48s/it]"
     ]
    },
    {
     "name": "stdout",
     "output_type": "stream",
     "text": [
      "Proportion of deltas below zero: 0.5864661654135338\n",
      "Proportion of deltas above zero: 0.41353383458646614\n"
     ]
    },
    {
     "name": "stderr",
     "output_type": "stream",
     "text": [
      "Target item: Hell House, Original Ranking: Delta: -49 , Running mean Delta: -33.895,Running median Delta: -8.0, Mean BLEU Score: 0.825:  53%|█████▎    | 133/250 [15:36<09:58,  5.12s/it]                        "
     ]
    },
    {
     "name": "stdout",
     "output_type": "stream",
     "text": [
      "Proportion of deltas below zero: 0.582089552238806\n",
      "Proportion of deltas above zero: 0.417910447761194\n"
     ]
    },
    {
     "name": "stderr",
     "output_type": "stream",
     "text": [
      "Target item: Wish You Well, Original Ranking: Delta: 31 , Running mean Delta: -33.410,Running median Delta: -7.5, Mean BLEU Score: 0.824:  54%|█████▎    | 134/250 [15:46<12:59,  6.72s/it]"
     ]
    },
    {
     "name": "stdout",
     "output_type": "stream",
     "text": [
      "Proportion of deltas below zero: 0.5851851851851851\n",
      "Proportion of deltas above zero: 0.4148148148148148\n"
     ]
    },
    {
     "name": "stderr",
     "output_type": "stream",
     "text": [
      "Target item: The Summerhouse, Original Ranking: Delta: -252 , Running mean Delta: -35.030,Running median Delta: -8.0, Mean BLEU Score: 0.823:  54%|█████▍    | 135/250 [15:57<14:54,  7.78s/it]"
     ]
    },
    {
     "name": "stdout",
     "output_type": "stream",
     "text": [
      "Proportion of deltas below zero: 0.5808823529411765\n",
      "Proportion of deltas above zero: 0.41911764705882354\n"
     ]
    },
    {
     "name": "stderr",
     "output_type": "stream",
     "text": [
      "Target item: MOBY DICK or THE WHALE, Original Ranking: Delta: 15 , Running mean Delta: -34.662,Running median Delta: -7.5, Mean BLEU Score: 0.823:  54%|█████▍    | 136/250 [16:02<13:24,  7.06s/it]"
     ]
    },
    {
     "name": "stdout",
     "output_type": "stream",
     "text": [
      "Proportion of deltas below zero: 0.5766423357664233\n",
      "Proportion of deltas above zero: 0.4233576642335766\n"
     ]
    },
    {
     "name": "stderr",
     "output_type": "stream",
     "text": [
      "Target item: Persuasion (World's Classics), Original Ranking: Delta: 20 , Running mean Delta: -34.263,Running median Delta: -7.0, Mean BLEU Score: 0.822:  55%|█████▍    | 137/250 [16:11<14:25,  7.66s/it]"
     ]
    },
    {
     "name": "stdout",
     "output_type": "stream",
     "text": [
      "Proportion of deltas below zero: 0.572463768115942\n",
      "Proportion of deltas above zero: 0.427536231884058\n"
     ]
    },
    {
     "name": "stderr",
     "output_type": "stream",
     "text": [
      "Target item: Tell No One, Original Ranking: Delta: 36 , Running mean Delta: -33.754,Running median Delta: -7.0, Mean BLEU Score: 0.823:  55%|█████▌    | 138/250 [16:18<13:39,  7.32s/it]                  "
     ]
    },
    {
     "name": "stdout",
     "output_type": "stream",
     "text": [
      "Proportion of deltas below zero: 0.5755395683453237\n",
      "Proportion of deltas above zero: 0.4244604316546763\n"
     ]
    },
    {
     "name": "stderr",
     "output_type": "stream",
     "text": [
      "Target item: Cobra Event, Original Ranking: Delta: -50 , Running mean Delta: -33.871,Running median Delta: -7.0, Mean BLEU Score: 0.823:  56%|█████▌    | 139/250 [16:28<15:26,  8.35s/it]"
     ]
    },
    {
     "name": "stdout",
     "output_type": "stream",
     "text": [
      "Proportion of deltas below zero: 0.5785714285714286\n",
      "Proportion of deltas above zero: 0.42142857142857143\n"
     ]
    },
    {
     "name": "stderr",
     "output_type": "stream",
     "text": [
      "Target item: ERAGON: INHERITANCE, BOOK ONE., Original Ranking: Delta: -112 , Running mean Delta: -34.429,Running median Delta: -7.5, Mean BLEU Score: 0.824:  56%|█████▌    | 140/250 [16:39<16:28,  8.99s/it]"
     ]
    },
    {
     "name": "stdout",
     "output_type": "stream",
     "text": [
      "Proportion of deltas below zero: 0.5815602836879432\n",
      "Proportion of deltas above zero: 0.41843971631205673\n"
     ]
    },
    {
     "name": "stderr",
     "output_type": "stream",
     "text": [
      "Target item: Pride & Prejudice (New Windmill), Original Ranking: Delta: -407 , Running mean Delta: -37.071,Running median Delta: -8.0, Mean BLEU Score: 0.823:  56%|█████▋    | 141/250 [16:43<13:39,  7.52s/it]"
     ]
    },
    {
     "name": "stdout",
     "output_type": "stream",
     "text": [
      "Proportion of deltas below zero: 0.5845070422535211\n",
      "Proportion of deltas above zero: 0.4154929577464789\n"
     ]
    },
    {
     "name": "stderr",
     "output_type": "stream",
     "text": [
      "Target item: The Time Machine : An Invention (Literary Texts Ser.), Original Ranking: Delta: -46 , Running mean Delta: -37.134,Running median Delta: -8.0, Mean BLEU Score: 0.824:  57%|█████▋    | 142/250 [16:48<12:07,  6.73s/it]"
     ]
    },
    {
     "name": "stdout",
     "output_type": "stream",
     "text": [
      "Proportion of deltas below zero: 0.5874125874125874\n",
      "Proportion of deltas above zero: 0.4125874125874126\n"
     ]
    },
    {
     "name": "stderr",
     "output_type": "stream",
     "text": [
      "Target item: Skinny Dip, Original Ranking: Delta: -6 , Running mean Delta: -36.916,Running median Delta: -8.0, Mean BLEU Score: 0.824:  57%|█████▋    | 143/250 [16:52<10:41,  5.99s/it]                                            "
     ]
    },
    {
     "name": "stdout",
     "output_type": "stream",
     "text": [
      "Proportion of deltas below zero: 0.5902777777777778\n",
      "Proportion of deltas above zero: 0.4097222222222222\n"
     ]
    },
    {
     "name": "stderr",
     "output_type": "stream",
     "text": [
      "Target item: Deenie, Original Ranking: Delta: -63 , Running mean Delta: -37.097,Running median Delta: -8.0, Mean BLEU Score: 0.823:  58%|█████▊    | 144/250 [16:59<11:01,  6.24s/it]   "
     ]
    },
    {
     "name": "stdout",
     "output_type": "stream",
     "text": [
      "Proportion of deltas below zero: 0.593103448275862\n",
      "Proportion of deltas above zero: 0.4068965517241379\n"
     ]
    },
    {
     "name": "stderr",
     "output_type": "stream",
     "text": [
      "Target item: The Bride, Original Ranking: Delta: -66 , Running mean Delta: -37.297,Running median Delta: -8.0, Mean BLEU Score: 0.823:  58%|█████▊    | 145/250 [17:04<10:34,  6.05s/it]"
     ]
    },
    {
     "name": "stdout",
     "output_type": "stream",
     "text": [
      "Proportion of deltas below zero: 0.589041095890411\n",
      "Proportion of deltas above zero: 0.410958904109589\n"
     ]
    },
    {
     "name": "stderr",
     "output_type": "stream",
     "text": [
      "Target item: Killing Time, Original Ranking: Delta: 4 , Running mean Delta: -37.014,Running median Delta: -8.0, Mean BLEU Score: 0.824:  58%|█████▊    | 146/250 [17:12<11:22,  6.56s/it]"
     ]
    },
    {
     "name": "stdout",
     "output_type": "stream",
     "text": [
      "Proportion of deltas below zero: 0.5918367346938775\n",
      "Proportion of deltas above zero: 0.40816326530612246\n"
     ]
    },
    {
     "name": "stderr",
     "output_type": "stream",
     "text": [
      "Target item: The Fountainhead, Original Ranking: Delta: -6 , Running mean Delta: -36.803,Running median Delta: -8.0, Mean BLEU Score: 0.824:  59%|█████▉    | 147/250 [17:18<10:48,  6.30s/it]"
     ]
    },
    {
     "name": "stdout",
     "output_type": "stream",
     "text": [
      "Proportion of deltas below zero: 0.5945945945945946\n",
      "Proportion of deltas above zero: 0.40540540540540543\n"
     ]
    },
    {
     "name": "stderr",
     "output_type": "stream",
     "text": [
      "Target item: Little women, or, Meg, Jo, Beth and Amy, Original Ranking: Delta: -1508 , Running mean Delta: -46.743,Running median Delta: -8.0, Mean BLEU Score: 0.822:  59%|█████▉    | 148/250 [17:24<10:31,  6.20s/it]"
     ]
    },
    {
     "name": "stdout",
     "output_type": "stream",
     "text": [
      "Proportion of deltas below zero: 0.5973154362416108\n",
      "Proportion of deltas above zero: 0.40268456375838924\n"
     ]
    },
    {
     "name": "stderr",
     "output_type": "stream",
     "text": [
      "Target item: Wuthering Heights (College classics in English), Original Ranking: Delta: -27 , Running mean Delta: -46.611,Running median Delta: -8.0, Mean BLEU Score: 0.821:  60%|█████▉    | 149/250 [17:28<09:23,  5.58s/it]"
     ]
    },
    {
     "name": "stdout",
     "output_type": "stream",
     "text": [
      "Proportion of deltas below zero: 0.6\n",
      "Proportion of deltas above zero: 0.4\n"
     ]
    },
    {
     "name": "stderr",
     "output_type": "stream",
     "text": [
      "Target item: Key of Knowledge, Original Ranking: Delta: -32 , Running mean Delta: -46.513,Running median Delta: -9.0, Mean BLEU Score: 0.822:  60%|██████    | 150/250 [17:33<09:09,  5.50s/it]                               "
     ]
    },
    {
     "name": "stdout",
     "output_type": "stream",
     "text": [
      "Proportion of deltas below zero: 0.6026490066225165\n",
      "Proportion of deltas above zero: 0.3973509933774834\n"
     ]
    },
    {
     "name": "stderr",
     "output_type": "stream",
     "text": [
      "Target item: Little Women (Courage giant classics), Original Ranking: Delta: -8 , Running mean Delta: -46.258,Running median Delta: -8.0, Mean BLEU Score: 0.821:  60%|██████    | 151/250 [17:37<08:24,  5.10s/it]"
     ]
    },
    {
     "name": "stdout",
     "output_type": "stream",
     "text": [
      "Proportion of deltas below zero: 0.6052631578947368\n",
      "Proportion of deltas above zero: 0.39473684210526316\n"
     ]
    },
    {
     "name": "stderr",
     "output_type": "stream",
     "text": [
      "Target item: THE MARTIAN CHRONICLES, Original Ranking: Delta: -13 , Running mean Delta: -46.039,Running median Delta: -9.0, Mean BLEU Score: 0.821:  61%|██████    | 152/250 [17:44<08:53,  5.44s/it]              "
     ]
    },
    {
     "name": "stdout",
     "output_type": "stream",
     "text": [
      "Proportion of deltas below zero: 0.6078431372549019\n",
      "Proportion of deltas above zero: 0.39215686274509803\n"
     ]
    },
    {
     "name": "stderr",
     "output_type": "stream",
     "text": [
      "Target item: The time machine,: An invention,, Original Ranking: Delta: -61 , Running mean Delta: -46.137,Running median Delta: -10.0, Mean BLEU Score: 0.822:  61%|██████    | 153/250 [17:49<08:38,  5.34s/it]"
     ]
    },
    {
     "name": "stdout",
     "output_type": "stream",
     "text": [
      "Proportion of deltas below zero: 0.6038961038961039\n",
      "Proportion of deltas above zero: 0.3961038961038961\n"
     ]
    },
    {
     "name": "stderr",
     "output_type": "stream",
     "text": [
      "Target item: 1984, Original Ranking: Delta: 49 , Running mean Delta: -45.519,Running median Delta: -9.0, Mean BLEU Score: 0.822:  62%|██████▏   | 154/250 [17:59<10:46,  6.74s/it]                              "
     ]
    },
    {
     "name": "stdout",
     "output_type": "stream",
     "text": [
      "Proportion of deltas below zero: 0.6064516129032258\n",
      "Proportion of deltas above zero: 0.3935483870967742\n"
     ]
    },
    {
     "name": "stderr",
     "output_type": "stream",
     "text": [
      "Target item: Little house in the big woods, Original Ranking: Delta: -254 , Running mean Delta: -46.865,Running median Delta: -10.0, Mean BLEU Score: 0.820:  62%|██████▏   | 155/250 [18:02<09:08,  5.77s/it]"
     ]
    },
    {
     "name": "stdout",
     "output_type": "stream",
     "text": [
      "Proportion of deltas below zero: 0.6089743589743589\n",
      "Proportion of deltas above zero: 0.391025641025641\n"
     ]
    },
    {
     "name": "stderr",
     "output_type": "stream",
     "text": [
      "Target item: Me Talk Pretty One Day, Original Ranking: Delta: -7 , Running mean Delta: -46.609,Running median Delta: -9.0, Mean BLEU Score: 0.820:  62%|██████▏   | 156/250 [18:15<12:05,  7.72s/it]          "
     ]
    },
    {
     "name": "stdout",
     "output_type": "stream",
     "text": [
      "Proportion of deltas below zero: 0.6114649681528662\n",
      "Proportion of deltas above zero: 0.3885350318471338\n"
     ]
    },
    {
     "name": "stderr",
     "output_type": "stream",
     "text": [
      "Target item: The Crisis of Islam: Holy War and Unholy Terror, Original Ranking: Delta: -1 , Running mean Delta: -46.318,Running median Delta: -8.0, Mean BLEU Score: 0.821:  63%|██████▎   | 157/250 [18:20<10:59,  7.10s/it]"
     ]
    },
    {
     "name": "stdout",
     "output_type": "stream",
     "text": [
      "Proportion of deltas below zero: 0.6139240506329114\n",
      "Proportion of deltas above zero: 0.3860759493670886\n"
     ]
    },
    {
     "name": "stderr",
     "output_type": "stream",
     "text": [
      "Target item: Beautiful Lies: A Novel, Original Ranking: Delta: -3 , Running mean Delta: -46.044,Running median Delta: -8.0, Mean BLEU Score: 0.822:  63%|██████▎   | 158/250 [18:26<10:24,  6.79s/it]                        "
     ]
    },
    {
     "name": "stdout",
     "output_type": "stream",
     "text": [
      "Proportion of deltas below zero: 0.6163522012578616\n",
      "Proportion of deltas above zero: 0.3836477987421384\n"
     ]
    },
    {
     "name": "stderr",
     "output_type": "stream",
     "text": [
      "Target item: Heart of Darkness and the Secret Sharer, Original Ranking: Delta: -293 , Running mean Delta: -47.597,Running median Delta: -8.0, Mean BLEU Score: 0.821:  64%|██████▎   | 159/250 [18:32<09:42,  6.40s/it]"
     ]
    },
    {
     "name": "stdout",
     "output_type": "stream",
     "text": [
      "Proportion of deltas below zero: 0.61875\n",
      "Proportion of deltas above zero: 0.38125\n"
     ]
    },
    {
     "name": "stderr",
     "output_type": "stream",
     "text": [
      "Target item: The Left Hand of Darkness, Original Ranking: Delta: -30 , Running mean Delta: -47.487,Running median Delta: -9.0, Mean BLEU Score: 0.822:  64%|██████▍   | 160/250 [18:38<09:38,  6.43s/it]               "
     ]
    },
    {
     "name": "stdout",
     "output_type": "stream",
     "text": [
      "Proportion of deltas below zero: 0.6211180124223602\n",
      "Proportion of deltas above zero: 0.37888198757763975\n"
     ]
    },
    {
     "name": "stderr",
     "output_type": "stream",
     "text": [
      "Target item: Shopaholic & Sister, Original Ranking: Delta: -10 , Running mean Delta: -47.255,Running median Delta: -10.0, Mean BLEU Score: 0.822:  64%|██████▍   | 161/250 [18:43<08:53,  6.00s/it]     "
     ]
    },
    {
     "name": "stdout",
     "output_type": "stream",
     "text": [
      "Proportion of deltas below zero: 0.6234567901234568\n",
      "Proportion of deltas above zero: 0.3765432098765432\n"
     ]
    },
    {
     "name": "stderr",
     "output_type": "stream",
     "text": [
      "Target item: The Long Walk, Original Ranking: Delta: -15 , Running mean Delta: -47.056,Running median Delta: -10.0, Mean BLEU Score: 0.822:  65%|██████▍   | 162/250 [18:50<09:15,  6.31s/it]      "
     ]
    },
    {
     "name": "stdout",
     "output_type": "stream",
     "text": [
      "Proportion of deltas below zero: 0.6257668711656442\n",
      "Proportion of deltas above zero: 0.37423312883435583\n"
     ]
    },
    {
     "name": "stderr",
     "output_type": "stream",
     "text": [
      "Target item: The Adventures of Oliver Twist, Original Ranking: Delta: -2 , Running mean Delta: -46.779,Running median Delta: -10.0, Mean BLEU Score: 0.822:  65%|██████▌   | 163/250 [18:58<09:35,  6.61s/it]"
     ]
    },
    {
     "name": "stdout",
     "output_type": "stream",
     "text": [
      "Proportion of deltas below zero: 0.6219512195121951\n",
      "Proportion of deltas above zero: 0.3780487804878049\n"
     ]
    },
    {
     "name": "stderr",
     "output_type": "stream",
     "text": [
      "Target item: The island of Dr. Moreau (Ballantine books), Original Ranking: Delta: 6 , Running mean Delta: -46.457,Running median Delta: -9.0, Mean BLEU Score: 0.823:  66%|██████▌   | 164/250 [19:04<09:22,  6.55s/it]"
     ]
    },
    {
     "name": "stdout",
     "output_type": "stream",
     "text": [
      "Proportion of deltas below zero: 0.6181818181818182\n",
      "Proportion of deltas above zero: 0.38181818181818183\n"
     ]
    },
    {
     "name": "stderr",
     "output_type": "stream",
     "text": [
      "Target item: The wealth of nations, Original Ranking: Delta: 6 , Running mean Delta: -46.139,Running median Delta: -8.0, Mean BLEU Score: 0.823:  66%|██████▌   | 165/250 [19:13<10:25,  7.36s/it]                      "
     ]
    },
    {
     "name": "stdout",
     "output_type": "stream",
     "text": [
      "Proportion of deltas below zero: 0.6204819277108434\n",
      "Proportion of deltas above zero: 0.3795180722891566\n"
     ]
    },
    {
     "name": "stderr",
     "output_type": "stream",
     "text": [
      "Target item: Man's Search for Meaning, Original Ranking: Delta: -28 , Running mean Delta: -46.030,Running median Delta: -9.0, Mean BLEU Score: 0.823:  66%|██████▋   | 166/250 [19:18<09:07,  6.52s/it]"
     ]
    },
    {
     "name": "stdout",
     "output_type": "stream",
     "text": [
      "Proportion of deltas below zero: 0.6227544910179641\n",
      "Proportion of deltas above zero: 0.3772455089820359\n"
     ]
    },
    {
     "name": "stderr",
     "output_type": "stream",
     "text": [
      "Target item: Jane Eyre / Wuthering Heights, Original Ranking: Delta: -1134 , Running mean Delta: -52.545,Running median Delta: -10.0, Mean BLEU Score: 0.820:  67%|██████▋   | 167/250 [19:24<08:54,  6.44s/it]"
     ]
    },
    {
     "name": "stdout",
     "output_type": "stream",
     "text": [
      "Proportion of deltas below zero: 0.6190476190476191\n",
      "Proportion of deltas above zero: 0.38095238095238093\n"
     ]
    },
    {
     "name": "stderr",
     "output_type": "stream",
     "text": [
      "Target item: Hunter's Moon (Tales of the Sazi, Book 1), Original Ranking: Delta: 9 , Running mean Delta: -52.179,Running median Delta: -9.0, Mean BLEU Score: 0.820:  67%|██████▋   | 168/250 [19:29<08:07,  5.95s/it]"
     ]
    },
    {
     "name": "stdout",
     "output_type": "stream",
     "text": [
      "Proportion of deltas below zero: 0.6153846153846154\n",
      "Proportion of deltas above zero: 0.38461538461538464\n"
     ]
    },
    {
     "name": "stderr",
     "output_type": "stream",
     "text": [
      "Target item: Left Behind - A Novel Of The Earth's Last Days, Original Ranking: Delta: 38 , Running mean Delta: -51.645,Running median Delta: -8.0, Mean BLEU Score: 0.819:  68%|██████▊   | 169/250 [19:39<09:39,  7.15s/it]"
     ]
    },
    {
     "name": "stdout",
     "output_type": "stream",
     "text": [
      "Proportion of deltas below zero: 0.611764705882353\n",
      "Proportion of deltas above zero: 0.38823529411764707\n"
     ]
    },
    {
     "name": "stderr",
     "output_type": "stream",
     "text": [
      "Target item: Jane Eyre (Everyman's Classics), Original Ranking: Delta: 13 , Running mean Delta: -51.265,Running median Delta: -8.0, Mean BLEU Score: 0.817:  68%|██████▊   | 170/250 [19:49<10:39,  8.00s/it]               "
     ]
    },
    {
     "name": "stdout",
     "output_type": "stream",
     "text": [
      "Proportion of deltas below zero: 0.6140350877192983\n",
      "Proportion of deltas above zero: 0.38596491228070173\n"
     ]
    },
    {
     "name": "stderr",
     "output_type": "stream",
     "text": [
      "Target item: The Stand. The Complete and Uncut Edition, Original Ranking: Delta: -18 , Running mean Delta: -51.070,Running median Delta: -8.0, Mean BLEU Score: 0.817:  68%|██████▊   | 171/250 [19:54<09:35,  7.28s/it]"
     ]
    },
    {
     "name": "stdout",
     "output_type": "stream",
     "text": [
      "Proportion of deltas below zero: 0.6104651162790697\n",
      "Proportion of deltas above zero: 0.38953488372093026\n"
     ]
    },
    {
     "name": "stderr",
     "output_type": "stream",
     "text": [
      "Target item: George Orwell 1984, Original Ranking: Delta: 39 , Running mean Delta: -50.547,Running median Delta: -8.0, Mean BLEU Score: 0.818:  69%|██████▉   | 172/250 [20:00<08:54,  6.85s/it]                        "
     ]
    },
    {
     "name": "stdout",
     "output_type": "stream",
     "text": [
      "Proportion of deltas below zero: 0.6069364161849711\n",
      "Proportion of deltas above zero: 0.3930635838150289\n"
     ]
    },
    {
     "name": "stderr",
     "output_type": "stream",
     "text": [
      "Target item: Collapse: How Societies Choose to Fail or Succeed, Original Ranking: Delta: 21 , Running mean Delta: -50.133,Running median Delta: -8.0, Mean BLEU Score: 0.817:  69%|██████▉   | 173/250 [20:09<09:32,  7.44s/it]"
     ]
    },
    {
     "name": "stdout",
     "output_type": "stream",
     "text": [
      "Proportion of deltas below zero: 0.603448275862069\n",
      "Proportion of deltas above zero: 0.39655172413793105\n"
     ]
    },
    {
     "name": "stderr",
     "output_type": "stream",
     "text": [
      "Target item: The Shadow of the Wind Bestseller's Choice Audio, Original Ranking: Delta: 23 , Running mean Delta: -49.713,Running median Delta: -8.0, Mean BLEU Score: 0.818:  70%|██████▉   | 174/250 [20:33<15:48, 12.47s/it] "
     ]
    },
    {
     "name": "stdout",
     "output_type": "stream",
     "text": [
      "Proportion of deltas below zero: 0.6057142857142858\n",
      "Proportion of deltas above zero: 0.3942857142857143\n"
     ]
    },
    {
     "name": "stderr",
     "output_type": "stream",
     "text": [
      "Target item: Me Talk Pretty One Day C, Original Ranking: Delta: -37 , Running mean Delta: -49.640,Running median Delta: -8.0, Mean BLEU Score: 0.818:  70%|███████   | 175/250 [20:53<18:07, 14.49s/it]                       "
     ]
    },
    {
     "name": "stdout",
     "output_type": "stream",
     "text": [
      "Proportion of deltas below zero: 0.6079545454545454\n",
      "Proportion of deltas above zero: 0.39204545454545453\n"
     ]
    },
    {
     "name": "stderr",
     "output_type": "stream",
     "text": [
      "Target item: Hinds' Feet on High Places, Original Ranking: Delta: -91 , Running mean Delta: -49.875,Running median Delta: -8.0, Mean BLEU Score: 0.816:  70%|███████   | 176/250 [21:04<16:55, 13.72s/it]"
     ]
    },
    {
     "name": "stdout",
     "output_type": "stream",
     "text": [
      "Proportion of deltas below zero: 0.6101694915254238\n",
      "Proportion of deltas above zero: 0.3898305084745763\n"
     ]
    },
    {
     "name": "stderr",
     "output_type": "stream",
     "text": [
      "Target item: A Redbird Christmas, Original Ranking: Delta: -168 , Running mean Delta: -50.542,Running median Delta: -8.0, Mean BLEU Score: 0.817:  71%|███████   | 177/250 [21:14<15:06, 12.42s/it]      "
     ]
    },
    {
     "name": "stdout",
     "output_type": "stream",
     "text": [
      "Proportion of deltas below zero: 0.6123595505617978\n",
      "Proportion of deltas above zero: 0.38764044943820225\n"
     ]
    },
    {
     "name": "stderr",
     "output_type": "stream",
     "text": [
      "Target item: S is for Silence (Kinsey Millhone Mysteries), Original Ranking: Delta: -1 , Running mean Delta: -50.264,Running median Delta: -8.0, Mean BLEU Score: 0.816:  71%|███████   | 178/250 [21:23<13:38, 11.37s/it]"
     ]
    },
    {
     "name": "stdout",
     "output_type": "stream",
     "text": [
      "Proportion of deltas below zero: 0.6089385474860335\n",
      "Proportion of deltas above zero: 0.3854748603351955\n"
     ]
    },
    {
     "name": "stderr",
     "output_type": "stream",
     "text": [
      "Target item: Tess of the Durbervilles, Original Ranking: Delta: 0 , Running mean Delta: -49.983,Running median Delta: -8.0, Mean BLEU Score: 0.817:  72%|███████▏  | 179/250 [21:27<11:03,  9.34s/it]                     "
     ]
    },
    {
     "name": "stdout",
     "output_type": "stream",
     "text": [
      "Proportion of deltas below zero: 0.6111111111111112\n",
      "Proportion of deltas above zero: 0.38333333333333336\n"
     ]
    },
    {
     "name": "stderr",
     "output_type": "stream",
     "text": [
      "Target item: Seven years in Tibet (The Adventure library), Original Ranking: Delta: -51 , Running mean Delta: -49.989,Running median Delta: -8.0, Mean BLEU Score: 0.817:  72%|███████▏  | 180/250 [21:33<09:29,  8.13s/it]"
     ]
    },
    {
     "name": "stdout",
     "output_type": "stream",
     "text": [
      "Proportion of deltas below zero: 0.6132596685082873\n",
      "Proportion of deltas above zero: 0.3812154696132597\n"
     ]
    },
    {
     "name": "stderr",
     "output_type": "stream",
     "text": [
      "Target item: A Redbird Christmas, Original Ranking: Delta: -100 , Running mean Delta: -50.265,Running median Delta: -8.0, Mean BLEU Score: 0.815:  72%|███████▏  | 181/250 [21:42<09:51,  8.58s/it]                        "
     ]
    },
    {
     "name": "stdout",
     "output_type": "stream",
     "text": [
      "Proportion of deltas below zero: 0.6098901098901099\n",
      "Proportion of deltas above zero: 0.38461538461538464\n"
     ]
    },
    {
     "name": "stderr",
     "output_type": "stream",
     "text": [
      "Target item: Starship Troopers, Original Ranking: Delta: 27 , Running mean Delta: -49.841,Running median Delta: -8.0, Mean BLEU Score: 0.816:  73%|███████▎  | 182/250 [21:47<08:24,  7.41s/it]    "
     ]
    },
    {
     "name": "stdout",
     "output_type": "stream",
     "text": [
      "Proportion of deltas below zero: 0.6120218579234973\n",
      "Proportion of deltas above zero: 0.3825136612021858\n"
     ]
    },
    {
     "name": "stderr",
     "output_type": "stream",
     "text": [
      "Target item: The Practice of Management, Original Ranking: Delta: -12 , Running mean Delta: -49.634,Running median Delta: -8.0, Mean BLEU Score: 0.815:  73%|███████▎  | 183/250 [21:51<07:07,  6.39s/it]"
     ]
    },
    {
     "name": "stdout",
     "output_type": "stream",
     "text": [
      "Proportion of deltas below zero: 0.6086956521739131\n",
      "Proportion of deltas above zero: 0.3858695652173913\n"
     ]
    },
    {
     "name": "stderr",
     "output_type": "stream",
     "text": [
      "Target item: Tess of The D'Urbervilles, Original Ranking: Delta: 13 , Running mean Delta: -49.293,Running median Delta: -8.0, Mean BLEU Score: 0.814:  74%|███████▎  | 184/250 [22:01<08:08,  7.40s/it]  "
     ]
    },
    {
     "name": "stdout",
     "output_type": "stream",
     "text": [
      "Proportion of deltas below zero: 0.6108108108108108\n",
      "Proportion of deltas above zero: 0.3837837837837838\n"
     ]
    },
    {
     "name": "stderr",
     "output_type": "stream",
     "text": [
      "Target item: Mere Christianity, Original Ranking: Delta: -18 , Running mean Delta: -49.124,Running median Delta: -8.0, Mean BLEU Score: 0.815:  74%|███████▍  | 185/250 [22:08<08:06,  7.49s/it]       "
     ]
    },
    {
     "name": "stdout",
     "output_type": "stream",
     "text": [
      "Proportion of deltas below zero: 0.6129032258064516\n",
      "Proportion of deltas above zero: 0.3817204301075269\n"
     ]
    },
    {
     "name": "stderr",
     "output_type": "stream",
     "text": [
      "Target item: When Genius Failed: The Rise and Fall of Long-Term Capital Management, Original Ranking: Delta: -2 , Running mean Delta: -48.871,Running median Delta: -8.0, Mean BLEU Score: 0.815:  74%|███████▍  | 186/250 [22:13<07:10,  6.73s/it]"
     ]
    },
    {
     "name": "stdout",
     "output_type": "stream",
     "text": [
      "Proportion of deltas below zero: 0.6149732620320856\n",
      "Proportion of deltas above zero: 0.37967914438502676\n"
     ]
    },
    {
     "name": "stderr",
     "output_type": "stream",
     "text": [
      "Target item: Cat's Cradle, Original Ranking: Delta: -381 , Running mean Delta: -50.647,Running median Delta: -8.0, Mean BLEU Score: 0.815:  75%|███████▍  | 187/250 [22:20<07:06,  6.77s/it]                                                       "
     ]
    },
    {
     "name": "stdout",
     "output_type": "stream",
     "text": [
      "Proportion of deltas below zero: 0.6170212765957447\n",
      "Proportion of deltas above zero: 0.3776595744680851\n"
     ]
    },
    {
     "name": "stderr",
     "output_type": "stream",
     "text": [
      "Target item: The Winter Queen, Original Ranking: Delta: -42 , Running mean Delta: -50.601,Running median Delta: -9.0, Mean BLEU Score: 0.815:  75%|███████▌  | 188/250 [22:25<06:17,  6.09s/it]"
     ]
    },
    {
     "name": "stdout",
     "output_type": "stream",
     "text": [
      "Proportion of deltas below zero: 0.6137566137566137\n",
      "Proportion of deltas above zero: 0.37566137566137564\n"
     ]
    },
    {
     "name": "stderr",
     "output_type": "stream",
     "text": [
      "Target item: The Curse Of Chalion, Original Ranking: Delta: 0 , Running mean Delta: -50.333,Running median Delta: -8.0, Mean BLEU Score: 0.815:  76%|███████▌  | 189/250 [22:30<05:58,  5.87s/it]"
     ]
    },
    {
     "name": "stdout",
     "output_type": "stream",
     "text": [
      "Proportion of deltas below zero: 0.6157894736842106\n",
      "Proportion of deltas above zero: 0.3736842105263158\n"
     ]
    },
    {
     "name": "stderr",
     "output_type": "stream",
     "text": [
      "Target item: An Unfinished Marriage, Original Ranking: Delta: -117 , Running mean Delta: -50.684,Running median Delta: -9.0, Mean BLEU Score: 0.814:  76%|███████▌  | 190/250 [22:40<07:02,  7.04s/it]"
     ]
    },
    {
     "name": "stdout",
     "output_type": "stream",
     "text": [
      "Proportion of deltas below zero: 0.6178010471204188\n",
      "Proportion of deltas above zero: 0.3717277486910995\n"
     ]
    },
    {
     "name": "stderr",
     "output_type": "stream",
     "text": [
      "Target item: A Lesson Before Dying (Library Edition Audio CDs) (Audio Theatre Collection), Original Ranking: Delta: -17 , Running mean Delta: -50.508,Running median Delta: -10.0, Mean BLEU Score: 0.814:  76%|███████▋  | 191/250 [22:51<08:04,  8.22s/it]"
     ]
    },
    {
     "name": "stdout",
     "output_type": "stream",
     "text": [
      "Proportion of deltas below zero: 0.6197916666666666\n",
      "Proportion of deltas above zero: 0.3697916666666667\n"
     ]
    },
    {
     "name": "stderr",
     "output_type": "stream",
     "text": [
      "Target item: The Forgotten Beasts of Eld, Original Ranking: Delta: -1154 , Running mean Delta: -56.255,Running median Delta: -10.0, Mean BLEU Score: 0.814:  77%|███████▋  | 192/250 [22:57<07:26,  7.70s/it]                                               "
     ]
    },
    {
     "name": "stdout",
     "output_type": "stream",
     "text": [
      "Proportion of deltas below zero: 0.6217616580310881\n",
      "Proportion of deltas above zero: 0.36787564766839376\n"
     ]
    },
    {
     "name": "stderr",
     "output_type": "stream",
     "text": [
      "Target item: The Heart Is a Lonely Hunter, Original Ranking: Delta: -19 , Running mean Delta: -56.062,Running median Delta: -10.0, Mean BLEU Score: 0.814:  77%|███████▋  | 193/250 [23:02<06:24,  6.74s/it] "
     ]
    },
    {
     "name": "stdout",
     "output_type": "stream",
     "text": [
      "Proportion of deltas below zero: 0.6237113402061856\n",
      "Proportion of deltas above zero: 0.36597938144329895\n"
     ]
    },
    {
     "name": "stderr",
     "output_type": "stream",
     "text": [
      "Target item: Catch 22 (catch-22), Original Ranking: Delta: -128 , Running mean Delta: -56.433,Running median Delta: -10.0, Mean BLEU Score: 0.814:  78%|███████▊  | 194/250 [23:07<05:59,  6.41s/it]        "
     ]
    },
    {
     "name": "stdout",
     "output_type": "stream",
     "text": [
      "Proportion of deltas below zero: 0.6205128205128205\n",
      "Proportion of deltas above zero: 0.36923076923076925\n"
     ]
    },
    {
     "name": "stderr",
     "output_type": "stream",
     "text": [
      "Target item: America Alone: The End of the World as We Know It, Original Ranking: Delta: 2 , Running mean Delta: -56.133,Running median Delta: -10.0, Mean BLEU Score: 0.814:  78%|███████▊  | 195/250 [23:17<06:39,  7.27s/it]"
     ]
    },
    {
     "name": "stdout",
     "output_type": "stream",
     "text": [
      "Proportion of deltas below zero: 0.6173469387755102\n",
      "Proportion of deltas above zero: 0.37244897959183676\n"
     ]
    },
    {
     "name": "stderr",
     "output_type": "stream",
     "text": [
      "Target item: The grapes of wrath, Original Ranking: Delta: 7 , Running mean Delta: -55.811,Running median Delta: -10.0, Mean BLEU Score: 0.814:  78%|███████▊  | 196/250 [23:28<07:38,  8.50s/it]                              "
     ]
    },
    {
     "name": "stdout",
     "output_type": "stream",
     "text": [
      "Proportion of deltas below zero: 0.6142131979695431\n",
      "Proportion of deltas above zero: 0.3756345177664975\n"
     ]
    },
    {
     "name": "stderr",
     "output_type": "stream",
     "text": [
      "Target item: Imperial Grunts: The American Military on the Ground, Original Ranking: Delta: 35 , Running mean Delta: -55.350,Running median Delta: -10.0, Mean BLEU Score: 0.813:  79%|███████▉  | 197/250 [23:34<06:52,  7.79s/it]"
     ]
    },
    {
     "name": "stdout",
     "output_type": "stream",
     "text": [
      "Proportion of deltas below zero: 0.6161616161616161\n",
      "Proportion of deltas above zero: 0.37373737373737376\n"
     ]
    },
    {
     "name": "stderr",
     "output_type": "stream",
     "text": [
      "Target item: THE RISE AND FALL ON THE THIRD REICH, Original Ranking: Delta: -120 , Running mean Delta: -55.677,Running median Delta: -10.0, Mean BLEU Score: 0.812:  79%|███████▉  | 198/250 [23:41<06:22,  7.35s/it]              "
     ]
    },
    {
     "name": "stdout",
     "output_type": "stream",
     "text": [
      "Proportion of deltas below zero: 0.6180904522613065\n",
      "Proportion of deltas above zero: 0.37185929648241206\n"
     ]
    },
    {
     "name": "stderr",
     "output_type": "stream",
     "text": [
      "Target item: Fahrenheit 451, Original Ranking: Delta: -22 , Running mean Delta: -55.508,Running median Delta: -10.0, Mean BLEU Score: 0.812:  80%|███████▉  | 199/250 [23:46<05:38,  6.63s/it]                       "
     ]
    },
    {
     "name": "stdout",
     "output_type": "stream",
     "text": [
      "Proportion of deltas below zero: 0.62\n",
      "Proportion of deltas above zero: 0.37\n"
     ]
    },
    {
     "name": "stderr",
     "output_type": "stream",
     "text": [
      "Target item: The everlasting man (A Doubleday Image book), Original Ranking: Delta: -355 , Running mean Delta: -57.005,Running median Delta: -10.0, Mean BLEU Score: 0.812:  80%|████████  | 200/250 [23:56<06:27,  7.74s/it]"
     ]
    },
    {
     "name": "stdout",
     "output_type": "stream",
     "text": [
      "Proportion of deltas below zero: 0.6218905472636815\n",
      "Proportion of deltas above zero: 0.3681592039800995\n"
     ]
    },
    {
     "name": "stderr",
     "output_type": "stream",
     "text": [
      "Target item: The effect of underclass social isolation on schooling choice (Discussion paper / Institute for Research on Poverty), Original Ranking: Delta: -69 , Running mean Delta: -57.065,Running median Delta: -10.0, Mean BLEU Score: 0.811:  80%|████████  | 201/250 [24:00<05:19,  6.52s/it]"
     ]
    },
    {
     "name": "stdout",
     "output_type": "stream",
     "text": [
      "Proportion of deltas below zero: 0.6188118811881188\n",
      "Proportion of deltas above zero: 0.3712871287128713\n"
     ]
    },
    {
     "name": "stderr",
     "output_type": "stream",
     "text": [
      "Target item: The Demon in the Freezer: A True Story, Original Ranking: Delta: 37 , Running mean Delta: -56.599,Running median Delta: -10.0, Mean BLEU Score: 0.812:  81%|████████  | 202/250 [24:06<05:05,  6.36s/it]                                                                               "
     ]
    },
    {
     "name": "stdout",
     "output_type": "stream",
     "text": [
      "Proportion of deltas below zero: 0.6157635467980296\n",
      "Proportion of deltas above zero: 0.37438423645320196\n"
     ]
    },
    {
     "name": "stderr",
     "output_type": "stream",
     "text": [
      "Target item: Girl with a Pearl Earring, Original Ranking: Delta: 17 , Running mean Delta: -56.236,Running median Delta: -10.0, Mean BLEU Score: 0.812:  81%|████████  | 203/250 [24:11<04:41,  6.00s/it]             "
     ]
    },
    {
     "name": "stdout",
     "output_type": "stream",
     "text": [
      "Proportion of deltas below zero: 0.6176470588235294\n",
      "Proportion of deltas above zero: 0.37254901960784315\n"
     ]
    },
    {
     "name": "stderr",
     "output_type": "stream",
     "text": [
      "Target item: Zen and the Art of Motorcycle Maintenance : An Inquiry into Values, Original Ranking: Delta: -35 , Running mean Delta: -56.132,Running median Delta: -10.0, Mean BLEU Score: 0.812:  82%|████████▏ | 204/250 [24:15<04:19,  5.64s/it]"
     ]
    },
    {
     "name": "stdout",
     "output_type": "stream",
     "text": [
      "Proportion of deltas below zero: 0.6195121951219512\n",
      "Proportion of deltas above zero: 0.37073170731707317\n"
     ]
    },
    {
     "name": "stderr",
     "output_type": "stream",
     "text": [
      "Target item: Moby Dick or the White Whale, Original Ranking: Delta: -2 , Running mean Delta: -55.868,Running median Delta: -10.0, Mean BLEU Score: 0.812:  82%|████████▏ | 205/250 [24:19<03:50,  5.12s/it]                                       "
     ]
    },
    {
     "name": "stdout",
     "output_type": "stream",
     "text": [
      "Proportion of deltas below zero: 0.6213592233009708\n",
      "Proportion of deltas above zero: 0.36893203883495146\n"
     ]
    },
    {
     "name": "stderr",
     "output_type": "stream",
     "text": [
      "Target item: Cold Mountain A Novel, Original Ranking: Delta: -342 , Running mean Delta: -57.257,Running median Delta: -10.0, Mean BLEU Score: 0.812:  82%|████████▏ | 206/250 [24:26<04:08,  5.65s/it]     "
     ]
    },
    {
     "name": "stdout",
     "output_type": "stream",
     "text": [
      "Proportion of deltas below zero: 0.6231884057971014\n",
      "Proportion of deltas above zero: 0.3671497584541063\n"
     ]
    },
    {
     "name": "stderr",
     "output_type": "stream",
     "text": [
      "Target item: The Stranger Beside Me, Original Ranking: Delta: -7 , Running mean Delta: -57.014,Running median Delta: -10.0, Mean BLEU Score: 0.813:  83%|████████▎ | 207/250 [24:31<03:56,  5.49s/it] "
     ]
    },
    {
     "name": "stdout",
     "output_type": "stream",
     "text": [
      "Proportion of deltas below zero: 0.625\n",
      "Proportion of deltas above zero: 0.36538461538461536\n"
     ]
    },
    {
     "name": "stderr",
     "output_type": "stream",
     "text": [
      "Target item: Lord of the flies, Original Ranking: Delta: -9 , Running mean Delta: -56.784,Running median Delta: -10.0, Mean BLEU Score: 0.813:  83%|████████▎ | 208/250 [24:41<04:38,  6.63s/it]     "
     ]
    },
    {
     "name": "stdout",
     "output_type": "stream",
     "text": [
      "Proportion of deltas below zero: 0.6267942583732058\n",
      "Proportion of deltas above zero: 0.36363636363636365\n"
     ]
    },
    {
     "name": "stderr",
     "output_type": "stream",
     "text": [
      "Target item: The Given Day, Original Ranking: Delta: -5 , Running mean Delta: -56.536,Running median Delta: -10.0, Mean BLEU Score: 0.814:  84%|████████▎ | 209/250 [24:54<05:56,  8.69s/it]    "
     ]
    },
    {
     "name": "stdout",
     "output_type": "stream",
     "text": [
      "Proportion of deltas below zero: 0.6238095238095238\n",
      "Proportion of deltas above zero: 0.3619047619047619\n"
     ]
    },
    {
     "name": "stderr",
     "output_type": "stream",
     "text": [
      "Target item: Portrait of a Killer: Jack the Ripper - Case Closed, Original Ranking: Delta: 0 , Running mean Delta: -56.267,Running median Delta: -9.5, Mean BLEU Score: 0.814:  84%|████████▍ | 210/250 [25:00<05:13,  7.83s/it]"
     ]
    },
    {
     "name": "stdout",
     "output_type": "stream",
     "text": [
      "Proportion of deltas below zero: 0.6255924170616114\n",
      "Proportion of deltas above zero: 0.36018957345971564\n"
     ]
    },
    {
     "name": "stderr",
     "output_type": "stream",
     "text": [
      "Target item: Me Talk Pretty One Day C, Original Ranking: Delta: -93 , Running mean Delta: -56.441,Running median Delta: -10.0, Mean BLEU Score: 0.814:  84%|████████▍ | 211/250 [25:05<04:33,  7.01s/it]                        "
     ]
    },
    {
     "name": "stdout",
     "output_type": "stream",
     "text": [
      "Proportion of deltas below zero: 0.6226415094339622\n",
      "Proportion of deltas above zero: 0.3632075471698113\n"
     ]
    },
    {
     "name": "stderr",
     "output_type": "stream",
     "text": [
      "Target item: The grapes of wrath (The Collector's library of the world's best-loved books), Original Ranking: Delta: 1 , Running mean Delta: -56.170,Running median Delta: -9.5, Mean BLEU Score: 0.814:  85%|████████▍ | 212/250 [25:18<05:36,  8.84s/it]"
     ]
    },
    {
     "name": "stdout",
     "output_type": "stream",
     "text": [
      "Proportion of deltas below zero: 0.6244131455399061\n",
      "Proportion of deltas above zero: 0.3615023474178404\n"
     ]
    },
    {
     "name": "stderr",
     "output_type": "stream",
     "text": [
      "Target item: Free Fall (Elvis Cole), Original Ranking: Delta: -225 , Running mean Delta: -56.962,Running median Delta: -10.0, Mean BLEU Score: 0.814:  85%|████████▌ | 213/250 [25:25<04:59,  8.11s/it]                                                   "
     ]
    },
    {
     "name": "stdout",
     "output_type": "stream",
     "text": [
      "Proportion of deltas below zero: 0.6261682242990654\n",
      "Proportion of deltas above zero: 0.3598130841121495\n"
     ]
    },
    {
     "name": "stderr",
     "output_type": "stream",
     "text": [
      "Target item: Harry Potter and The Sorcerer's Stone, Original Ranking: Delta: -31 , Running mean Delta: -56.841,Running median Delta: -10.0, Mean BLEU Score: 0.815:  86%|████████▌ | 214/250 [25:36<05:25,  9.05s/it]"
     ]
    },
    {
     "name": "stdout",
     "output_type": "stream",
     "text": [
      "Proportion of deltas below zero: 0.627906976744186\n",
      "Proportion of deltas above zero: 0.3581395348837209\n"
     ]
    },
    {
     "name": "stderr",
     "output_type": "stream",
     "text": [
      "Target item: Thus spake Zarathustra (The Modern library of the world's best books), Original Ranking: Delta: -163 , Running mean Delta: -57.335,Running median Delta: -10.0, Mean BLEU Score: 0.815:  86%|████████▌ | 215/250 [25:41<04:38,  7.94s/it]"
     ]
    },
    {
     "name": "stdout",
     "output_type": "stream",
     "text": [
      "Proportion of deltas below zero: 0.6296296296296297\n",
      "Proportion of deltas above zero: 0.35648148148148145\n"
     ]
    },
    {
     "name": "stderr",
     "output_type": "stream",
     "text": [
      "Target item: Wish You Well, Original Ranking: Delta: -28 , Running mean Delta: -57.199,Running median Delta: -10.0, Mean BLEU Score: 0.815:  86%|████████▋ | 216/250 [25:51<04:43,  8.35s/it]                                                         "
     ]
    },
    {
     "name": "stdout",
     "output_type": "stream",
     "text": [
      "Proportion of deltas below zero: 0.631336405529954\n",
      "Proportion of deltas above zero: 0.3548387096774194\n"
     ]
    },
    {
     "name": "stderr",
     "output_type": "stream",
     "text": [
      "Target item: All the King's Men, Original Ranking: Delta: -12 , Running mean Delta: -56.991,Running median Delta: -10.0, Mean BLEU Score: 0.815:  87%|████████▋ | 217/250 [26:05<05:33, 10.10s/it]"
     ]
    },
    {
     "name": "stdout",
     "output_type": "stream",
     "text": [
      "Proportion of deltas below zero: 0.6284403669724771\n",
      "Proportion of deltas above zero: 0.3577981651376147\n"
     ]
    },
    {
     "name": "stderr",
     "output_type": "stream",
     "text": [
      "Target item: The Scarlet Letter : A Romance, Original Ranking: Delta: 18 , Running mean Delta: -56.647,Running median Delta: -10.0, Mean BLEU Score: 0.814:  87%|████████▋ | 218/250 [26:08<04:22,  8.19s/it]"
     ]
    },
    {
     "name": "stdout",
     "output_type": "stream",
     "text": [
      "Proportion of deltas below zero: 0.6255707762557078\n",
      "Proportion of deltas above zero: 0.3607305936073059\n"
     ]
    },
    {
     "name": "stderr",
     "output_type": "stream",
     "text": [
      "Target item: Confessions of an Economic Hitman, Original Ranking: Delta: 19 , Running mean Delta: -56.301,Running median Delta: -10.0, Mean BLEU Score: 0.815:  88%|████████▊ | 219/250 [26:31<06:30, 12.60s/it]"
     ]
    },
    {
     "name": "stdout",
     "output_type": "stream",
     "text": [
      "Proportion of deltas below zero: 0.6272727272727273\n",
      "Proportion of deltas above zero: 0.35909090909090907\n"
     ]
    },
    {
     "name": "stderr",
     "output_type": "stream",
     "text": [
      "Target item: Lion, the Witch, and the Wardrobe, Original Ranking: Delta: -115 , Running mean Delta: -56.568,Running median Delta: -10.0, Mean BLEU Score: 0.815:  88%|████████▊ | 220/250 [26:47<06:42, 13.42s/it]"
     ]
    },
    {
     "name": "stdout",
     "output_type": "stream",
     "text": [
      "Proportion of deltas below zero: 0.6289592760180995\n",
      "Proportion of deltas above zero: 0.3574660633484163\n"
     ]
    },
    {
     "name": "stderr",
     "output_type": "stream",
     "text": [
      "Target item: Dr Jekyll And Mr Hyde, Original Ranking: Delta: -156 , Running mean Delta: -57.018,Running median Delta: -10.0, Mean BLEU Score: 0.815:  88%|████████▊ | 221/250 [27:02<06:45, 13.97s/it]            "
     ]
    },
    {
     "name": "stdout",
     "output_type": "stream",
     "text": [
      "Proportion of deltas below zero: 0.6261261261261262\n",
      "Proportion of deltas above zero: 0.36036036036036034\n"
     ]
    },
    {
     "name": "stderr",
     "output_type": "stream",
     "text": [
      "Target item: Little Women or Meg, Jo, Beth and Amy, Original Ranking: Delta: 42 , Running mean Delta: -56.572,Running median Delta: -10.0, Mean BLEU Score: 0.814:  89%|████████▉ | 222/250 [27:08<05:23, 11.54s/it]"
     ]
    },
    {
     "name": "stdout",
     "output_type": "stream",
     "text": [
      "Proportion of deltas below zero: 0.6233183856502242\n",
      "Proportion of deltas above zero: 0.3632286995515695\n"
     ]
    },
    {
     "name": "stderr",
     "output_type": "stream",
     "text": [
      "Target item: The Lord of the Rings Trilogy (The Fellowship of the Ring, The Two Towers, The Return of the King, I, II, III), Original Ranking: Delta: 46 , Running mean Delta: -56.112,Running median Delta: -10.0, Mean BLEU Score: 0.813:  89%|████████▉ | 223/250 [27:12<04:12,  9.35s/it]"
     ]
    },
    {
     "name": "stdout",
     "output_type": "stream",
     "text": [
      "Proportion of deltas below zero: 0.6205357142857143\n",
      "Proportion of deltas above zero: 0.36607142857142855\n"
     ]
    },
    {
     "name": "stderr",
     "output_type": "stream",
     "text": [
      "Target item: The Martian Chronicles (Time Reading Program), Original Ranking: Delta: 32 , Running mean Delta: -55.719,Running median Delta: -10.0, Mean BLEU Score: 0.813:  90%|████████▉ | 224/250 [27:29<05:03, 11.68s/it]                                                                 "
     ]
    },
    {
     "name": "stdout",
     "output_type": "stream",
     "text": [
      "Proportion of deltas below zero: 0.6222222222222222\n",
      "Proportion of deltas above zero: 0.36444444444444446\n"
     ]
    },
    {
     "name": "stderr",
     "output_type": "stream",
     "text": [
      "Target item: Battle Flag: Starbuck Chronicles, Vol. 3, Original Ranking: Delta: -12 , Running mean Delta: -55.524,Running median Delta: -10.0, Mean BLEU Score: 0.813:  90%|█████████ | 225/250 [27:44<05:13, 12.52s/it]    "
     ]
    },
    {
     "name": "stdout",
     "output_type": "stream",
     "text": [
      "Proportion of deltas below zero: 0.6238938053097345\n",
      "Proportion of deltas above zero: 0.36283185840707965\n"
     ]
    },
    {
     "name": "stderr",
     "output_type": "stream",
     "text": [
      "Target item: Circus Of The Damned (Anita Blake, Vampire Hunter), Original Ranking: Delta: -185 , Running mean Delta: -56.097,Running median Delta: -10.0, Mean BLEU Score: 0.814:  90%|█████████ | 226/250 [27:55<04:53, 12.24s/it]"
     ]
    },
    {
     "name": "stdout",
     "output_type": "stream",
     "text": [
      "Proportion of deltas below zero: 0.6211453744493393\n",
      "Proportion of deltas above zero: 0.3656387665198238\n"
     ]
    },
    {
     "name": "stderr",
     "output_type": "stream",
     "text": [
      "Target item: The Lord of the Rings (3 Volume Set), Original Ranking: Delta: 2 , Running mean Delta: -55.841,Running median Delta: -10.0, Mean BLEU Score: 0.814:  91%|█████████ | 227/250 [28:04<04:19, 11.26s/it]                 "
     ]
    },
    {
     "name": "stdout",
     "output_type": "stream",
     "text": [
      "Proportion of deltas below zero: 0.6228070175438597\n",
      "Proportion of deltas above zero: 0.36403508771929827\n"
     ]
    },
    {
     "name": "stderr",
     "output_type": "stream",
     "text": [
      "Target item: A Redbird Christmas, Original Ranking: Delta: -62 , Running mean Delta: -55.868,Running median Delta: -10.0, Mean BLEU Score: 0.814:  91%|█████████ | 228/250 [28:10<03:33,  9.71s/it]               "
     ]
    },
    {
     "name": "stdout",
     "output_type": "stream",
     "text": [
      "Proportion of deltas below zero: 0.6244541484716157\n",
      "Proportion of deltas above zero: 0.3624454148471616\n"
     ]
    },
    {
     "name": "stderr",
     "output_type": "stream",
     "text": [
      "Target item: The Memoirs of Cleopatra: A Novel, Original Ranking: Delta: -174 , Running mean Delta: -56.384,Running median Delta: -10.0, Mean BLEU Score: 0.814:  92%|█████████▏| 229/250 [28:16<02:59,  8.53s/it]"
     ]
    },
    {
     "name": "stdout",
     "output_type": "stream",
     "text": [
      "Proportion of deltas below zero: 0.6260869565217392\n",
      "Proportion of deltas above zero: 0.36086956521739133\n"
     ]
    },
    {
     "name": "stderr",
     "output_type": "stream",
     "text": [
      "Target item: Gettysburg: A Novel of the Civil War, Original Ranking: Delta: -71 , Running mean Delta: -56.448,Running median Delta: -10.0, Mean BLEU Score: 0.814:  92%|█████████▏| 230/250 [28:28<03:11,  9.57s/it]"
     ]
    },
    {
     "name": "stdout",
     "output_type": "stream",
     "text": [
      "Proportion of deltas below zero: 0.6277056277056277\n",
      "Proportion of deltas above zero: 0.3593073593073593\n"
     ]
    },
    {
     "name": "stderr",
     "output_type": "stream",
     "text": [
      "Target item: Personal Power Through Awareness: A Guidebook for Sensitive People (Book II of the Earth Life Series), Original Ranking: Delta: -65 , Running mean Delta: -56.485,Running median Delta: -10.0, Mean BLEU Score: 0.814:  92%|█████████▏| 231/250 [28:34<02:40,  8.43s/it]"
     ]
    },
    {
     "name": "stdout",
     "output_type": "stream",
     "text": [
      "Proportion of deltas below zero: 0.6293103448275862\n",
      "Proportion of deltas above zero: 0.3577586206896552\n"
     ]
    },
    {
     "name": "stderr",
     "output_type": "stream",
     "text": [
      "Target item: Lamb: The Gospel According to Biff, Christ's Childhood Pal, Original Ranking: Delta: -63 , Running mean Delta: -56.513,Running median Delta: -11.0, Mean BLEU Score: 0.814:  93%|█████████▎| 232/250 [28:39<02:15,  7.51s/it]                                           "
     ]
    },
    {
     "name": "stdout",
     "output_type": "stream",
     "text": [
      "Proportion of deltas below zero: 0.630901287553648\n",
      "Proportion of deltas above zero: 0.3562231759656652\n"
     ]
    },
    {
     "name": "stderr",
     "output_type": "stream",
     "text": [
      "Target item: The Martian Chronicles (Time Reading Program), Original Ranking: Delta: -48 , Running mean Delta: -56.476,Running median Delta: -12.0, Mean BLEU Score: 0.813:  93%|█████████▎| 233/250 [28:46<02:02,  7.23s/it]             "
     ]
    },
    {
     "name": "stdout",
     "output_type": "stream",
     "text": [
      "Proportion of deltas below zero: 0.6324786324786325\n",
      "Proportion of deltas above zero: 0.3547008547008547\n"
     ]
    },
    {
     "name": "stderr",
     "output_type": "stream",
     "text": [
      "Target item: Persuasion (French Edition), Original Ranking: Delta: -186 , Running mean Delta: -57.030,Running median Delta: -12.0, Mean BLEU Score: 0.813:  94%|█████████▎| 234/250 [28:52<01:52,  7.06s/it]                 "
     ]
    },
    {
     "name": "stdout",
     "output_type": "stream",
     "text": [
      "Proportion of deltas below zero: 0.6340425531914894\n",
      "Proportion of deltas above zero: 0.35319148936170214\n"
     ]
    },
    {
     "name": "stderr",
     "output_type": "stream",
     "text": [
      "Target item: The Innocent Man: Murder and Injustice in a Small Town (Random House Large Print), Original Ranking: Delta: -7 , Running mean Delta: -56.817,Running median Delta: -12.0, Mean BLEU Score: 0.813:  94%|█████████▍| 235/250 [29:10<02:31, 10.09s/it]"
     ]
    },
    {
     "name": "stdout",
     "output_type": "stream",
     "text": [
      "Proportion of deltas below zero: 0.6313559322033898\n",
      "Proportion of deltas above zero: 0.3559322033898305\n"
     ]
    },
    {
     "name": "stderr",
     "output_type": "stream",
     "text": [
      "Target item: How Israel Lost : The Four Questions, Original Ranking: Delta: 27 , Running mean Delta: -56.462,Running median Delta: -11.0, Mean BLEU Score: 0.813:  94%|█████████▍| 236/250 [29:14<01:58,  8.50s/it]                                             "
     ]
    },
    {
     "name": "stdout",
     "output_type": "stream",
     "text": [
      "Proportion of deltas below zero: 0.6329113924050633\n",
      "Proportion of deltas above zero: 0.35443037974683544\n"
     ]
    },
    {
     "name": "stderr",
     "output_type": "stream",
     "text": [
      "Target item: TESS OF THE D'UBERVILLES (PL 25), Original Ranking: Delta: -1 , Running mean Delta: -56.228,Running median Delta: -10.0, Mean BLEU Score: 0.813:  95%|█████████▍| 237/250 [29:20<01:39,  7.66s/it]    "
     ]
    },
    {
     "name": "stdout",
     "output_type": "stream",
     "text": [
      "Proportion of deltas below zero: 0.634453781512605\n",
      "Proportion of deltas above zero: 0.35294117647058826\n"
     ]
    },
    {
     "name": "stderr",
     "output_type": "stream",
     "text": [
      "Target item: This Present Darkness (Turtleback School & Library Binding Edition), Original Ranking: Delta: -5 , Running mean Delta: -56.013,Running median Delta: -10.0, Mean BLEU Score: 0.814:  95%|█████████▌| 238/250 [29:29<01:35,  7.96s/it]"
     ]
    },
    {
     "name": "stdout",
     "output_type": "stream",
     "text": [
      "Proportion of deltas below zero: 0.6359832635983264\n",
      "Proportion of deltas above zero: 0.3514644351464435\n"
     ]
    },
    {
     "name": "stderr",
     "output_type": "stream",
     "text": [
      "Target item: Vengeance: the True Story of an Israeli Counter-terrorist Team, Original Ranking: Delta: -122 , Running mean Delta: -56.289,Running median Delta: -10.0, Mean BLEU Score: 0.813:  96%|█████████▌| 239/250 [29:37<01:26,  7.90s/it]   "
     ]
    },
    {
     "name": "stdout",
     "output_type": "stream",
     "text": [
      "Proportion of deltas below zero: 0.6375\n",
      "Proportion of deltas above zero: 0.35\n"
     ]
    },
    {
     "name": "stderr",
     "output_type": "stream",
     "text": [
      "Target item: Forever Odd, Original Ranking: Delta: -30 , Running mean Delta: -56.179,Running median Delta: -11.0, Mean BLEU Score: 0.813:  96%|█████████▌| 240/250 [29:41<01:07,  6.75s/it]                                                    "
     ]
    },
    {
     "name": "stdout",
     "output_type": "stream",
     "text": [
      "Proportion of deltas below zero: 0.6348547717842323\n",
      "Proportion of deltas above zero: 0.35269709543568467\n"
     ]
    },
    {
     "name": "stderr",
     "output_type": "stream",
     "text": [
      "Target item: Middlesex [Unabridged Audiobook], Original Ranking: Delta: 5 , Running mean Delta: -55.925,Running median Delta: -10.0, Mean BLEU Score: 0.814:  96%|█████████▋| 241/250 [29:53<01:16,  8.45s/it]"
     ]
    },
    {
     "name": "stdout",
     "output_type": "stream",
     "text": [
      "Proportion of deltas below zero: 0.6363636363636364\n",
      "Proportion of deltas above zero: 0.3512396694214876\n"
     ]
    },
    {
     "name": "stderr",
     "output_type": "stream",
     "text": [
      "Target item: Death Du Jour : A Novel, Original Ranking: Delta: -7 , Running mean Delta: -55.723,Running median Delta: -10.0, Mean BLEU Score: 0.813:  97%|█████████▋| 242/250 [29:58<01:00,  7.54s/it]        "
     ]
    },
    {
     "name": "stdout",
     "output_type": "stream",
     "text": [
      "Proportion of deltas below zero: 0.6337448559670782\n",
      "Proportion of deltas above zero: 0.35390946502057613\n"
     ]
    },
    {
     "name": "stderr",
     "output_type": "stream",
     "text": [
      "Target item: Enough: The Phony Leaders, Dead-End Movements, and Culture of Failure That Are Undermining Black America--and What We Can Do About It, Original Ranking: Delta: 10 , Running mean Delta: -55.453,Running median Delta: -10.0, Mean BLEU Score: 0.813:  97%|█████████▋| 243/250 [30:04<00:48,  6.87s/it]"
     ]
    },
    {
     "name": "stdout",
     "output_type": "stream",
     "text": [
      "Proportion of deltas below zero: 0.6352459016393442\n",
      "Proportion of deltas above zero: 0.3524590163934426\n"
     ]
    },
    {
     "name": "stderr",
     "output_type": "stream",
     "text": [
      "Target item: Catch Me If You Can: The Amazing True Story of the Youngest and Most Daring Con Man in the History of Fun and Profit, Original Ranking: Delta: -114 , Running mean Delta: -55.693,Running median Delta: -10.0, Mean BLEU Score: 0.813:  98%|█████████▊| 244/250 [30:07<00:35,  5.90s/it]               "
     ]
    },
    {
     "name": "stdout",
     "output_type": "stream",
     "text": [
      "Proportion of deltas below zero: 0.6326530612244898\n",
      "Proportion of deltas above zero: 0.3551020408163265\n"
     ]
    },
    {
     "name": "stderr",
     "output_type": "stream",
     "text": [
      "Target item: Jane Eyre / Wuthering Heights, Original Ranking: Delta: 18 , Running mean Delta: -55.392,Running median Delta: -10.0, Mean BLEU Score: 0.813:  98%|█████████▊| 245/250 [30:22<00:43,  8.67s/it]                                                                                         "
     ]
    },
    {
     "name": "stdout",
     "output_type": "stream",
     "text": [
      "Proportion of deltas below zero: 0.6341463414634146\n",
      "Proportion of deltas above zero: 0.35365853658536583\n"
     ]
    },
    {
     "name": "stderr",
     "output_type": "stream",
     "text": [
      "Target item: On Death and Dying: What the Dying Have to Teach Doctors, Nurses, Clergy, and Their Own Family, Original Ranking: Delta: -43 , Running mean Delta: -55.341,Running median Delta: -10.0, Mean BLEU Score: 0.813:  98%|█████████▊| 246/250 [30:27<00:29,  7.47s/it]"
     ]
    },
    {
     "name": "stdout",
     "output_type": "stream",
     "text": [
      "Proportion of deltas below zero: 0.631578947368421\n",
      "Proportion of deltas above zero: 0.3562753036437247\n"
     ]
    },
    {
     "name": "stderr",
     "output_type": "stream",
     "text": [
      "Target item: All quiet on the western front;, Original Ranking: Delta: 6 , Running mean Delta: -55.093,Running median Delta: -10.0, Mean BLEU Score: 0.813:  99%|█████████▉| 247/250 [30:36<00:23,  7.75s/it]                                                                 "
     ]
    },
    {
     "name": "stdout",
     "output_type": "stream",
     "text": [
      "Proportion of deltas below zero: 0.6330645161290323\n",
      "Proportion of deltas above zero: 0.3548387096774194\n"
     ]
    },
    {
     "name": "stderr",
     "output_type": "stream",
     "text": [
      "Target item: Memoirs of a Geisha (Signed), Original Ranking: Delta: -25 , Running mean Delta: -54.972,Running median Delta: -10.0, Mean BLEU Score: 0.813:  99%|█████████▉| 248/250 [31:01<00:26, 13.15s/it] "
     ]
    },
    {
     "name": "stdout",
     "output_type": "stream",
     "text": [
      "Proportion of deltas below zero: 0.6305220883534136\n",
      "Proportion of deltas above zero: 0.3534136546184739\n"
     ]
    },
    {
     "name": "stderr",
     "output_type": "stream",
     "text": [
      "Target item: Slaughter-House Five, Original Ranking: Delta: 0 , Running mean Delta: -54.751,Running median Delta: -10.0, Mean BLEU Score: 0.814: 100%|█████████▉| 249/250 [31:06<00:10, 10.73s/it]          "
     ]
    },
    {
     "name": "stdout",
     "output_type": "stream",
     "text": [
      "Proportion of deltas below zero: 0.628\n",
      "Proportion of deltas above zero: 0.356\n"
     ]
    },
    {
     "name": "stderr",
     "output_type": "stream",
     "text": [
      "Target item: Moby Dick Or the Whale, Original Ranking: Delta: 3 , Running mean Delta: -54.520,Running median Delta: -10.0, Mean BLEU Score: 0.814: 100%|██████████| 250/250 [31:12<00:00,  7.49s/it]\n"
     ]
    }
   ],
   "source": [
    "\n",
    "with open(f'./data_preprocessed/{args.data_name}/show2id.pkl','rb') as f:\n",
    "    movie_id_map = pickle.load(f)\n",
    "    movie_id_map = {v:k for k,v in movie_id_map.items()}\n",
    "    \n",
    "\n",
    "\n",
    "    \n",
    "\n",
    "item_id_to_title = map_id_to_title( args.metadata_path,data = 'books')\n",
    "item_id_to_genre = map_id_to_genre(args.metadata_path,data = 'books')\n",
    "\n",
    "\n",
    "#easy tokenization function \n",
    "def tokenize_prompt(tokenizer,prompt,max_l):\n",
    "    encodings = tokenizer([prompt],padding=True, truncation=True,max_length=max_l,\n",
    "                          return_tensors='pt')\n",
    "    return encodings\n",
    "\n",
    "# gets diffs in recommendations between two summaries\n",
    "def get_difs(s1,s2,device = 0,target_rank = 10 ):\n",
    "    rankings = []\n",
    "    genres = []\n",
    "    s_1_encodings = tokenize_prompt(tokenizer,s1,max_l)\n",
    "    s_2_encodings = tokenize_prompt(tokenizer,s2,max_l)\n",
    "    for k in s_1_encodings:\n",
    "        s_1_encodings[k] = s_1_encodings[k].to(device)\n",
    "    for k in s_2_encodings:\n",
    "        s_2_encodings[k] = s_2_encodings[k].to(device)\n",
    "    out_s1 = model(**s_1_encodings)\n",
    "    out_s2 = model(**s_2_encodings)\n",
    "    l = torch.topk(torch.softmax(out_s1.logits,dim = 1),2000)\n",
    "    indices_1 = l.indices[0]\n",
    "    l2 = torch.topk(torch.softmax(out_s2.logits,dim = 1),2000)\n",
    "    indices_2 = l2.indices[0]\n",
    "    target_index_s1 = indices_1[target_rank].item()\n",
    "    pos = torch.where(indices_2 == target_index_s1)[0].item()\n",
    "    delta = target_rank - pos\n",
    "    for i in range(len(indices_2)):\n",
    "            index_2 = indices_2[i].item()\n",
    "            movie_id2 = movie_id_map[index_2] if args.data_name != 'books' else index_2\n",
    "            genres.append(item_id_to_genre[movie_id2])\n",
    "            rankings.append(item_id_to_title[movie_id2])\n",
    "    return delta,pos,rankings,genres\n",
    "\n",
    "#get recommendations for a single summary\n",
    "def get_recs(s1,device = 0,ranking = 10): \n",
    "    s = ''\n",
    "    rankings = []\n",
    "    genres = []\n",
    "    s1_encodings = tokenize_prompt(tokenizer,s1,max_l)\n",
    "    #move encodings to device\n",
    "    for k in s1_encodings:\n",
    "        s1_encodings[k] = s1_encodings[k].to(device)\n",
    "    out_s1 = model(**s1_encodings)\n",
    "    l = torch.topk(torch.softmax(out_s1.logits,dim = 1),1000)\n",
    "    indices_1 = l.indices[0]\n",
    "    for i in range(len(indices_1)):\n",
    "            index_1 = indices_1[i].item()\n",
    "            movie_id1 = movie_id_map[index_1] if args.data_name != 'books' else index_1\n",
    "            movie_title = item_id_to_title[movie_id1]\n",
    "            rankings.append(item_id_to_title[movie_id1])\n",
    "            genres.append(item_id_to_genre[movie_id1])\n",
    "            if i == ranking:\n",
    "                target_movie = movie_title\n",
    "\n",
    "    return target_movie,s,rankings ,genres\n",
    "\n",
    "np.random.seed(2024)\n",
    "sampled_keys = np.random.choice(list(prompts.keys()),args.num_samples , replace=False)\n",
    "#shuffle the list \n",
    "\n",
    "\n",
    "gpt_outputs_d = defaultdict(list)\n",
    "original_rankings = defaultdict(list)\n",
    "changed_rankings = defaultdict(list)\n",
    "original_genres = defaultdict(list)\n",
    "changed_genres = defaultdict(list)\n",
    "original_prompts = {}\n",
    "user_target_movie ={}\n",
    "deltas = {}\n",
    "running_deltas = []\n",
    "bleu_scores = {}\n",
    "running_bleu_scores = []\n",
    "direction = args.direction\n",
    "model.eval()\n",
    "taget_rank = args.target_index\n",
    "\n",
    "# Prompt GPT to change summaries \n",
    "for k in (pbar:=tqdm(sampled_keys)):\n",
    "    target_movie, ranking,rankings,o_genres  = get_recs(prompts[k],ranking = taget_rank)\n",
    "    \n",
    "\n",
    "    rankings =  {\"\\n\".join([f'{i+1,item}' for i,item in enumerate(rankings[:args.target_index+args.target_index])])}\n",
    "    prompt = \\\n",
    "                f\"\"\"\n",
    "                You will be fed user profiles which summarize user's preferences. Please make edits to them that such that you push\n",
    "                the input book as far {direction} as possible. Please maintain the summaries in the following format: \n",
    "                You will be fed the summaries, the target movie, and the rankings. Please only output the full summaries keep them as close to the input summary as possible.\n",
    "                Keep the summaries in the following format: \\n\n",
    "                Summary: [Specific details about genres the user enjoys]. [Specific details of plot points the user seems to enjoy]. \n",
    "                [Specific details about genres the user does not enjoy]. [Specific details of plot points the user does not enjoy but other users may].\\n \n",
    "                Example: \n",
    "                Here we slightly augment the user's preference to make {example_item} more appealing to the user by removing words not associated with it.\\n\n",
    "                Original summary:\\n {example}\\n\n",
    "                Augmented summary: \\n {s}\\n\n",
    "                \"\"\"\n",
    "    user_prompt =\\\n",
    "                f\"\"\"\n",
    "                The current rankings are:\n",
    "                {rankings} \\n \\n\n",
    "                Taking into account the rankings make changes to the genres and plot points the user enjoys and does not enjoy.\\n\n",
    "                Do not change full sentences but simply replace words or remove them without replacement\\n \n",
    "                Make the changes to move the target item {direction} and try to keep the rest of the rankings the same\\n\n",
    "                Do not just bold or emphasize words\\n \n",
    "                Remember do not include any information about the target item in the summary.\\n\n",
    "                Please only output the full summary make edit/remove at most 10-15 words. \n",
    "                Target movie to move in ranking {direction}: {target_movie}\\n\n",
    "                {prompts[k]}\\n \n",
    "                \"\"\"\n",
    "    while True:\n",
    "        try:\n",
    "            msg = [\n",
    "                {\n",
    "                    \"role\": \"system\",\n",
    "                    \"content\": prompt\n",
    "                },\n",
    "                {\n",
    "                    \"role\": \"user\",\n",
    "                    \"content\": user_prompt\n",
    "                }\n",
    "            ]\n",
    "\n",
    "            gpt_output = openai.ChatCompletion.create(\n",
    "                model='gpt-4-1106-preview',\n",
    "                messages=msg,\n",
    "                temperature=1,\n",
    "                max_tokens=300,\n",
    "                # seed=2024\n",
    "            )['choices'][0]['message']['content']\n",
    "\n",
    "            # If the API call is successful and does not throw an error, break the loop\n",
    "            break\n",
    "        except Exception as e:\n",
    "            # If an error occurs, print the error and continue with the next iteration of the loop\n",
    "            print(f\"An error occurred: {e}\")\n",
    "            \n",
    "    gpt_outputs_d[k].append(gpt_output)\n",
    "    original_prompts[k] = prompts[k]\n",
    "    delta, new_rank,new_rankings,generes = get_difs(s1 = prompts[k],s2 = gpt_output,target_rank = taget_rank)\n",
    "    user_target_movie[k] = target_movie\n",
    "    original_rankings[k].append(rankings)\n",
    "    changed_rankings[k].append(new_rankings)\n",
    "    deltas[k] = delta\n",
    "    changed_genres[k].append(generes)   \n",
    "    original_genres[k].append(o_genres)\n",
    "    running_deltas.append(delta)\n",
    "    reference = [word for word in prompts[k].split()]\n",
    "    candidate = [word for word in gpt_output.split()]\n",
    "    bleu_score = sentence_bleu([reference], candidate)\n",
    "    bleu_scores[k] = bleu_score\n",
    "    running_bleu_scores.append(bleu_score)\n",
    "    deltas_list = list(deltas.values())\n",
    "    #get the proportion of deltas below zero \n",
    "    prop_below_zero = len([i for i in deltas_list if i < 0])/len(deltas_list)\n",
    "    print(f'Proportion of deltas below zero: {prop_below_zero}',flush = True)\n",
    "    #get the ones above zer o \n",
    "    prop_above_zero = len([i for i in deltas_list if i > 0])/len(deltas_list)\n",
    "    print(f'Proportion of deltas above zero: {prop_above_zero}',flush = True)\n",
    "\n",
    "\n",
    "    pbar.set_description(f'Target item: {target_movie}, Original Ranking: Delta: {delta} , Running mean Delta: {np.mean(running_deltas):.3f},Running median Delta: {np.median(running_deltas)}, Mean BLEU Score: {np.mean(running_bleu_scores):.3f}')\n",
    "    logging.info(f'Target item: {target_movie}, Original Ranking: Delta: {delta} , Running Delta: {np.mean(running_deltas):.3f},Running Delta: {np.median(running_deltas)}, Mean BLEU Score: {np.mean(running_bleu_scores):.3f}')\n",
    "    \n",
    "    \n",
    "\n",
    "#make a dataframe for the dicts \n",
    "blue_scores_df = pd.DataFrame.from_dict(bleu_scores,orient = 'index')\n",
    "gpt_outputs_df = pd.DataFrame.from_dict(gpt_outputs_d,orient = 'index')\n",
    "original_rankings_df = pd.DataFrame.from_dict(original_rankings,orient = 'index')\n",
    "changed_rankings_df = pd.DataFrame.from_dict(changed_rankings,orient = 'index')\n",
    "deltas_df = pd.DataFrame.from_dict(deltas,orient = 'index')\n",
    "original_prompts_df = pd.DataFrame.from_dict(original_prompts,orient = 'index')\n",
    "\n",
    " \n",
    "#save dataframe \n",
    "all_df = pd.concat([original_prompts_df,gpt_outputs_df,original_rankings_df,changed_rankings_df,deltas_df,blue_scores_df],axis = 1)\n",
    "all_df.columns = ['Original Summary','changed Summary','Original Ranking','Changed Ranking','Delta','blue_scores']\n",
    "\n",
    "all_df.to_csv(f'./results/{args.data_name}/gpt4_results_{taget_rank}_{direction}.csv')\n",
    "logging.info(f'Saved results to ./results/{args.data_name}/gpt4_results_{taget_rank}_{direction}.csv')\n",
    "\n"
   ]
  },
  {
   "cell_type": "code",
   "execution_count": null,
   "metadata": {},
   "outputs": [
    {
     "data": {
      "text/html": [
       "<div>\n",
       "<style scoped>\n",
       "    .dataframe tbody tr th:only-of-type {\n",
       "        vertical-align: middle;\n",
       "    }\n",
       "\n",
       "    .dataframe tbody tr th {\n",
       "        vertical-align: top;\n",
       "    }\n",
       "\n",
       "    .dataframe thead th {\n",
       "        text-align: right;\n",
       "    }\n",
       "</style>\n",
       "<table border=\"1\" class=\"dataframe\">\n",
       "  <thead>\n",
       "    <tr style=\"text-align: right;\">\n",
       "      <th></th>\n",
       "      <th>Unnamed: 0</th>\n",
       "      <th>Original Summary</th>\n",
       "      <th>changed Summary</th>\n",
       "      <th>Original Ranking</th>\n",
       "      <th>Changed Ranking</th>\n",
       "      <th>Delta</th>\n",
       "      <th>blue_scores</th>\n",
       "    </tr>\n",
       "    <tr>\n",
       "      <th>Unnamed: 0</th>\n",
       "      <th></th>\n",
       "      <th></th>\n",
       "      <th></th>\n",
       "      <th></th>\n",
       "      <th></th>\n",
       "      <th></th>\n",
       "      <th></th>\n",
       "    </tr>\n",
       "  </thead>\n",
       "  <tbody>\n",
       "    <tr>\n",
       "      <th>1675</th>\n",
       "      <td>1675</td>\n",
       "      <td>Summary: The user has a distinct preference fo...</td>\n",
       "      <td>Summary: The user has a distinct preference fo...</td>\n",
       "      <td>['Star Wars Episode II', 'Star Wars Njo Force ...</td>\n",
       "      <td>['Star Wars Njo Force Heretic Remnant 1 (Star ...</td>\n",
       "      <td>2</td>\n",
       "      <td>0.975552</td>\n",
       "    </tr>\n",
       "    <tr>\n",
       "      <th>3094</th>\n",
       "      <td>3094</td>\n",
       "      <td>Summary: The user enjoys a variety of fiction ...</td>\n",
       "      <td>Summary: The user enjoys a variety of fiction ...</td>\n",
       "      <td>['Starship Troopers', 'Foundation', 'FOUNDATIO...</td>\n",
       "      <td>['I am Legend', 'I Am Legend', 'Snow Crash', '...</td>\n",
       "      <td>19</td>\n",
       "      <td>0.910443</td>\n",
       "    </tr>\n",
       "    <tr>\n",
       "      <th>370</th>\n",
       "      <td>370</td>\n",
       "      <td>Summary: The user gravitates towards works roo...</td>\n",
       "      <td>Summary: The user gravitates towards works roo...</td>\n",
       "      <td>['The Lincoln Lawyer', 'City of Bones', 'Echo ...</td>\n",
       "      <td>['The Lincoln Lawyer', 'City of Bones', 'Echo ...</td>\n",
       "      <td>7</td>\n",
       "      <td>0.775099</td>\n",
       "    </tr>\n",
       "    <tr>\n",
       "      <th>2609</th>\n",
       "      <td>2609</td>\n",
       "      <td>Summary: The user shows a clear preference for...</td>\n",
       "      <td>Summary: The user shows a clear preference for...</td>\n",
       "      <td>['Little Women (Courage giant classics)', 'Lit...</td>\n",
       "      <td>['A Tree Grows in Brooklyn', 'The poisonwood B...</td>\n",
       "      <td>-6</td>\n",
       "      <td>0.832724</td>\n",
       "    </tr>\n",
       "    <tr>\n",
       "      <th>1958</th>\n",
       "      <td>1958</td>\n",
       "      <td>Summary: The user revels in expansive fictiona...</td>\n",
       "      <td>Summary: The user revels in expansive fictiona...</td>\n",
       "      <td>['Dracula (G. K. Hall (Large Print))', 'Treasu...</td>\n",
       "      <td>['Dracula (G. K. Hall (Large Print))', 'Treasu...</td>\n",
       "      <td>0</td>\n",
       "      <td>1.000000</td>\n",
       "    </tr>\n",
       "    <tr>\n",
       "      <th>...</th>\n",
       "      <td>...</td>\n",
       "      <td>...</td>\n",
       "      <td>...</td>\n",
       "      <td>...</td>\n",
       "      <td>...</td>\n",
       "      <td>...</td>\n",
       "      <td>...</td>\n",
       "    </tr>\n",
       "    <tr>\n",
       "      <th>1146</th>\n",
       "      <td>1146</td>\n",
       "      <td>Summary: The user has a distinctive preference...</td>\n",
       "      <td>Summary: The user has a distinctive preference...</td>\n",
       "      <td>['Mere Christianity', 'The Great Divorce', 'Th...</td>\n",
       "      <td>['Mere Christianity', 'The Great Divorce', 'Th...</td>\n",
       "      <td>-3</td>\n",
       "      <td>0.774429</td>\n",
       "    </tr>\n",
       "    <tr>\n",
       "      <th>198</th>\n",
       "      <td>198</td>\n",
       "      <td>Summary: The user has a pronounced appreciatio...</td>\n",
       "      <td>Summary: The user has a pronounced appreciatio...</td>\n",
       "      <td>['Nineteen Eighty-four', '1984', 'George Orwel...</td>\n",
       "      <td>['Nineteen Eighty-four', '1984', 'George Orwel...</td>\n",
       "      <td>-23</td>\n",
       "      <td>0.945073</td>\n",
       "    </tr>\n",
       "    <tr>\n",
       "      <th>3044</th>\n",
       "      <td>3044</td>\n",
       "      <td>Summary: The user enjoys fiction genres that o...</td>\n",
       "      <td>Summary: The user enjoys fiction genres that o...</td>\n",
       "      <td>['Five People You Meet in Heaven', \"The Pilot'...</td>\n",
       "      <td>['Five People You Meet in Heaven', \"The Pilot'...</td>\n",
       "      <td>3</td>\n",
       "      <td>0.913799</td>\n",
       "    </tr>\n",
       "    <tr>\n",
       "      <th>694</th>\n",
       "      <td>694</td>\n",
       "      <td>Summary: The user enjoys creative nonfiction t...</td>\n",
       "      <td>Summary: The user enjoys creative nonfiction t...</td>\n",
       "      <td>['Great Gatsby (Everyman)', 'The great Gatsby ...</td>\n",
       "      <td>['Great Gatsby (Everyman)', 'The great Gatsby ...</td>\n",
       "      <td>0</td>\n",
       "      <td>1.000000</td>\n",
       "    </tr>\n",
       "    <tr>\n",
       "      <th>1427</th>\n",
       "      <td>1427</td>\n",
       "      <td>Summary: The user exhibits a preference for in...</td>\n",
       "      <td>Summary: The user exhibits a preference for in...</td>\n",
       "      <td>['Under the Banner of Heaven: A Story of Viole...</td>\n",
       "      <td>['Under the Banner of Heaven: A Story of Viole...</td>\n",
       "      <td>-13</td>\n",
       "      <td>0.945069</td>\n",
       "    </tr>\n",
       "  </tbody>\n",
       "</table>\n",
       "<p>250 rows × 7 columns</p>\n",
       "</div>"
      ],
      "text/plain": [
       "            Unnamed: 0                                   Original Summary  \\\n",
       "Unnamed: 0                                                                  \n",
       "1675              1675  Summary: The user has a distinct preference fo...   \n",
       "3094              3094  Summary: The user enjoys a variety of fiction ...   \n",
       "370                370  Summary: The user gravitates towards works roo...   \n",
       "2609              2609  Summary: The user shows a clear preference for...   \n",
       "1958              1958  Summary: The user revels in expansive fictiona...   \n",
       "...                ...                                                ...   \n",
       "1146              1146  Summary: The user has a distinctive preference...   \n",
       "198                198  Summary: The user has a pronounced appreciatio...   \n",
       "3044              3044  Summary: The user enjoys fiction genres that o...   \n",
       "694                694  Summary: The user enjoys creative nonfiction t...   \n",
       "1427              1427  Summary: The user exhibits a preference for in...   \n",
       "\n",
       "                                              changed Summary  \\\n",
       "Unnamed: 0                                                      \n",
       "1675        Summary: The user has a distinct preference fo...   \n",
       "3094        Summary: The user enjoys a variety of fiction ...   \n",
       "370         Summary: The user gravitates towards works roo...   \n",
       "2609        Summary: The user shows a clear preference for...   \n",
       "1958        Summary: The user revels in expansive fictiona...   \n",
       "...                                                       ...   \n",
       "1146        Summary: The user has a distinctive preference...   \n",
       "198         Summary: The user has a pronounced appreciatio...   \n",
       "3044        Summary: The user enjoys fiction genres that o...   \n",
       "694         Summary: The user enjoys creative nonfiction t...   \n",
       "1427        Summary: The user exhibits a preference for in...   \n",
       "\n",
       "                                             Original Ranking  \\\n",
       "Unnamed: 0                                                      \n",
       "1675        ['Star Wars Episode II', 'Star Wars Njo Force ...   \n",
       "3094        ['Starship Troopers', 'Foundation', 'FOUNDATIO...   \n",
       "370         ['The Lincoln Lawyer', 'City of Bones', 'Echo ...   \n",
       "2609        ['Little Women (Courage giant classics)', 'Lit...   \n",
       "1958        ['Dracula (G. K. Hall (Large Print))', 'Treasu...   \n",
       "...                                                       ...   \n",
       "1146        ['Mere Christianity', 'The Great Divorce', 'Th...   \n",
       "198         ['Nineteen Eighty-four', '1984', 'George Orwel...   \n",
       "3044        ['Five People You Meet in Heaven', \"The Pilot'...   \n",
       "694         ['Great Gatsby (Everyman)', 'The great Gatsby ...   \n",
       "1427        ['Under the Banner of Heaven: A Story of Viole...   \n",
       "\n",
       "                                              Changed Ranking  Delta  \\\n",
       "Unnamed: 0                                                             \n",
       "1675        ['Star Wars Njo Force Heretic Remnant 1 (Star ...      2   \n",
       "3094        ['I am Legend', 'I Am Legend', 'Snow Crash', '...     19   \n",
       "370         ['The Lincoln Lawyer', 'City of Bones', 'Echo ...      7   \n",
       "2609        ['A Tree Grows in Brooklyn', 'The poisonwood B...     -6   \n",
       "1958        ['Dracula (G. K. Hall (Large Print))', 'Treasu...      0   \n",
       "...                                                       ...    ...   \n",
       "1146        ['Mere Christianity', 'The Great Divorce', 'Th...     -3   \n",
       "198         ['Nineteen Eighty-four', '1984', 'George Orwel...    -23   \n",
       "3044        ['Five People You Meet in Heaven', \"The Pilot'...      3   \n",
       "694         ['Great Gatsby (Everyman)', 'The great Gatsby ...      0   \n",
       "1427        ['Under the Banner of Heaven: A Story of Viole...    -13   \n",
       "\n",
       "            blue_scores  \n",
       "Unnamed: 0               \n",
       "1675           0.975552  \n",
       "3094           0.910443  \n",
       "370            0.775099  \n",
       "2609           0.832724  \n",
       "1958           1.000000  \n",
       "...                 ...  \n",
       "1146           0.774429  \n",
       "198            0.945073  \n",
       "3044           0.913799  \n",
       "694            1.000000  \n",
       "1427           0.945069  \n",
       "\n",
       "[250 rows x 7 columns]"
      ]
     },
     "execution_count": 27,
     "metadata": {},
     "output_type": "execute_result"
    }
   ],
   "source": [
    "original = pd.read_csv(f'./results/{args.data_name}/gpt4_results_{taget_rank}_{direction}_first.csv')\n",
    "original.Delta.mean()\n",
    "original.index = original['Unnamed: 0']\n",
    "original"
   ]
  },
  {
   "cell_type": "code",
   "execution_count": null,
   "metadata": {},
   "outputs": [
    {
     "name": "stdout",
     "output_type": "stream",
     "text": [
      "delta_all_df=5\n",
      "delta_all_df=3\n",
      "delta_all_df=3\n",
      "delta_all_df=3\n",
      "delta_all_df=7\n",
      "delta_all_df=11\n",
      "delta_all_df=15\n",
      "delta_all_df=1\n",
      "delta_all_df=6\n",
      "delta_all_df=7\n",
      "delta_all_df=6\n",
      "delta_all_df=19\n",
      "delta_all_df=2\n",
      "delta_all_df=5\n",
      "delta_all_df=3\n",
      "delta_all_df=5\n",
      "delta_all_df=1\n",
      "delta_all_df=9\n",
      "delta_all_df=1\n",
      "delta_all_df=13\n",
      "delta_all_df=13\n",
      "delta_all_df=13\n",
      "delta_all_df=8\n",
      "delta_all_df=1\n",
      "delta_all_df=1\n",
      "delta_all_df=11\n",
      "delta_all_df=7\n",
      "delta_all_df=1\n",
      "delta_all_df=1\n",
      "delta_all_df=10\n",
      "delta_all_df=3\n",
      "            Unnamed: 0                                   Original Summary  \\\n",
      "Unnamed: 0                                                                  \n",
      "1675            1675.0  Summary: The user has a distinct preference fo...   \n",
      "3094            3094.0  Summary: The user enjoys a variety of fiction ...   \n",
      "370              370.0  Summary: The user gravitates towards works roo...   \n",
      "2609               NaN  Summary: The user shows a clear preference for...   \n",
      "1958            1958.0  Summary: The user revels in expansive fictiona...   \n",
      "...                ...                                                ...   \n",
      "1146            1146.0  Summary: The user has a distinctive preference...   \n",
      "198              198.0  Summary: The user has a pronounced appreciatio...   \n",
      "3044            3044.0  Summary: The user enjoys fiction genres that o...   \n",
      "694              694.0  Summary: The user enjoys creative nonfiction t...   \n",
      "1427            1427.0  Summary: The user exhibits a preference for in...   \n",
      "\n",
      "                                              changed Summary  \\\n",
      "Unnamed: 0                                                      \n",
      "1675        Summary: The user has a distinct preference fo...   \n",
      "3094        Summary: The user enjoys a variety of fiction ...   \n",
      "370         Summary: The user gravitates towards works roo...   \n",
      "2609        Summary: The user shows a clear preference for...   \n",
      "1958        Summary: The user revels in expansive fictiona...   \n",
      "...                                                       ...   \n",
      "1146        Summary: The user has a distinctive preference...   \n",
      "198         Summary: The user has a pronounced appreciatio...   \n",
      "3044        Summary: The user enjoys fiction genres that o...   \n",
      "694         Summary: The user enjoys creative nonfiction t...   \n",
      "1427        Summary: The user exhibits a preference for in...   \n",
      "\n",
      "                                             Original Ranking  \\\n",
      "Unnamed: 0                                                      \n",
      "1675        ['Star Wars Episode II', 'Star Wars Njo Force ...   \n",
      "3094        ['Starship Troopers', 'Foundation', 'FOUNDATIO...   \n",
      "370         ['The Lincoln Lawyer', 'City of Bones', 'Echo ...   \n",
      "2609        {(1, 'Little Women (Courage giant classics)')\\...   \n",
      "1958        ['Dracula (G. K. Hall (Large Print))', 'Treasu...   \n",
      "...                                                       ...   \n",
      "1146        ['Mere Christianity', 'The Great Divorce', 'Th...   \n",
      "198         ['Nineteen Eighty-four', '1984', 'George Orwel...   \n",
      "3044        ['Five People You Meet in Heaven', \"The Pilot'...   \n",
      "694         ['Great Gatsby (Everyman)', 'The great Gatsby ...   \n",
      "1427        ['Under the Banner of Heaven: A Story of Viole...   \n",
      "\n",
      "                                              Changed Ranking  Delta  \\\n",
      "Unnamed: 0                                                             \n",
      "1675        ['Star Wars Njo Force Heretic Remnant 1 (Star ...      2   \n",
      "3094        ['I am Legend', 'I Am Legend', 'Snow Crash', '...     19   \n",
      "370         ['The Lincoln Lawyer', 'City of Bones', 'Echo ...      7   \n",
      "2609        [Little Women: or Meg, Jo, Beth, and Amy, Litt...      5   \n",
      "1958        ['Dracula (G. K. Hall (Large Print))', 'Treasu...      0   \n",
      "...                                                       ...    ...   \n",
      "1146        ['Mere Christianity', 'The Great Divorce', 'Th...     -3   \n",
      "198         ['Nineteen Eighty-four', '1984', 'George Orwel...    -23   \n",
      "3044        ['Five People You Meet in Heaven', \"The Pilot'...      3   \n",
      "694         ['Great Gatsby (Everyman)', 'The great Gatsby ...      0   \n",
      "1427        ['Under the Banner of Heaven: A Story of Viole...    -13   \n",
      "\n",
      "            blue_scores  \n",
      "Unnamed: 0               \n",
      "1675           0.975552  \n",
      "3094           0.910443  \n",
      "370            0.775099  \n",
      "2609           0.768159  \n",
      "1958           1.000000  \n",
      "...                 ...  \n",
      "1146           0.774429  \n",
      "198            0.945073  \n",
      "3044           0.913799  \n",
      "694            1.000000  \n",
      "1427           0.945069  \n",
      "\n",
      "[250 rows x 7 columns]\n"
     ]
    }
   ],
   "source": [
    "# Create a new dataframe to track the changes\n",
    "changes_df = original.copy()\n",
    "\n",
    "# Loop through all users\n",
    "for user in all_df.index:\n",
    "    # Get the delta values for the user\n",
    "    delta_all_df = all_df.loc[user, 'Delta']\n",
    "    delta_original = original.loc[user, 'Delta']\n",
    "    \n",
    "    # Check if the delta is positive in all_df but negative in original\n",
    "    if delta_all_df > 0 and delta_original < 0:\n",
    "        print(f\"{delta_all_df=}\")\n",
    "        # Replace the delta in all_df with the delta in original\n",
    "        changes_df.loc[user,:] = all_df.loc[user,:] \n",
    "\n",
    "\n",
    "# Print the changes dataframe\n",
    "print(changes_df)\n"
   ]
  },
  {
   "cell_type": "code",
   "execution_count": null,
   "metadata": {},
   "outputs": [
    {
     "data": {
      "text/html": [
       "<div>\n",
       "<style scoped>\n",
       "    .dataframe tbody tr th:only-of-type {\n",
       "        vertical-align: middle;\n",
       "    }\n",
       "\n",
       "    .dataframe tbody tr th {\n",
       "        vertical-align: top;\n",
       "    }\n",
       "\n",
       "    .dataframe thead th {\n",
       "        text-align: right;\n",
       "    }\n",
       "</style>\n",
       "<table border=\"1\" class=\"dataframe\">\n",
       "  <thead>\n",
       "    <tr style=\"text-align: right;\">\n",
       "      <th></th>\n",
       "      <th>Original Summary</th>\n",
       "      <th>changed Summary</th>\n",
       "      <th>Original Ranking</th>\n",
       "      <th>Changed Ranking</th>\n",
       "      <th>Delta</th>\n",
       "      <th>blue_scores</th>\n",
       "    </tr>\n",
       "  </thead>\n",
       "  <tbody>\n",
       "    <tr>\n",
       "      <th>1675</th>\n",
       "      <td>Summary: The user has a distinct preference fo...</td>\n",
       "      <td>Summary: The user has a distinct preference fo...</td>\n",
       "      <td>{(1, 'Star Wars Episode II')\\n(2, 'Star Wars N...</td>\n",
       "      <td>[A Feast for Crows (A Song of Ice and Fire, Bo...</td>\n",
       "      <td>16</td>\n",
       "      <td>0.961849</td>\n",
       "    </tr>\n",
       "    <tr>\n",
       "      <th>3094</th>\n",
       "      <td>Summary: The user enjoys a variety of fiction ...</td>\n",
       "      <td>Summary: The user enjoys a variety of fiction ...</td>\n",
       "      <td>{(1, 'Starship Troopers')\\n(2, 'Foundation')\\n...</td>\n",
       "      <td>[Starship Troopers, Foundation, FOUNDATION, Th...</td>\n",
       "      <td>0</td>\n",
       "      <td>1.000000</td>\n",
       "    </tr>\n",
       "    <tr>\n",
       "      <th>370</th>\n",
       "      <td>Summary: The user gravitates towards works roo...</td>\n",
       "      <td>Summary: The user gravitates towards works roo...</td>\n",
       "      <td>{(1, 'The Lincoln Lawyer')\\n(2, 'City of Bones...</td>\n",
       "      <td>[The Lincoln Lawyer, City of Bones, Echo Park ...</td>\n",
       "      <td>0</td>\n",
       "      <td>1.000000</td>\n",
       "    </tr>\n",
       "    <tr>\n",
       "      <th>2609</th>\n",
       "      <td>Summary: The user shows a clear preference for...</td>\n",
       "      <td>Summary: The user shows a clear preference for...</td>\n",
       "      <td>{(1, 'Little Women (Courage giant classics)')\\...</td>\n",
       "      <td>[Little women, or, Meg, Jo, Beth, and Amy, Lit...</td>\n",
       "      <td>-245</td>\n",
       "      <td>0.732750</td>\n",
       "    </tr>\n",
       "    <tr>\n",
       "      <th>1958</th>\n",
       "      <td>Summary: The user revels in expansive fictiona...</td>\n",
       "      <td>Summary: The user revels in expansive fictiona...</td>\n",
       "      <td>{(1, 'Dracula (G. K. Hall (Large Print))')\\n(2...</td>\n",
       "      <td>[Dracula (G. K. Hall (Large Print)), Treasure ...</td>\n",
       "      <td>0</td>\n",
       "      <td>1.000000</td>\n",
       "    </tr>\n",
       "    <tr>\n",
       "      <th>...</th>\n",
       "      <td>...</td>\n",
       "      <td>...</td>\n",
       "      <td>...</td>\n",
       "      <td>...</td>\n",
       "      <td>...</td>\n",
       "      <td>...</td>\n",
       "    </tr>\n",
       "    <tr>\n",
       "      <th>1146</th>\n",
       "      <td>Summary: The user has a distinctive preference...</td>\n",
       "      <td>Summary: The user has a distinctive preference...</td>\n",
       "      <td>{(1, 'Mere Christianity')\\n(2, 'The Great Divo...</td>\n",
       "      <td>[Mere Christianity, The Great Divorce, The gre...</td>\n",
       "      <td>-110</td>\n",
       "      <td>0.953606</td>\n",
       "    </tr>\n",
       "    <tr>\n",
       "      <th>198</th>\n",
       "      <td>Summary: The user has a pronounced appreciatio...</td>\n",
       "      <td>Summary: The user has a pronounced appreciatio...</td>\n",
       "      <td>{(1, 'Nineteen Eighty-four')\\n(2, '1984')\\n(3,...</td>\n",
       "      <td>[Nineteen Eighty-four, 1984, George Orwell 198...</td>\n",
       "      <td>21</td>\n",
       "      <td>0.985643</td>\n",
       "    </tr>\n",
       "    <tr>\n",
       "      <th>3044</th>\n",
       "      <td>Summary: The user enjoys fiction genres that o...</td>\n",
       "      <td>Summary: The user enjoys fiction genres that o...</td>\n",
       "      <td>{(1, 'Five People You Meet in Heaven')\\n(2, \"T...</td>\n",
       "      <td>[Five People You Meet in Heaven, The Pilot's W...</td>\n",
       "      <td>11</td>\n",
       "      <td>0.943539</td>\n",
       "    </tr>\n",
       "    <tr>\n",
       "      <th>694</th>\n",
       "      <td>Summary: The user enjoys creative nonfiction t...</td>\n",
       "      <td>Summary: The user enjoys creative nonfiction t...</td>\n",
       "      <td>{(1, 'Great Gatsby (Everyman)')\\n(2, 'The grea...</td>\n",
       "      <td>[Great Gatsby (Everyman), The great Gatsby (Le...</td>\n",
       "      <td>0</td>\n",
       "      <td>1.000000</td>\n",
       "    </tr>\n",
       "    <tr>\n",
       "      <th>1427</th>\n",
       "      <td>Summary: The user exhibits a preference for in...</td>\n",
       "      <td>Summary: The user exhibits a preference for in...</td>\n",
       "      <td>{(1, 'Under the Banner of Heaven: A Story of V...</td>\n",
       "      <td>[Moby Dick, Moby Dick;: Or, The white whale (A...</td>\n",
       "      <td>46</td>\n",
       "      <td>0.932443</td>\n",
       "    </tr>\n",
       "  </tbody>\n",
       "</table>\n",
       "<p>250 rows × 6 columns</p>\n",
       "</div>"
      ],
      "text/plain": [
       "                                       Original Summary  \\\n",
       "1675  Summary: The user has a distinct preference fo...   \n",
       "3094  Summary: The user enjoys a variety of fiction ...   \n",
       "370   Summary: The user gravitates towards works roo...   \n",
       "2609  Summary: The user shows a clear preference for...   \n",
       "1958  Summary: The user revels in expansive fictiona...   \n",
       "...                                                 ...   \n",
       "1146  Summary: The user has a distinctive preference...   \n",
       "198   Summary: The user has a pronounced appreciatio...   \n",
       "3044  Summary: The user enjoys fiction genres that o...   \n",
       "694   Summary: The user enjoys creative nonfiction t...   \n",
       "1427  Summary: The user exhibits a preference for in...   \n",
       "\n",
       "                                        changed Summary  \\\n",
       "1675  Summary: The user has a distinct preference fo...   \n",
       "3094  Summary: The user enjoys a variety of fiction ...   \n",
       "370   Summary: The user gravitates towards works roo...   \n",
       "2609  Summary: The user shows a clear preference for...   \n",
       "1958  Summary: The user revels in expansive fictiona...   \n",
       "...                                                 ...   \n",
       "1146  Summary: The user has a distinctive preference...   \n",
       "198   Summary: The user has a pronounced appreciatio...   \n",
       "3044  Summary: The user enjoys fiction genres that o...   \n",
       "694   Summary: The user enjoys creative nonfiction t...   \n",
       "1427  Summary: The user exhibits a preference for in...   \n",
       "\n",
       "                                       Original Ranking  \\\n",
       "1675  {(1, 'Star Wars Episode II')\\n(2, 'Star Wars N...   \n",
       "3094  {(1, 'Starship Troopers')\\n(2, 'Foundation')\\n...   \n",
       "370   {(1, 'The Lincoln Lawyer')\\n(2, 'City of Bones...   \n",
       "2609  {(1, 'Little Women (Courage giant classics)')\\...   \n",
       "1958  {(1, 'Dracula (G. K. Hall (Large Print))')\\n(2...   \n",
       "...                                                 ...   \n",
       "1146  {(1, 'Mere Christianity')\\n(2, 'The Great Divo...   \n",
       "198   {(1, 'Nineteen Eighty-four')\\n(2, '1984')\\n(3,...   \n",
       "3044  {(1, 'Five People You Meet in Heaven')\\n(2, \"T...   \n",
       "694   {(1, 'Great Gatsby (Everyman)')\\n(2, 'The grea...   \n",
       "1427  {(1, 'Under the Banner of Heaven: A Story of V...   \n",
       "\n",
       "                                        Changed Ranking  Delta  blue_scores  \n",
       "1675  [A Feast for Crows (A Song of Ice and Fire, Bo...     16     0.961849  \n",
       "3094  [Starship Troopers, Foundation, FOUNDATION, Th...      0     1.000000  \n",
       "370   [The Lincoln Lawyer, City of Bones, Echo Park ...      0     1.000000  \n",
       "2609  [Little women, or, Meg, Jo, Beth, and Amy, Lit...   -245     0.732750  \n",
       "1958  [Dracula (G. K. Hall (Large Print)), Treasure ...      0     1.000000  \n",
       "...                                                 ...    ...          ...  \n",
       "1146  [Mere Christianity, The Great Divorce, The gre...   -110     0.953606  \n",
       "198   [Nineteen Eighty-four, 1984, George Orwell 198...     21     0.985643  \n",
       "3044  [Five People You Meet in Heaven, The Pilot's W...     11     0.943539  \n",
       "694   [Great Gatsby (Everyman), The great Gatsby (Le...      0     1.000000  \n",
       "1427  [Moby Dick, Moby Dick;: Or, The white whale (A...     46     0.932443  \n",
       "\n",
       "[250 rows x 6 columns]"
      ]
     },
     "execution_count": 148,
     "metadata": {},
     "output_type": "execute_result"
    }
   ],
   "source": [
    "all_df"
   ]
  },
  {
   "cell_type": "code",
   "execution_count": null,
   "metadata": {},
   "outputs": [
    {
     "data": {
      "text/html": [
       "<div>\n",
       "<style scoped>\n",
       "    .dataframe tbody tr th:only-of-type {\n",
       "        vertical-align: middle;\n",
       "    }\n",
       "\n",
       "    .dataframe tbody tr th {\n",
       "        vertical-align: top;\n",
       "    }\n",
       "\n",
       "    .dataframe thead th {\n",
       "        text-align: right;\n",
       "    }\n",
       "</style>\n",
       "<table border=\"1\" class=\"dataframe\">\n",
       "  <thead>\n",
       "    <tr style=\"text-align: right;\">\n",
       "      <th></th>\n",
       "      <th>Unnamed: 0</th>\n",
       "      <th>Original Summary</th>\n",
       "      <th>changed Summary</th>\n",
       "      <th>Original Ranking</th>\n",
       "      <th>Changed Ranking</th>\n",
       "      <th>Delta</th>\n",
       "      <th>blue_scores</th>\n",
       "    </tr>\n",
       "    <tr>\n",
       "      <th>Unnamed: 0</th>\n",
       "      <th></th>\n",
       "      <th></th>\n",
       "      <th></th>\n",
       "      <th></th>\n",
       "      <th></th>\n",
       "      <th></th>\n",
       "      <th></th>\n",
       "    </tr>\n",
       "  </thead>\n",
       "  <tbody>\n",
       "    <tr>\n",
       "      <th>1675</th>\n",
       "      <td>1675.0</td>\n",
       "      <td>Summary: The user has a distinct preference fo...</td>\n",
       "      <td>Summary: The user has a distinct preference fo...</td>\n",
       "      <td>['Star Wars Episode II', 'Star Wars Njo Force ...</td>\n",
       "      <td>['Star Wars Njo Force Heretic Remnant 1 (Star ...</td>\n",
       "      <td>2</td>\n",
       "      <td>0.975552</td>\n",
       "    </tr>\n",
       "    <tr>\n",
       "      <th>3094</th>\n",
       "      <td>3094.0</td>\n",
       "      <td>Summary: The user enjoys a variety of fiction ...</td>\n",
       "      <td>Summary: The user enjoys a variety of fiction ...</td>\n",
       "      <td>['Starship Troopers', 'Foundation', 'FOUNDATIO...</td>\n",
       "      <td>['I am Legend', 'I Am Legend', 'Snow Crash', '...</td>\n",
       "      <td>19</td>\n",
       "      <td>0.910443</td>\n",
       "    </tr>\n",
       "    <tr>\n",
       "      <th>370</th>\n",
       "      <td>370.0</td>\n",
       "      <td>Summary: The user gravitates towards works roo...</td>\n",
       "      <td>Summary: The user gravitates towards works roo...</td>\n",
       "      <td>['The Lincoln Lawyer', 'City of Bones', 'Echo ...</td>\n",
       "      <td>['The Lincoln Lawyer', 'City of Bones', 'Echo ...</td>\n",
       "      <td>7</td>\n",
       "      <td>0.775099</td>\n",
       "    </tr>\n",
       "    <tr>\n",
       "      <th>2609</th>\n",
       "      <td>NaN</td>\n",
       "      <td>Summary: The user shows a clear preference for...</td>\n",
       "      <td>Summary: The user shows a clear preference for...</td>\n",
       "      <td>{(1, 'Little Women (Courage giant classics)')\\...</td>\n",
       "      <td>[Little Women: or Meg, Jo, Beth, and Amy, Litt...</td>\n",
       "      <td>5</td>\n",
       "      <td>0.768159</td>\n",
       "    </tr>\n",
       "    <tr>\n",
       "      <th>1958</th>\n",
       "      <td>1958.0</td>\n",
       "      <td>Summary: The user revels in expansive fictiona...</td>\n",
       "      <td>Summary: The user revels in expansive fictiona...</td>\n",
       "      <td>['Dracula (G. K. Hall (Large Print))', 'Treasu...</td>\n",
       "      <td>['Dracula (G. K. Hall (Large Print))', 'Treasu...</td>\n",
       "      <td>0</td>\n",
       "      <td>1.000000</td>\n",
       "    </tr>\n",
       "    <tr>\n",
       "      <th>...</th>\n",
       "      <td>...</td>\n",
       "      <td>...</td>\n",
       "      <td>...</td>\n",
       "      <td>...</td>\n",
       "      <td>...</td>\n",
       "      <td>...</td>\n",
       "      <td>...</td>\n",
       "    </tr>\n",
       "    <tr>\n",
       "      <th>1146</th>\n",
       "      <td>1146.0</td>\n",
       "      <td>Summary: The user has a distinctive preference...</td>\n",
       "      <td>Summary: The user has a distinctive preference...</td>\n",
       "      <td>['Mere Christianity', 'The Great Divorce', 'Th...</td>\n",
       "      <td>['Mere Christianity', 'The Great Divorce', 'Th...</td>\n",
       "      <td>-3</td>\n",
       "      <td>0.774429</td>\n",
       "    </tr>\n",
       "    <tr>\n",
       "      <th>198</th>\n",
       "      <td>198.0</td>\n",
       "      <td>Summary: The user has a pronounced appreciatio...</td>\n",
       "      <td>Summary: The user has a pronounced appreciatio...</td>\n",
       "      <td>['Nineteen Eighty-four', '1984', 'George Orwel...</td>\n",
       "      <td>['Nineteen Eighty-four', '1984', 'George Orwel...</td>\n",
       "      <td>-23</td>\n",
       "      <td>0.945073</td>\n",
       "    </tr>\n",
       "    <tr>\n",
       "      <th>3044</th>\n",
       "      <td>3044.0</td>\n",
       "      <td>Summary: The user enjoys fiction genres that o...</td>\n",
       "      <td>Summary: The user enjoys fiction genres that o...</td>\n",
       "      <td>['Five People You Meet in Heaven', \"The Pilot'...</td>\n",
       "      <td>['Five People You Meet in Heaven', \"The Pilot'...</td>\n",
       "      <td>3</td>\n",
       "      <td>0.913799</td>\n",
       "    </tr>\n",
       "    <tr>\n",
       "      <th>694</th>\n",
       "      <td>694.0</td>\n",
       "      <td>Summary: The user enjoys creative nonfiction t...</td>\n",
       "      <td>Summary: The user enjoys creative nonfiction t...</td>\n",
       "      <td>['Great Gatsby (Everyman)', 'The great Gatsby ...</td>\n",
       "      <td>['Great Gatsby (Everyman)', 'The great Gatsby ...</td>\n",
       "      <td>0</td>\n",
       "      <td>1.000000</td>\n",
       "    </tr>\n",
       "    <tr>\n",
       "      <th>1427</th>\n",
       "      <td>1427.0</td>\n",
       "      <td>Summary: The user exhibits a preference for in...</td>\n",
       "      <td>Summary: The user exhibits a preference for in...</td>\n",
       "      <td>['Under the Banner of Heaven: A Story of Viole...</td>\n",
       "      <td>['Under the Banner of Heaven: A Story of Viole...</td>\n",
       "      <td>-13</td>\n",
       "      <td>0.945069</td>\n",
       "    </tr>\n",
       "  </tbody>\n",
       "</table>\n",
       "<p>250 rows × 7 columns</p>\n",
       "</div>"
      ],
      "text/plain": [
       "            Unnamed: 0                                   Original Summary  \\\n",
       "Unnamed: 0                                                                  \n",
       "1675            1675.0  Summary: The user has a distinct preference fo...   \n",
       "3094            3094.0  Summary: The user enjoys a variety of fiction ...   \n",
       "370              370.0  Summary: The user gravitates towards works roo...   \n",
       "2609               NaN  Summary: The user shows a clear preference for...   \n",
       "1958            1958.0  Summary: The user revels in expansive fictiona...   \n",
       "...                ...                                                ...   \n",
       "1146            1146.0  Summary: The user has a distinctive preference...   \n",
       "198              198.0  Summary: The user has a pronounced appreciatio...   \n",
       "3044            3044.0  Summary: The user enjoys fiction genres that o...   \n",
       "694              694.0  Summary: The user enjoys creative nonfiction t...   \n",
       "1427            1427.0  Summary: The user exhibits a preference for in...   \n",
       "\n",
       "                                              changed Summary  \\\n",
       "Unnamed: 0                                                      \n",
       "1675        Summary: The user has a distinct preference fo...   \n",
       "3094        Summary: The user enjoys a variety of fiction ...   \n",
       "370         Summary: The user gravitates towards works roo...   \n",
       "2609        Summary: The user shows a clear preference for...   \n",
       "1958        Summary: The user revels in expansive fictiona...   \n",
       "...                                                       ...   \n",
       "1146        Summary: The user has a distinctive preference...   \n",
       "198         Summary: The user has a pronounced appreciatio...   \n",
       "3044        Summary: The user enjoys fiction genres that o...   \n",
       "694         Summary: The user enjoys creative nonfiction t...   \n",
       "1427        Summary: The user exhibits a preference for in...   \n",
       "\n",
       "                                             Original Ranking  \\\n",
       "Unnamed: 0                                                      \n",
       "1675        ['Star Wars Episode II', 'Star Wars Njo Force ...   \n",
       "3094        ['Starship Troopers', 'Foundation', 'FOUNDATIO...   \n",
       "370         ['The Lincoln Lawyer', 'City of Bones', 'Echo ...   \n",
       "2609        {(1, 'Little Women (Courage giant classics)')\\...   \n",
       "1958        ['Dracula (G. K. Hall (Large Print))', 'Treasu...   \n",
       "...                                                       ...   \n",
       "1146        ['Mere Christianity', 'The Great Divorce', 'Th...   \n",
       "198         ['Nineteen Eighty-four', '1984', 'George Orwel...   \n",
       "3044        ['Five People You Meet in Heaven', \"The Pilot'...   \n",
       "694         ['Great Gatsby (Everyman)', 'The great Gatsby ...   \n",
       "1427        ['Under the Banner of Heaven: A Story of Viole...   \n",
       "\n",
       "                                              Changed Ranking  Delta  \\\n",
       "Unnamed: 0                                                             \n",
       "1675        ['Star Wars Njo Force Heretic Remnant 1 (Star ...      2   \n",
       "3094        ['I am Legend', 'I Am Legend', 'Snow Crash', '...     19   \n",
       "370         ['The Lincoln Lawyer', 'City of Bones', 'Echo ...      7   \n",
       "2609        [Little Women: or Meg, Jo, Beth, and Amy, Litt...      5   \n",
       "1958        ['Dracula (G. K. Hall (Large Print))', 'Treasu...      0   \n",
       "...                                                       ...    ...   \n",
       "1146        ['Mere Christianity', 'The Great Divorce', 'Th...     -3   \n",
       "198         ['Nineteen Eighty-four', '1984', 'George Orwel...    -23   \n",
       "3044        ['Five People You Meet in Heaven', \"The Pilot'...      3   \n",
       "694         ['Great Gatsby (Everyman)', 'The great Gatsby ...      0   \n",
       "1427        ['Under the Banner of Heaven: A Story of Viole...    -13   \n",
       "\n",
       "            blue_scores  \n",
       "Unnamed: 0               \n",
       "1675           0.975552  \n",
       "3094           0.910443  \n",
       "370            0.775099  \n",
       "2609           0.768159  \n",
       "1958           1.000000  \n",
       "...                 ...  \n",
       "1146           0.774429  \n",
       "198            0.945073  \n",
       "3044           0.913799  \n",
       "694            1.000000  \n",
       "1427           0.945069  \n",
       "\n",
       "[250 rows x 7 columns]"
      ]
     },
     "execution_count": 33,
     "metadata": {},
     "output_type": "execute_result"
    }
   ],
   "source": [
    "changes_df"
   ]
  },
  {
   "cell_type": "code",
   "execution_count": null,
   "metadata": {},
   "outputs": [
    {
     "name": "stdout",
     "output_type": "stream",
     "text": [
      "f'./results/{args.data_name}/gpt4_results_{taget_rank}_{direction}_changes.csv'='./results/books/gpt4_results_19_up_changes.csv'\n"
     ]
    }
   ],
   "source": [
    "print(f\"{f'./results/{args.data_name}/gpt4_results_{taget_rank}_{direction}_chang.csv'=}\")\n"
   ]
  },
  {
   "cell_type": "code",
   "execution_count": null,
   "metadata": {},
   "outputs": [],
   "source": [
    "changes_df.drop(columns = 'Unnamed: 0').to_csv(f'./results/{args.data_name}/gpt4_results_{taget_rank}_{direction}.csv')"
   ]
  },
  {
   "cell_type": "code",
   "execution_count": null,
   "metadata": {},
   "outputs": [],
   "source": [
    "#drop column userId write to the save file without index\n",
    "changes_df.to_csv(f'./results/{args.data_name}/gpt4_results_{taget_rank}_{direction}.csv',index = False)"
   ]
  },
  {
   "cell_type": "code",
   "execution_count": null,
   "metadata": {},
   "outputs": [
    {
     "data": {
      "text/plain": [
       "-9.048"
      ]
     },
     "execution_count": 29,
     "metadata": {},
     "output_type": "execute_result"
    }
   ],
   "source": [
    "original.Delta.mean()"
   ]
  },
  {
   "cell_type": "code",
   "execution_count": null,
   "metadata": {},
   "outputs": [
    {
     "data": {
      "text/plain": [
       "1.0"
      ]
     },
     "execution_count": 30,
     "metadata": {},
     "output_type": "execute_result"
    }
   ],
   "source": [
    "changes_df.Delta.median()"
   ]
  },
  {
   "cell_type": "code",
   "execution_count": null,
   "metadata": {},
   "outputs": [
    {
     "name": "stdout",
     "output_type": "stream",
     "text": [
      "bleu_score=0.932442560465694\n"
     ]
    }
   ],
   "source": [
    "    reference = [word for word in prompts[k].split()]\n",
    "    candidate = [word for word in gpt_output.split()]\n",
    "    bleu_score = sentence_bleu([reference], candidate)\n",
    "    print(f\"{bleu_score=}\")"
   ]
  },
  {
   "cell_type": "code",
   "execution_count": null,
   "metadata": {},
   "outputs": [],
   "source": [
    "original = '''\n",
    "Summary: The user has a distinct preference for fiction, particularly works that delve into science fiction, fantasy, and speculative narratives, \\\n",
    "    often with a touch of epic storytelling or significant historical context. \\\n",
    "    These genres resonate due to their imaginative scope and the ability to transport the audience to different realms or alternate realities,\\\n",
    "    offering complex world-building and often featuring iconic characters on journeys or missions with high stakes.\\\n",
    "    The user appreciates plots revolving around heroism, adventure, and warfare, both tactical and grandiose in scale, particularly those that interweave fictional\\\n",
    "    elements with historical nods or futuristic settings. In contrast, the user might not favor genres that are grounded strictly\\\n",
    "    in the current reality or those that focus on the more mundane aspects of life. For example, works strictly categorized under technology & engineering might \\\n",
    "    be less appealing if they lack the narrative drive or the philosophical underpinnings found in the user's preferred genres.\\\n",
    "    Autobiographies and strictly narrative-driven real-world historical events, without the infusion of dramatization or thematic depth, could potentially fall flat for the user,\\\n",
    "        despite their appreciation for history when it intertwines with fiction or grand storytelling.'''\n",
    "s = '''\n",
    "Summary: The user has a distinct preference for fiction, particularly works that delve into science fiction, and speculative narratives, \\\n",
    "    often with a touch of epic storytelling or significant historical context. \\\n",
    "    These genres resonate due to their imaginative scope and the ability to transport the audience to different realms or alternate realities,\\\n",
    "    offering complex world-building and often featuring iconic characters on journeys or missions with high stakes.\\\n",
    "    The user appreciates plots revolving around heroism, adventure, and warfare, both tactical and grandiose in scale, particularly those that interweave fictional\\\n",
    "    elements with  futuristic settings. In contrast, the user might not favor genres that are grounded strictly\\\n",
    "    in the current reality or those that focus on the more mundane aspects of life. For example, works strictly categorized under technology & engineering might \\\n",
    "    be less appealing if they lack the narrative drive or the philosophical underpinnings found in the user's preferred genres.\\\n",
    "    Autobiographies and strictly narrative-driven real-world historical events, without the infusion of dramatization or thematic depth, could potentially fall flat for the user,\\\n",
    "        despite their appreciation for history when it intertwines with fiction or grand storytelling.\n",
    "'''"
   ]
  },
  {
   "cell_type": "code",
   "execution_count": null,
   "metadata": {},
   "outputs": [
    {
     "name": "stdout",
     "output_type": "stream",
     "text": [
      "delta=16\n"
     ]
    },
    {
     "data": {
      "text/plain": [
       "33"
      ]
     },
     "execution_count": 89,
     "metadata": {},
     "output_type": "execute_result"
    }
   ],
   "source": [
    "delta, new_rank,new_rankings,generes = get_difs(s1 = prompts[k],s2 = s,target_rank = taget_rank)\n",
    "print(f\"{delta=}\")\n",
    "new_rank"
   ]
  },
  {
   "cell_type": "code",
   "execution_count": null,
   "metadata": {},
   "outputs": [
    {
     "data": {
      "text/plain": [
       "['Star Wars Episode II',\n",
       " 'Star Wars Njo Force Heretic Remnant 1 (Star Wars New Jedi Order) (v. 1)',\n",
       " 'HYPERION',\n",
       " 'The Crystal Star',\n",
       " 'A Feast for Crows (A Song of Ice and Fire, Book Four)',\n",
       " 'A Deepness in the Sky',\n",
       " 'Starship Troopers',\n",
       " 'Dune',\n",
       " \"Star Wars Survivor's Quest\",\n",
       " 'Reunion. Sean Williams and Shane Dix (Star Wars New Jedi Order) (v. 3)']"
      ]
     },
     "execution_count": 87,
     "metadata": {},
     "output_type": "execute_result"
    }
   ],
   "source": [
    "new_rankings[:10]"
   ]
  },
  {
   "cell_type": "code",
   "execution_count": null,
   "metadata": {},
   "outputs": [
    {
     "data": {
      "text/plain": [
       "['Star Wars Episode II',\n",
       " 'Star Wars Njo Force Heretic Remnant 1 (Star Wars New Jedi Order) (v. 1)',\n",
       " 'HYPERION',\n",
       " 'The Crystal Star',\n",
       " 'A Feast for Crows (A Song of Ice and Fire, Book Four)',\n",
       " 'A Deepness in the Sky',\n",
       " 'Starship Troopers',\n",
       " 'Dune',\n",
       " \"Star Wars Survivor's Quest\",\n",
       " 'Reunion. Sean Williams and Shane Dix (Star Wars New Jedi Order) (v. 3)',\n",
       " 'A Princess of Mars',\n",
       " 'FOUNDATION',\n",
       " 'A princess of Mars',\n",
       " 'Tales from the Empire: Star Wars',\n",
       " 'The Hunt for RED OCTOBER',\n",
       " 'A Canticle for Leibowitz',\n",
       " 'Foundation',\n",
       " 'Battle Flag: Starbuck Chronicles, Vol. 3',\n",
       " 'Hard Contact (Star Wars: Republic Commando, Book 1)',\n",
       " 'Foundation And Empire',\n",
       " 'Foundation and Empire',\n",
       " 'Down to Earth (Colonization, Book 2)',\n",
       " 'Barrayar (unsigned book club edition)',\n",
       " 'Slave Ship (Star Wars: The Bounty Hunter Wars, Book 2)',\n",
       " 'The Martian Way',\n",
       " 'Battle Flag (Starbuck Chronicles)',\n",
       " 'House Atreides',\n",
       " 'Shadow of the Hegemon',\n",
       " 'Outbound Flight (Star Wars)',\n",
       " 'The Reality Dysfunction Part I: Emergence']"
      ]
     },
     "execution_count": 84,
     "metadata": {},
     "output_type": "execute_result"
    }
   ],
   "source": [
    "new_rankings[:30]"
   ]
  },
  {
   "cell_type": "code",
   "execution_count": null,
   "metadata": {},
   "outputs": [
    {
     "name": "stdout",
     "output_type": "stream",
     "text": [
      "Proportion of deltas below zero: 0.336\n",
      "Proportion of deltas above zero: 0.564\n"
     ]
    }
   ],
   "source": [
    "deltas_list = list(changes_df.Delta)\n",
    "#get the proportion of deltas below zero \n",
    "prop_below_zero = len([i for i in deltas_list if i < 0])/len(deltas_list)\n",
    "print(f'Proportion of deltas below zero: {prop_below_zero}')\n",
    "#get the ones above zer o \n",
    "prop_above_zero = len([i for i in deltas_list if i > 0])/len(deltas_list)\n",
    "print(f'Proportion of deltas above zero: {prop_above_zero}')\n"
   ]
  },
  {
   "cell_type": "code",
   "execution_count": null,
   "metadata": {},
   "outputs": [],
   "source": [
    "from pprint import pprint\n",
    "pprint(user_prompt)"
   ]
  },
  {
   "cell_type": "code",
   "execution_count": null,
   "metadata": {},
   "outputs": [],
   "source": [
    "s = set(movie_id_map.keys())\n",
    "val = set(movie_id_map.values())"
   ]
  },
  {
   "cell_type": "code",
   "execution_count": null,
   "metadata": {},
   "outputs": [],
   "source": [
    "max(list(movie_id_map.keys()))"
   ]
  },
  {
   "cell_type": "code",
   "execution_count": null,
   "metadata": {},
   "outputs": [],
   "source": [
    "import pandas as pd "
   ]
  },
  {
   "cell_type": "code",
   "execution_count": null,
   "metadata": {},
   "outputs": [],
   "source": [
    "df = pd.read_csv('/home/mila/e/emiliano.penaloza/LLM4REC/results/books/gpt4_results_19_up.csv')"
   ]
  },
  {
   "cell_type": "code",
   "execution_count": null,
   "metadata": {},
   "outputs": [],
   "source": [
    "df.median()"
   ]
  }
 ],
 "metadata": {
  "kernelspec": {
   "display_name": "llm4rec",
   "language": "python",
   "name": "python3"
  },
  "language_info": {
   "codemirror_mode": {
    "name": "ipython",
    "version": 3
   },
   "file_extension": ".py",
   "mimetype": "text/x-python",
   "name": "python",
   "nbconvert_exporter": "python",
   "pygments_lexer": "ipython3",
   "version": "3.10.11"
  }
 },
 "nbformat": 4,
 "nbformat_minor": 2
}
