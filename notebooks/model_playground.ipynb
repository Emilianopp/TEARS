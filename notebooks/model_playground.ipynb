{
 "cells": [
  {
   "cell_type": "code",
   "execution_count": 1,
   "metadata": {},
   "outputs": [
    {
     "name": "stderr",
     "output_type": "stream",
     "text": [
      "/home/mila/e/emiliano.penaloza/llm4rec/lib/python3.10/site-packages/tqdm/auto.py:21: TqdmWarning: IProgress not found. Please update jupyter and ipywidgets. See https://ipywidgets.readthedocs.io/en/stable/user_install.html\n",
      "  from .autonotebook import tqdm as notebook_tqdm\n"
     ]
    }
   ],
   "source": [
    "%load_ext autoreload\n",
    "%autoreload 2\n",
    "import sys\n",
    "sys.path.append('../')\n",
    "from sentence_transformers import SentenceTransformer\n",
    "from model.decoderMLP import decoderMLP, decoderAttention, movieTransformer\n",
    "from tqdm import tqdm\n",
    "import openai\n",
    "import pickle \n",
    "import argparse\n",
    "from typing import List\n",
    "import logging\n",
    "import numpy as np\n",
    "import torch\n",
    "import json\n",
    "import time\n",
    "import torch.optim as optim\n",
    "import torch\n",
    "from pprint import pprint as pp\n",
    "from scipy.sparse import csr_matrix\n",
    "import os \n",
    "import pandas as pd\n",
    "from collections import defaultdict\n",
    "from helper.sampler import NegSampler, negsamp_vectorized_bsearch_preverif\n",
    "from argparse import ArgumentParser\n",
    "from model.MF import MatrixFactorization,MatrixFactorizationLLM\n",
    "from trainer.training_utils import *\n",
    "from helper.eval_metrics import *\n",
    "from helper.dataloader import *"
   ]
  },
  {
   "cell_type": "code",
   "execution_count": null,
   "metadata": {},
   "outputs": [],
   "source": [
    "lr= 0.00001\n",
    "epochs = 500\n",
    "num_heads = 8\n",
    "cosine = False\n",
    "num_layers = 2\n",
    "output_emb = 256\n",
    "embedding_dim = 768\n",
    "\n",
    "saved_path = f'/home/mila/e/emiliano.penaloza/scratch/saved_model/ml-100k/attention_best_model_{lr}_{epochs}_{num_heads}_{cosine}_{num_layers}.pth'\n",
    "\n",
    "model_path = saved_path + '_best_model.pth'\n",
    "embedder_path = saved_path + '_embedder.pth'\n",
    "item_embeddings_path = saved_path + '_item_embeddings.pth'\n",
    "user_embeddings_path = saved_path + '_user_embeddings.pth'\n",
    "model_rankings_path = saved_path + '_rankings_matrix.npy'\n",
    "id_genre_map = map_id_to_genre('../data/ml-100k/movies.dat')\n",
    "\n",
    "# 1. Data Loading & Preprocessing\n",
    "train_data = load_dataset(\"../data_preprocessed/ml-100k/data_split/train_set_leave_one.json\")\n",
    "valid_data = load_dataset(\"../data_preprocessed/ml-100k/data_split/valid_set_leave_one.json\")\n",
    "test_data = load_dataset(\"../data_preprocessed/ml-100k/data_split/test_set_leave_one.json\")\n",
    "movie_title_to_id = map_title_to_id(\"../data/ml-100k/movies.dat\")\n",
    "\n",
    "train_data = convert_titles_to_ids(train_data, movie_title_to_id)\n",
    "valid_data = convert_titles_to_ids(valid_data, movie_title_to_id)\n",
    "test_data = convert_titles_to_ids(test_data, movie_title_to_id)\n",
    "\n",
    "train_matrix, actual_list_val, actual_list_test = create_train_matrix_and_actual_lists(train_data, valid_data,\n",
    "                                                                                        test_data, movie_title_to_id)\n",
    "train_matrix = csr_matrix(train_matrix)  # Convert train_matrix to a CSR matrix\n",
    "\n",
    "\n",
    "# 2. Model Creation\n",
    "num_users, num_items = train_matrix.shape"
   ]
  },
  {
   "cell_type": "code",
   "execution_count": null,
   "metadata": {},
   "outputs": [
    {
     "name": "stderr",
     "output_type": "stream",
     "text": [
      "/home/mila/e/emiliano.penaloza/LLM4REC/notebooks/../model/MF.py:11: UserWarning: nn.init.xavier_uniform is now deprecated in favor of nn.init.xavier_uniform_.\n",
      "  torch.nn.init.xavier_uniform(m.weight)\n"
     ]
    }
   ],
   "source": [
    "args = parse_args(True)\n",
    "user_embedder = decoderAttention(embedding_dim,num_heads,num_layers,output_emb, 0  )\n",
    "\n",
    "model = MatrixFactorizationLLM(num_users, user_embedder,num_items, args).to(args.device)\n"
   ]
  },
  {
   "cell_type": "code",
   "execution_count": 5,
   "metadata": {},
   "outputs": [],
   "source": [
    "model.load_state_dict(torch.load(model_path,map_location=torch.device('cuda')))\n",
    "# user_embedder.load_state_dict(torch.load(user_embeddings_path,map_location=torch.device('mps')))\n",
    "# model.user_embeddings = user_embedder\n",
    "\n",
    "model.eval()\n",
    "transformer_model = SentenceTransformer('sentence-transformers/sentence-t5-large').to(args.device)\n"
   ]
  },
  {
   "cell_type": "code",
   "execution_count": 103,
   "metadata": {},
   "outputs": [],
   "source": [
    "summaries = {\n",
    "        \"drama\": \"summary: this collection of drama movies explores various themes, including crime, romance, and personal journeys. from british films to american dramas, these stories delve into the human condition, addressing issues of love, loss, and societal challenges.\",\n",
    "        \"romance\": \"summary: a collection of romantic films spanning different subgenres, including romantic comedies, dramas, and musicals. these movies explore themes of love, relationships, and personal growth.\",\n",
    "        \"action\": \"summary: action-packed films filled with thrilling crime, martial arts, cyberpunk, and sci-fi elements. from the adrenaline-fueled world of hackers to intense battles and jaw-dropping stunts, these movies will keep you on the edge of your\",\n",
    "        \"scifi\": \"summary: a collection of science fiction films that explore themes such as time travel, cloning, and genetic experimentation. the movies range from thrilling adventures in dinosaur parks to cyberpunk thrillers set in a dystopian future.\",\n",
    "        \"thriller\": \"summary: a collection of 1990s thriller films featuring crime, suspense, psychological twists, and action. the films star a variety of notable actors and cover genres such as cybercrime, neo-noir, psychological drama, and action horror.\",\n",
    "        \"comedy\": \"summary: a collection of comedic films featuring romance, drama, coming-of-age, and superhero elements.\",\n",
    "        \"crime\": \"summary: a collection of crime films spanning the early to mid-1990s, featuring comedy, cyberpunk, legal thriller, neo-noir, mystery, and superhero genres. the movies delve into themes of hacking, legal battles, heists,\",\n",
    "        \"war\": \"summary: war movies range from powerful historical dramas depicting the atrocities of war to satirical comedies highlighting international relations, and intense dramas set against the backdrop of political unrest. these films explore themes of human resilience, activism, and the untold stories of\",\n",
    "        \"mystery\": \"summary: a collection of mystery movies from the mid-90s, featuring elements of comedy, science fiction, psychological thrills, and neo-noir.\",\n",
    "        \"adventure\": \"summary: adventure movies from the 90s featuring thrilling quests, exotic locations, and diverse characters. these films range from action-packed science fiction to heartfelt family adventures.\",\n",
    "        \"children\": \"summary: a collection of beloved children's movies featuring animated adventures, musical numbers, and heartwarming stories.\",\n",
    "        \"fantasy\": \"summary: a collection of fantasy films that transport viewers into magical worlds filled with adventure and imagination. these movies feature young protagonists embarking on extraordinary quests, often blending animation with live-action elements. from tales of knights and legendary tables to enchanted libraries and toys\",\n",
    "        \"horror\": \"summary: a collection of horror films ranging from gothic comedies to supernatural slashers, exploring various themes like science fiction, psychological thrillers, and slasher genres.\",\n",
    "        \"animation\": \"summary: these animated films offer fantasy adventures with memorable characters and music, capturing the imaginations of audiences with their vibrant animation and heartwarming stories.\",\n",
    "        \"documentary\": \"summary: documentaries that explore important historical figures and events, including the assassination of malcolm x and the life of anne frank. also included are documentaries about controversial figures like heidi fleiss and mockumentaries like \\\"man of the year\\\".\"\n",
    "    }\n",
    "  \n",
    "          \n",
    "def get_preds(summaries ,USER_INDEX): \n",
    "    args.embedding_module = 't5'\n",
    "    topk= args.topk\n",
    "    embs = get_genrewise_embeddings(summaries,args, model= transformer_model )\n",
    "\n",
    "\n",
    "    genre_list = get_genres()\n",
    "    embs_tens = model.user_embeddings.prepare_input(embs,genre_list).to(args.device)\n",
    "\n",
    "\n",
    "    rating_pred = model.predict(embs_tens.unsqueeze(0)).cpu().detach().numpy()\n",
    "    if USER_INDEX != -1:\n",
    "        rating_pred[train_matrix[USER_INDEX].toarray() > 0] = 0\n",
    "\n",
    "\n",
    "    # reference: https://stackoverflow.com/a/23734295, https://stackoverflow.com/a/20104162\n",
    "    ind = np.argpartition(rating_pred, -topk)\n",
    "    ind = ind[:, -topk:]\n",
    "    arr_ind = rating_pred[np.arange(len(rating_pred))[:, None], ind]\n",
    "    arr_ind_argsort = np.argsort(arr_ind)[np.arange(len(rating_pred)), ::-1]\n",
    "    \n",
    "\n",
    "    ranked_items = ind[np.arange(len(rating_pred))[:, None], arr_ind_argsort]\n",
    "    recall_val = recall_at_k_one(actual_list_val[USER_INDEX], ranked_items[0].tolist(), 20)\n",
    "    print(f\"{recall_val=}\")\n",
    "\n",
    "\n",
    "    reversed_movie_title_to_id = {v: k for k, v in movie_title_to_id.items()}\n",
    "    movie_titles_ranked = [f'{index} : {reversed_movie_title_to_id[i+1]} {id_genre_map[i+1]}' for index,i in enumerate(ranked_items[0][:20])]\n",
    "    print(f\"{rating_pred[:,ranked_items[:20]]=}\")\n",
    "    pp(movie_titles_ranked)\n",
    "\n",
    "\n",
    "\n",
    "    return torch.tensor(ranked_items).to(args.device),torch.tensor(rating_pred).to(args.device)"
   ]
  },
  {
   "cell_type": "code",
   "execution_count": 193,
   "metadata": {},
   "outputs": [
    {
     "name": "stdout",
     "output_type": "stream",
     "text": [
      "recall_val=0.08333333333333333\n",
      "rating_pred[:,ranked_items[:20]]=array([[[0.84067714, 0.8211572 , 0.8196265 , 0.80309385, 0.79291224,\n",
      "         0.7859359 , 0.7820298 , 0.7720497 , 0.7658509 , 0.73849   ,\n",
      "         0.7327476 , 0.69349915, 0.6933176 , 0.67101103, 0.6452217 ,\n",
      "         0.6359311 , 0.63181835, 0.6302438 , 0.626497  , 0.6227812 ]]],\n",
      "      dtype=float32)\n",
      "['0 : If Lucy Fell (1996) Comedy|Romance',\n",
      " \"1 : Mighty Morphin Power Rangers: The Movie (1995) Action|Children's\",\n",
      " '2 : Perez Family, The (1995) Comedy|Romance',\n",
      " '3 : Pretty Woman (1990) Comedy|Romance',\n",
      " \"4 : Kid in King Arthur's Court, A (1995) \"\n",
      " \"Adventure|Children's|Comedy|Fantasy|Romance|Sci-Fi\",\n",
      " \"5 : Super Mario Bros. (1993) Action|Adventure|Children's|Sci-Fi\",\n",
      " \"6 : Toy Story (1995) Animation|Children's|Comedy\",\n",
      " '7 : Natural Born Killers (1994) Action|Thriller',\n",
      " '8 : Usual Suspects, The (1995) Crime|Thriller',\n",
      " \"9 : Young Poisoner's Handbook, The (1995) Crime\",\n",
      " '10 : Thinner (1996) Horror|Thriller',\n",
      " '11 : Sabrina (1995) Comedy|Romance',\n",
      " '12 : Basketball Diaries, The (1995) Drama',\n",
      " '13 : Ed Wood (1994) Comedy|Drama',\n",
      " '14 : Circle of Friends (1995) Drama|Romance',\n",
      " '15 : Leaving Las Vegas (1995) Drama|Romance',\n",
      " '16 : Addams Family Values (1993) Comedy',\n",
      " \"17 : Shaggy Dog, The (1959) Children's|Comedy\",\n",
      " '18 : Forget Paris (1995) Comedy|Romance',\n",
      " '19 : Cutthroat Island (1995) Action|Adventure|Romance']\n"
     ]
    }
   ],
   "source": [
    "summaries = {\n",
    "        \"children's\" : 'movies based on video games sci-fi elements',\n",
    "        # \"adventure\": \"summary:\",\n",
    "    }\n",
    "\n",
    "_ = get_preds(summaries,-1)"
   ]
  },
  {
   "cell_type": "code",
   "execution_count": 127,
   "metadata": {},
   "outputs": [
    {
     "name": "stdout",
     "output_type": "stream",
     "text": [
      "recall_val=0.0\n",
      "rating_pred[:,ranked_items[:20]]=array([[[10.149776 ,  9.857829 ,  9.436834 ,  9.174857 ,  8.174489 ,\n",
      "          7.913516 ,  7.643267 ,  7.352436 ,  7.123072 ,  6.7454185,\n",
      "          6.6781964,  6.469304 ,  6.4074607,  6.3636374,  6.2962384,\n",
      "          6.231206 ,  6.1615562,  6.1074853,  5.987812 ,  5.9270906]]],\n",
      "      dtype=float32)\n",
      "[\"0 : Toy Story (1995) Animation|Children's|Comedy\",\n",
      " '1 : Usual Suspects, The (1995) Crime|Thriller',\n",
      " \"2 : Mighty Morphin Power Rangers: The Movie (1995) Action|Children's\",\n",
      " '3 : Perez Family, The (1995) Comedy|Romance',\n",
      " '4 : Sabrina (1995) Comedy|Romance',\n",
      " \"5 : Young Poisoner's Handbook, The (1995) Crime\",\n",
      " '6 : Rob Roy (1995) Drama|Romance|War',\n",
      " '7 : Natural Born Killers (1994) Action|Thriller',\n",
      " '8 : Milk Money (1994) Comedy|Romance',\n",
      " '9 : Just Cause (1995) Mystery|Thriller',\n",
      " '10 : Mixed Nuts (1994) Comedy',\n",
      " '11 : Some Folks Call It a Sling Blade (1993) Drama|Thriller',\n",
      " '12 : Hudsucker Proxy, The (1994) Comedy|Romance',\n",
      " '13 : Only You (1994) Comedy|Romance',\n",
      " '14 : In the Name of the Father (1993) Drama',\n",
      " '15 : Two if by Sea (1996) Comedy|Romance',\n",
      " '16 : Man of the House (1995) Comedy',\n",
      " '17 : My Crazy Life (Mi vida loca) (1993) Drama',\n",
      " '18 : Johnny Mnemonic (1995) Action|Sci-Fi|Thriller',\n",
      " '19 : If Lucy Fell (1996) Comedy|Romance']\n"
     ]
    }
   ],
   "source": [
    "summaries = {\n",
    "        \"romance\": \"summary: dramatic comedies\",\n",
    "        \"action\": \"summary: \",\n",
    "        \"scifi\": \"summary: \",\n",
    "        \"thriller\": \"summary: \",\n",
    "        \"comedy\": \"summary: \",\n",
    "        \"crime\": \"summary: \",\n",
    "        \"war\": \"summary: \",\n",
    "        \"mystery\": \"summary: \",\n",
    "        \"adventure\": \"summary: \",\n",
    "        \"children\": \"summary: \",\n",
    "        \"fantasy\": \"summary:\",\n",
    "        \"horror\": \"summary: \",\n",
    "        \"animation\": \"summary: \",\n",
    "        \"documentary\": \"summary: \"\n",
    "    }\n",
    "\n",
    "_ = get_preds(summaries,10)"
   ]
  },
  {
   "cell_type": "code",
   "execution_count": 25,
   "metadata": {},
   "outputs": [
    {
     "name": "stdout",
     "output_type": "stream",
     "text": [
      "rating_pred=array([[ 3.2983067 , -0.03292658, -2.6388288 , ..., -5.7749333 ,\n",
      "        -6.4197893 , -6.347992  ]], dtype=float32)\n",
      "recall_val=0.0\n",
      "['0 : Johnny Mnemonic (1995) Action|Sci-Fi|Thriller',\n",
      " '1 : Usual Suspects, The (1995) Crime|Thriller',\n",
      " '2 : Mute Witness (1994) Thriller',\n",
      " \"3 : Mighty Morphin Power Rangers: The Movie (1995) Action|Children's\",\n",
      " '4 : In the Bleak Midwinter (1995) Comedy',\n",
      " '5 : Nick of Time (1995) Action|Thriller',\n",
      " '6 : Brothers McMullen, The (1995) Comedy',\n",
      " '7 : Something to Talk About (1995) Comedy|Drama|Romance',\n",
      " '8 : Man of No Importance, A (1994) Drama',\n",
      " '9 : Exit to Eden (1994) Comedy',\n",
      " '10 : Bhaji on the Beach (1993) Comedy|Drama',\n",
      " '11 : Crimson Tide (1995) Drama|Thriller|War',\n",
      " '12 : Two if by Sea (1996) Comedy|Romance',\n",
      " '13 : Waiting to Exhale (1995) Comedy|Drama',\n",
      " \"14 : White Man's Burden (1995) Drama\",\n",
      " '15 : Batman Forever (1995) Action|Adventure|Comedy|Crime',\n",
      " '16 : Sabrina (1995) Comedy|Romance',\n",
      " '17 : Lamerica (1994) Drama',\n",
      " '18 : Nine Months (1995) Comedy',\n",
      " \"19 : Toy Story (1995) Animation|Children's|Comedy\"]\n"
     ]
    },
    {
     "data": {
      "text/plain": [
       "(tensor([[ 770,   11,  772,  373,  717,  760,   25,  774, 1074,  724, 1474,   30,\n",
       "          1039, 1310,  554,   28,  273, 1627,  721,    0]], device='cuda:0'),\n",
       " tensor([[ 3.2983, -0.0329, -2.6388,  ..., -5.7749, -6.4198, -6.3480]],\n",
       "        device='cuda:0'))"
      ]
     },
     "execution_count": 25,
     "metadata": {},
     "output_type": "execute_result"
    }
   ],
   "source": [
    "summaries = {\n",
    "        \"action\": \"summary: action-packed films from the 1990s featuring post-apocalyptic worlds, crime, superheroes, buddy cops, historical dramas, and intense sci-fi thrillers.\",\n",
    "        \"scifi\": \"summary: a collection of sci-fi films spanning different subgenres including space opera, cyberpunk, neo-noir, and fantasy comedy. these movies explore themes such as alien arrivals, epic space battles, futuristic technology, and dystopian societies.\",\n",
    "        \"thriller\": \"summary: a collection of intense thriller films with psychological elements, featuring mystery, crime, and suspense.\",\n",
    "        \"comedy\": \"summary: a collection of comedy films from the 1990s with diverse themes including sports, romance, divorce, coming-of-age, drag queens, and family dynamics. these movies explore humor and life in various situations, offering a mixture of laughs and\",\n",
    "        \"crime\": \"summary: intense crime movies featuring psychological thrillers, gangsters, and dramatic crime thrillers set in urban environments.\",\n",
    "        \"drama\": \"summary: a collection of dramatic films featuring psychological thrillers, crime dramas, legal thrillers, and epic comedies. these movies explore themes of escape, justice, redemption, and the complexities of human relationships.\",\n",
    "        \"adventure\": \"summary: adventure movies from the 90s featuring thrilling survival, fantasy elements, and action-packed quests.\",\n",
    "        \"children\": \"summary: a collection of uplifting and family-friendly children's movies that feature adventure, comedy, and animated characters. these movies provide entertainment for young audiences and are enjoyable for the whole family.\",\n",
    "        \"fantasy\": \"summary: this set of fantasy movies includes adventure, comedy, action, and supernatural elements. some films involve time travel or historical settings, while others weave fantasy into the holiday season. these movies feature magical and fantastical themes, with a mix of live\",\n",
    "        \"romance\": \"summary: a collection of romantic films spanning different genres, including comedy, drama, and horror. these films feature various themes such as love, relationships, and coming-of-age.\",\n",
    "        \"mystery\": \"summary: a collection of mysterious films that explore themes of crime, psychology, and suspense. featuring legal thrillers, psychological thrillers, acid westerns, and science fantasy. starring renowned actors and directors, these movies delve into the depths of human\",\n",
    "        \"horror\": \"summary: a collection of horror movies with various themes such as body horror, gothic comedy, psychological thriller, supernatural, and romantic horror.\"\n",
    "    }\n",
    "\n",
    "get_preds(summaries,10)"
   ]
  },
  {
   "cell_type": "code",
   "execution_count": 79,
   "metadata": {},
   "outputs": [
    {
     "name": "stdout",
     "output_type": "stream",
     "text": [
      "recall_val=0.0\n",
      "rating_pred[:,ranked_items[:20]]=array([[[4.88187  , 4.796911 , 4.2220984, 4.118821 , 3.9036672,\n",
      "         3.8293638, 3.7943988, 3.426751 , 3.4190583, 3.302624 ,\n",
      "         3.2861614, 3.1626375, 3.0910912, 3.0854669, 3.0730765,\n",
      "         3.0154707, 2.9396334, 2.9084356, 2.9044778, 2.902322 ]]],\n",
      "      dtype=float32)\n",
      "['0 : City Hall (1996) Drama|Thriller',\n",
      " \"1 : Kid in King Arthur's Court, A (1995) \"\n",
      " \"Adventure|Children's|Comedy|Fantasy|Romance|Sci-Fi\",\n",
      " '2 : Quiz Show (1994) Drama',\n",
      " \"3 : Mighty Morphin Power Rangers: The Movie (1995) Action|Children's\",\n",
      " \"4 : Toy Story (1995) Animation|Children's|Comedy\",\n",
      " '5 : Natural Born Killers (1994) Action|Thriller',\n",
      " '6 : Forget Paris (1995) Comedy|Romance',\n",
      " \"7 : Young Poisoner's Handbook, The (1995) Crime\",\n",
      " '8 : Nemesis 2: Nebula (1995) Action|Sci-Fi|Thriller',\n",
      " '9 : My Crazy Life (Mi vida loca) (1993) Drama',\n",
      " '10 : Circle of Friends (1995) Drama|Romance',\n",
      " '11 : Shopping (1994) Action|Thriller',\n",
      " '12 : Queen Margot (Reine Margot, La) (1994) Drama|Romance',\n",
      " '13 : Tommy Boy (1995) Comedy',\n",
      " '14 : Leaving Las Vegas (1995) Drama|Romance',\n",
      " '15 : Rob Roy (1995) Drama|Romance|War',\n",
      " '16 : Friday (1995) Comedy',\n",
      " '17 : Juror, The (1996) Drama|Thriller',\n",
      " '18 : Two if by Sea (1996) Comedy|Romance',\n",
      " '19 : Only You (1994) Comedy|Romance']\n"
     ]
    },
    {
     "data": {
      "text/plain": [
       "(tensor([[ 695,  559,   57,  373,    0,   52, 1040,  546, 1595, 1420,  723, 1594,\n",
       "           729,  789,  275,  548, 1217,  716, 1039,  784]], device='cuda:0'),\n",
       " tensor([[ 3.9037,  0.7154, -2.0728,  ..., -4.4861, -5.6669, -5.9640]],\n",
       "        device='cuda:0'))"
      ]
     },
     "execution_count": 79,
     "metadata": {},
     "output_type": "execute_result"
    }
   ],
   "source": [
    "summaries = {\n",
    "         \"drama\": \"summary: a collection of diverse drama films spanning different time periods and settings. these movies explore themes such as war, historical events, personal struggles, and cultural differences. prepare for engaging storytelling and compelling performances.\",\n",
    "        \"thriller\": \"summary: a collection of gripping neo-noir  thrillers with captivating storytelling and compelling characters.\",\n",
    "        \"comedy\": \"summary: a collection of lighthearted comedy-drama films with romantic elements, centered around various characters and their humorous situations.\" \n",
    "    }\n",
    "get_preds(summaries,8)\n"
   ]
  },
  {
   "cell_type": "code",
   "execution_count": 96,
   "metadata": {},
   "outputs": [
    {
     "name": "stdout",
     "output_type": "stream",
     "text": [
      "recall_val=0.0\n",
      "rating_pred[:,ranked_items[:20]]=array([[[4.097349 , 3.949589 , 3.6617706, 3.3679554, 3.317356 ,\n",
      "         3.2075047, 3.07199  , 2.938858 , 2.9328187, 2.9130967,\n",
      "         2.8185902, 2.7796543, 2.7576113, 2.718648 , 2.6585126,\n",
      "         2.6254716, 2.6081107, 2.5756125, 2.5701537, 2.5588923]]],\n",
      "      dtype=float32)\n",
      "['0 : City Hall (1996) Drama|Thriller',\n",
      " \"1 : Kid in King Arthur's Court, A (1995) \"\n",
      " \"Adventure|Children's|Comedy|Fantasy|Romance|Sci-Fi\",\n",
      " \"2 : Mighty Morphin Power Rangers: The Movie (1995) Action|Children's\",\n",
      " '3 : Quiz Show (1994) Drama',\n",
      " \"4 : Toy Story (1995) Animation|Children's|Comedy\",\n",
      " '5 : Forget Paris (1995) Comedy|Romance',\n",
      " '6 : Natural Born Killers (1994) Action|Thriller',\n",
      " \"7 : Young Poisoner's Handbook, The (1995) Crime\",\n",
      " '8 : Shopping (1994) Action|Thriller',\n",
      " '9 : Friday (1995) Comedy',\n",
      " '10 : Circle of Friends (1995) Drama|Romance',\n",
      " '11 : Juror, The (1996) Drama|Thriller',\n",
      " '12 : Johnny Mnemonic (1995) Action|Sci-Fi|Thriller',\n",
      " '13 : Two if by Sea (1996) Comedy|Romance',\n",
      " '14 : In the Bleak Midwinter (1995) Comedy',\n",
      " '15 : First Knight (1995) Action|Adventure|Drama|Romance',\n",
      " '16 : Nemesis 2: Nebula (1995) Action|Sci-Fi|Thriller',\n",
      " '17 : Leaving Las Vegas (1995) Drama|Romance',\n",
      " '18 : Judge Dredd (1995) Action|Adventure|Sci-Fi',\n",
      " '19 : Rob Roy (1995) Drama|Romance|War']\n"
     ]
    },
    {
     "data": {
      "text/plain": [
       "(tensor([[ 695,  559,  373,   57,    0, 1040,   52,  546, 1594, 1217,  723,  716,\n",
       "           770, 1039,  717,  719, 1595,  275,  372,  548]], device='cuda:0'),\n",
       " tensor([[ 3.3174,  0.4781, -1.9608,  ..., -4.0396, -5.1065, -5.3225]],\n",
       "        device='cuda:0'))"
      ]
     },
     "execution_count": 96,
     "metadata": {},
     "output_type": "execute_result"
    }
   ],
   "source": [
    "summaries = {\n",
    "       \"drama\": \"summary: a collection of diverse drama films spanning different time periods and settings. these movies explore themes such as war,. prepare for engaging storytelling and compelling performances.\",\n",
    "        \"thriller\": \"summary: a collection of gripping neo-noir crime thrillers with captivating storytelling and compelling characters.\",\n",
    "        \"comedy\": \"summary: a collection of lighthearted comedy-drama films with romantic elements, centered around various characters and their humorous situations.\" \n",
    "        }\n",
    "get_preds(summaries,8)\n"
   ]
  },
  {
   "cell_type": "markdown",
   "metadata": {},
   "source": [
    "### Checking climber results"
   ]
  },
  {
   "cell_type": "code",
   "execution_count": 98,
   "metadata": {},
   "outputs": [
    {
     "data": {
      "text/plain": [
       "{0: {'old': [\"action: summary: action-packed movies from the 90s with a mix of cyberpunk, post-apocalyptic, and martial arts themes. these films feature intense action sequences and are directed by renowned filmmakers. drama: summary: a collection of drama films ranging from disaster survival, epic western, historical biographical, romantic, and psychological thriller. these films explore themes of love, loss, personal struggles, and the human condition. romance: summary: a collection of romantic movies from various genres including drama, comedy, musical, and fantasy. these films explore themes of love and relationships, featuring a mix of well-known actors and diverse storylines. scifi: summary: a collection of sci-fi films ranging from space operas to post-apocalyptic adventures, with elements of cyberpunk and dystopia. the movies explore themes of technology, survival, and thrilling action, featuring memorable characters and imaginative settings. thriller: summary: a collection of thrilling movies with elements of crime, suspense, and science fiction. the films feature a variety of genres including erotic thriller, cyberpunk, and independent drama. the cast includes notable actors such as ray liotta, linda fiorent crime: summary: a collection of crime films from the mid-90s, including gangster comedies, epic crime dramas, cyberpunk thrillers, and action-packed sci-fi flicks. comedy: summary: a collection of comedy films spanning different themes and genres, including children's comedy, adventure comedy fantasy, prank calls, historical comedy-drama, action comedy, romantic comedy, and farce black comedy. children: summary: a collection of coming-of-age, fantasy, adventure, comedy, and family films that will entertain children and provide a fun and enjoyable experience. adventure: summary: adventure movies from the 1990s with a mix of drama, fantasy, and superhero themes. animation: summary: animated films that belong to the animation genre, providing entertainment with adventure, music, and historical themes. fantasy: summary: a collection of fantasy films ranging from family adventures to magical realism, including stories about mythical creatures, mystical worlds, and extraordinary quests. documentary: summary: a collection of documentary films exploring various subjects, including basketball dreams, mockumentary, hip-hop music, hollywood's infamous madam, fashion models, and notable individuals like nico and jean seberg. the films offer a glimpse into different worlds mystery: summary: a collection of mysterious and suspenseful films that explore crime, psychological thrillers, and science fiction. these movies delve into the world of detectives, investigations, and the after-effects of unexpected events. horror: summary: a collection of horror films that explore vampires, psychological thrillers, and supernatural elements. a vampire gothic horror, a vampire black comedy, a psychological thriller, an action horror, a fantasy thriller, a direct-to-video horror, and a war: summary: a collection of war-inspired films from various genres, including action thrillers, historical dramas, biographical dramas, satirical comedies, and dramatic portrayals of real-life events.\"],\n",
       "  'new': [\"action: summary: action-packed movies from the 90s with a mix of cyberpunk, post-apocalyptic, and martial arts themes. these films feature intense action sequences and are directed by renowned filmmakers. drama: summary: a collection of drama films ranging from disaster survival, epic western, historical biographical, romantic, and psychological thriller. these films explore themes of love, loss, personal struggles, and the human condition. romance: summary: a collection of romantic movies from various genres including drama, comedy, musical, and fantasy. these films explore themes of love and relationships, featuring a mix of well-known actors and diverse storylines. scifi: summary: a collection of sci-fi films ranging from space operas to post-apocalyptic adventures, with elements of and dystopia. the movies explore themes of technology, survival, and thrilling action, featuring memorable characters and imaginative settings. thriller: summary: a collection of thrilling movies with elements of crime, suspense, and science fiction. the films feature a variety of genres including erotic thriller, cyberpunk, and independent drama. the cast includes notable actors such as ray liotta, linda fiorent crime: summary: a collection of crime films from the mid-90s, including gangster comedies, epic crime dramas, cyberpunk thrillers, and action-packed sci-fi flicks. comedy: summary: a collection of comedy films spanning different themes and genres, including children's comedy, adventure comedy fantasy, prank calls, historical comedy-drama, action comedy, romantic comedy, and farce black comedy. children: summary: a collection of coming-of-age, fantasy, adventure, comedy, and family films that will entertain children and provide a fun and enjoyable experience. adventure: summary: adventure movies from the 1990s with a mix of drama, fantasy, and superhero themes. animation: summary: animated films that belong to the animation genre, providing entertainment with adventure, music, and historical themes. fantasy: summary: a collection of fantasy films ranging from family adventures to magical realism, including stories about mythical creatures, mystical worlds, and extraordinary quests. documentary: summary: a collection of documentary films exploring various subjects, including basketball dreams, mockumentary, hip-hop music, hollywood's infamous madam, fashion models, and notable individuals like nico and jean seberg. the films offer a glimpse into different worlds mystery: summary: a collection of mysterious and suspenseful films that explore crime, psychological thrillers, and science fiction. these movies delve into the world of detectives, investigations, and the after-effects of unexpected events. horror: summary: a collection of horror films that explore vampires, psychological thrillers, and supernatural elements. a vampire gothic horror, a vampire black comedy, a psychological thriller, an action horror, a fantasy thriller, a direct-to-video horror, and a war: summary: a collection of war-inspired films from various genres, including action thrillers, historical dramas, biographical dramas, satirical comedies, and dramatic portrayals of real-life events.\"],\n",
       "  'movie': 1074,\n",
       "  'steps': 4,\n",
       "  'title': 'Man of No Importance, A (1994)',\n",
       "  'genres': ['Drama'],\n",
       "  'user_id': 0,\n",
       "  'scores': [inf,\n",
       "   tensor(5.1840, device='cuda:0'),\n",
       "   tensor(4.8086, device='cuda:0'),\n",
       "   tensor(4.8086, device='cuda:0'),\n",
       "   tensor(4.8086, device='cuda:0'),\n",
       "   tensor(4.8086, device='cuda:0')],\n",
       "  'break': False},\n",
       " 1: {'old': [\"action: summary: action-packed films with thrilling plots and intense characters. from sci-fi to crime, these movies deliver excitement and adrenaline. thriller: summary: a collection of thrilling films spanning various genres, including medical disasters, westerns, crime dramas, and spy thrillers, featuring intense storylines and memorable performances. adventure: summary: adventure awaits as a kid is transported to a fantastical world, toys come to life, and a spy battles against enemies in thrilling missions. children: summary: a collection of children's adventure movies with a touch of fantasy and comedy. comedy: summary: a collection of comedic films featuring various themes, including prank calls, blended families, romantic entanglements, and the comedic dynamics of unusual situations. romance: summary: a collection of romantic comedy and drama films set in various time periods and featuring characters navigating love, relationships, and unexpected twists. crime: summary: dark and intense crime films exploring the human psyche, featuring memorable characters and gripping narratives. directed by renowned filmmakers, these movies delve into themes of violence, corruption, and the consequences of one's actions. drama: summary: a collection of drama films, each with its own unique story and setting, exploring themes of historical events, personal relationships, and societal issues.\"],\n",
       "  'new': [\"action: summary: action-packed films with thrilling plots and intense characters. from sci-fi to crime, these movies deliver excitement and adrenaline. thriller: summary: a collection of thrilling films spanning various genres, including medical disasters, westerns, crime dramas, and spy thrillers, featuring intense storylines and memorable performances. adventure: summary: adventure awaits as a kid is transported to a fantastical world, toys come to life, and a spy battles against enemies in thrilling missions. children: summary: a collection of children's adventure movies with a touch of fantasy and comedy. comedy: summary: a collection of comedic films featuring various themes, including prank calls, blended families, romantic entanglements, and the comedic dynamics of unusual situations. romance: summary: a collection of romantic comedy and drama films set in various time periods and featuring characters navigating love, relationships, and unexpected twists. crime: summary: dark and intense crime films exploring the human psyche, featuring memorable characters and gripping narratives. directed by renowned filmmakers, these movies delve into themes of violence, corruption, and the consequences of one's actions. drama: summary: a collection of drama films, each with its own unique story and setting, exploring themes of events, personal relationships, and societal issues.\"],\n",
       "  'movie': 789,\n",
       "  'steps': 4,\n",
       "  'title': 'Tommy Boy (1995)',\n",
       "  'genres': ['Comedy'],\n",
       "  'user_id': 1,\n",
       "  'scores': [inf,\n",
       "   tensor(10.7474, device='cuda:0'),\n",
       "   tensor(10.7474, device='cuda:0'),\n",
       "   tensor(10.7474, device='cuda:0'),\n",
       "   tensor(10.5586, device='cuda:0'),\n",
       "   tensor(10.5586, device='cuda:0')],\n",
       "  'break': False},\n",
       " 2: {'old': ['drama: summary: a collection of drama movies from the 1990s that explores various themes such as lgbt, satire, romance, and historical events. these films feature a mix of comedy, thriller, and historical drama, capturing the complexities of human relationships and romance: summary: this collection includes historical romantic dramas, comedy fantasies, and romantic comedies, featuring various settings and storylines. comedy: summary: a collection of comedy films from the 1990s, featuring a mix of romantic comedies, satires, and coming-of-age stories. these movies provide light-hearted entertainment and comedic moments, ranging from historical settings to contemporary scenarios. crime: summary: a collection of intense crime dramas from the 1990s, exploring themes of violence, vengeance, and corrupt justice. these films feature complex characters and compelling storytelling, captivating audiences with their dark and gritty narratives. action: summary: action-packed films featuring intense crime, vigilante justice, and futuristic technology. starring acclaimed actors, these movies delve into dark themes, with elements of horror and a touch of western. prepare for adrenaline-pumping scenes and thrilling storytelling. thriller: summary: a collection of intense thriller movies feature elements of crime, revenge, and danger. the films explore themes of human nature, justice, and obsession, with notable performances from a talented cast.'],\n",
       "  'new': ['drama: summary: a collection of drama movies from the 1990s that explores various themes such as satire, romance, and historical events. these films feature a mix of comedy, thriller, and historical drama, capturing the complexities of human relationships and romance: summary: this collection includes historical romantic dramas, comedy fantasies, and romantic comedies, featuring various settings and storylines. comedy: summary: a collection of comedy films from the 1990s, featuring a mix of romantic comedies, satires, and coming-of-age stories. these movies provide light-hearted entertainment and comedic moments, ranging from historical settings to contemporary scenarios. crime: summary: a collection of intense crime dramas from the 1990s, exploring themes of violence, vengeance, and corrupt justice. these films feature complex characters and compelling storytelling, captivating audiences with their dark and gritty narratives. action: summary: action-packed films featuring intense crime, vigilante justice, and futuristic technology. starring acclaimed actors, these movies delve into dark themes, with elements of horror and a touch of western. prepare for adrenaline-pumping scenes and thrilling storytelling. thriller: summary: a collection of intense thriller movies feature elements of crime, revenge, and danger. the films explore themes of human nature, justice, and obsession, with notable performances from a talented cast.'],\n",
       "  'movie': 1595,\n",
       "  'steps': 4,\n",
       "  'title': 'Nemesis 2: Nebula (1995)',\n",
       "  'genres': ['Action', 'Sci-Fi', 'Thriller'],\n",
       "  'user_id': 2,\n",
       "  'scores': [inf,\n",
       "   tensor(8.1938, device='cuda:0'),\n",
       "   tensor(8.1938, device='cuda:0'),\n",
       "   tensor(8.1938, device='cuda:0'),\n",
       "   tensor(8.1938, device='cuda:0'),\n",
       "   tensor(8.1938, device='cuda:0')],\n",
       "  'break': False},\n",
       " 3: {'old': ['comedy: summary: this list of comedy movies includes adventure, drama, science fiction, and romance. set in various locations, these films portray the trials, tribulations, and humorous situations of diverse characters in different settings. romance: summary: a collection of lighthearted romantic comedies and dramas set in various locations and time periods, showcasing diverse relationships and the challenges they face. drama: summary: a collection of drama films from the 1990s, exploring various themes such as historical mysteries, trials and tribulations of life in poverty-stricken neighborhoods, lgbt-related stories, romantic comedies, biographical tales, and epic journeys. action: summary: action movies with a dark and gritty tone, featuring intense crime stories and strong performances from the cast.'],\n",
       "  'new': ['comedy: summary: this list of comedy movies includes adventure, drama, science fiction, and romance. set in various locations, these films portray the trials, tribulations, and humorous situations of diverse characters in different settings. romance: summary: a collection of lighthearted romantic comedies and dramas set in various locations and time periods, showcasing diverse relationships and the challenges they face. drama: summary: a collection of films from the 1990s, exploring various themes such as historical mysteries, trials and tribulations of life in poverty-stricken neighborhoods, lgbt-related stories, romantic comedies, biographical tales, and epic journeys. action: summary: action movies with a dark and gritty tone, featuring intense crime stories and strong performances from the cast.'],\n",
       "  'movie': 785,\n",
       "  'steps': 4,\n",
       "  'title': 'Perez Family, The (1995)',\n",
       "  'genres': ['Comedy', 'Romance'],\n",
       "  'user_id': 3,\n",
       "  'scores': [inf,\n",
       "   tensor(6.9585, device='cuda:0'),\n",
       "   tensor(6.9585, device='cuda:0'),\n",
       "   tensor(6.9585, device='cuda:0'),\n",
       "   tensor(6.9585, device='cuda:0'),\n",
       "   tensor(6.9585, device='cuda:0')],\n",
       "  'break': False},\n",
       " 4: {'old': ['comedy: summary: comedic films from the 90s with a variety of themes including crime, action, western, and dark comedy. drama: summary: a collection of dramatic films from the 1990s featuring thrilling legal cases, crime stories, mysterious plots, and sports-related dramas. actors such as tom cruise, samuel l. jackson, mia farrow, woody harrelson, and romance: summary: a collection of romantic comedy, drama, and mystery thriller films from the 1990s. these movies explore themes of love, relationships, and identity, with a mix of humor, suspense, and historical settings. adventure: summary: adventure films from the 1990s featuring thrilling action, comedy, and drama. these films explore post-apocalyptic worlds, western themes, fantasy settings, and outdoor adventures. the movies involve spies, surfers, cowboys, and animated children: summary: a collection of family-friendly movies, including animated musicals and adventurous tales, that capture the imagination and entertain audiences of all ages. action: summary: action-packed films from the 1990s with elements of crime, comedy, and science fiction. directed by various filmmakers, these movies feature thrilling stories, intense action sequences, and talented actors like sandra bullock, will smith, and eddie fantasy: summary: a collection of fantasy films that transport viewers to imaginative worlds and thrilling adventures. from action-adventure to superhero comedy, these movies offer a mix of fantastical elements, sci-fi themes, and entertaining storytelling. documentary: summary: a collection of documentary films that explore the lives and careers of influential individuals, including a german film director, stand-up comedian, animators, and civil rights activist. mystery: summary: a collection of mystery films that delve into the dark side of crime, featuring intriguing plots, memorable characters, and unexpected twists that keep audiences guessing until the very end. thriller: summary: a thrilling collection of action-packed films, including sci-fi, buddy cop, legal thrillers, and horror mysteries, guaranteeing non-stop excitement and suspense. crime: summary: a collection of crime films from the mid-1990s, featuring intriguing storylines and a blend of action, drama, and comedy. the movies explore themes of justice, betrayal, and the criminal underworld, providing a captivating and entertaining experience horror: summary: psychological horror films exploring supernatural elements, psychological fear, and the breakdown of reality in intense and thrilling narratives. western: summary: a collection of western films that combine elements of comedy, drama, and action as they explore the lives of legendary lawmen and individuals on thrilling adventures in the wild west. scifi: summary: a collection of sci-fi films from the 1990s featuring a range of themes including cyberpunk, post-apocalyptic worlds, and science fantasy. the films explore topics such as memory manipulation, futuristic law enforcement, and the aftermath of environmental'],\n",
       "  'new': ['comedy: summary: comedic films from the 90s with a variety of themes including crime, action, western, and dark comedy. drama: summary: a collection of dramatic films from the 1990s featuring thrilling legal cases, crime stories, mysterious plots, and sports-related dramas. actors such as tom cruise, samuel l. jackson, mia farrow, woody harrelson, and romance: summary: a collection of romantic comedy, drama, and mystery thriller films from the 1990s. these movies explore themes of love, relationships, and identity, with a mix of humor, suspense, and historical settings. adventure: summary: adventure films from the 1990s featuring thrilling action, comedy, and drama. these films explore post-apocalyptic worlds, western themes, fantasy settings, and outdoor adventures. the movies involve spies, surfers, cowboys, and animated children: summary: a collection of family-friendly movies, including animated musicals and adventurous tales, that capture the imagination and entertain audiences of all ages. action: summary: action-packed films from the 1990s with elements of crime, comedy, and science fiction. directed by various filmmakers, these movies feature thrilling stories, intense action sequences, and talented actors like sandra bullock, will smith, and eddie fantasy: summary: a collection of fantasy films that transport viewers to imaginative worlds and thrilling adventures. from action-adventure to superhero comedy, these movies offer a mix of fantastical elements, sci-fi themes, and entertaining storytelling. documentary: summary: a collection of documentary films that explore the lives and careers of influential individuals, including a german film director, stand-up comedian, animators, and civil rights activist. mystery: summary: a collection of mystery films that delve into the dark side of crime, featuring intriguing plots, memorable characters, and unexpected twists that keep audiences guessing until the very end. thriller: summary: a thrilling collection of action-packed films, including sci-fi, buddy cop, legal thrillers, and horror mysteries, guaranteeing non-stop excitement and suspense. crime: summary: a collection of crime films from the mid-1990s, featuring intriguing storylines and a blend of action, drama, and comedy. the movies explore themes of justice, betrayal, and the criminal underworld, providing a captivating and entertaining experience horror: summary: psychological horror films exploring supernatural elements, psychological fear, and the breakdown of reality in intense and thrilling narratives. western: summary: a collection of western films that combine elements of drama, and action as they explore the lives of legendary lawmen and individuals on thrilling adventures in the wild west. scifi: summary: a collection of sci-fi films from the 1990s featuring a range of themes including cyberpunk, post-apocalyptic worlds, and science fantasy. the films explore topics such as memory manipulation, futuristic law enforcement, and the aftermath of environmental'],\n",
       "  'movie': 30,\n",
       "  'steps': 4,\n",
       "  'title': 'Crimson Tide (1995)',\n",
       "  'genres': ['Drama', 'Thriller', 'War'],\n",
       "  'user_id': 4,\n",
       "  'scores': [inf,\n",
       "   tensor(5.3745, device='cuda:0'),\n",
       "   tensor(5.3745, device='cuda:0'),\n",
       "   tensor(5.3745, device='cuda:0'),\n",
       "   tensor(5.2491, device='cuda:0'),\n",
       "   tensor(5.2491, device='cuda:0')],\n",
       "  'break': False},\n",
       " 5: {'old': [\"drama: summary: a collection of drama films from different eras and styles, exploring themes of love, survival, intellectualism, and self-discovery. directed by renowned filmmakers, these movies feature notable actors in compelling stories that touch the emotions of the audience. action: summary: this collection of action films includes thrilling adventures, post-apocalyptic worlds, superheroes, crime, comedy, and martial arts. get ready for intense action, heroic battles, and a mix of parody, fantasy, and cybercrime. scifi: summary: a collection of sci-fi films that range from dystopian action to cloning experiments to time travel. these movies explore themes of survival, technological advancements, and strange encounters. thriller: summary: a collection of intense and suspenseful thriller films from the 1990s. these movies feature elements like neo-noir, action, legal battles, and psychological twists, with notable actors like alec baldwin, nicole kidman, sandra bullock romance: summary: a collection of romantic films with various themes such as comedy-drama, period drama, and arthurian legend. each film explores different aspects of love and relationships, offering a diverse range of romantic stories. adventure: summary: adventure movies that transport viewers to thrilling and dangerous worlds, from jurassic park's dinosaur-filled theme park disaster to the survival journey in far from home: the adventures of yellow dog. action-packed and full of excitement, these films offer a mix of war: summary: war films depict various conflicts, including civil wars and historical events, with themes of heroism, sacrifice, and the consequences of war. these movies often explore the human condition, morality, and the impact on individuals and society. children: summary: a collection of family-friendly adventure and fantasy films, featuring beloved animated characters, animal companions, and young heroes on exciting journeys. comedy: summary: a collection of comedy films from the 1990s, featuring a variety of comedic styles and storylines. these movies include elements of action, fantasy, romance, and road trips, offering laughs and entertainment along the way. fantasy: summary: a collection of fantasy films ranging from adventure comedies to supernatural black comedies and period drama fantasies, featuring elements such as a kid transported to king arthur's court, a shadowy superhero, the round table, a dark comedy, and a crime: summary: a collection of crime films spanning various subgenres such as action thriller, legal thriller, psychological thriller, and black comedy. these movies explore themes of assassins, hacking, legal guilt, teen drama, vigilante justice, and psychological cat-and mystery: summary: a collection of mysterious and thrilling films that delve into crime, superheroes, body horror, black comedy, and psychological suspense. these movies keep viewers guessing with their intricate plots and captivating storytelling. horror: summary: a collection of horror films that range from a black comedy crime to a neo-noir supernatural horror, featuring gothic comedy and action horror.\"],\n",
       "  'new': [\"drama: summary: a collection of drama films from different eras and styles, exploring themes of love, survival, intellectualism, and self-discovery. directed by renowned filmmakers, these movies feature notable actors in compelling stories that touch the emotions of the audience. action: summary: this collection of action films includes thrilling adventures, post-apocalyptic worlds, superheroes, crime, comedy, and martial arts. get ready for intense action, heroic battles, and a mix of parody, fantasy, and cybercrime. scifi: summary: a collection of sci-fi films that range from dystopian action to experiments to time travel. these movies explore themes of survival, technological advancements, and strange encounters. thriller: summary: a collection of intense and suspenseful thriller films from the 1990s. these movies feature elements like neo-noir, action, legal battles, and psychological twists, with notable actors like alec baldwin, nicole kidman, sandra bullock romance: summary: a collection of romantic films with various themes such as comedy-drama, period drama, and arthurian legend. each film explores different aspects of love and relationships, offering a diverse range of romantic stories. adventure: summary: adventure movies that transport viewers to thrilling and dangerous worlds, from jurassic park's dinosaur-filled theme park disaster to the survival journey in far from home: the adventures of yellow dog. action-packed and full of excitement, these films offer a mix of war: summary: war films depict various conflicts, including civil wars and historical events, with themes of heroism, sacrifice, and the consequences of war. these movies often explore the human condition, morality, and the impact on individuals and society. children: summary: a collection of family-friendly adventure and fantasy films, featuring beloved animated characters, animal companions, and young heroes on exciting journeys. comedy: summary: a collection of comedy films from the 1990s, featuring a variety of comedic styles and storylines. these movies include elements of action, fantasy, romance, and road trips, offering laughs and entertainment along the way. fantasy: summary: a collection of fantasy films ranging from adventure comedies to supernatural black comedies and period drama fantasies, featuring elements such as a kid transported to king arthur's court, a shadowy superhero, the round table, a dark comedy, and a crime: summary: a collection of crime films spanning various subgenres such as action thriller, legal thriller, psychological thriller, and black comedy. these movies explore themes of assassins, hacking, legal guilt, teen drama, vigilante justice, and psychological cat-and mystery: summary: a collection of mysterious and thrilling films that delve into crime, superheroes, body horror, black comedy, and psychological suspense. these movies keep viewers guessing with their intricate plots and captivating storytelling. horror: summary: a collection of horror films that range from a black comedy crime to a neo-noir supernatural horror, featuring gothic comedy and action horror.\"],\n",
       "  'movie': 770,\n",
       "  'steps': 4,\n",
       "  'title': 'Johnny Mnemonic (1995)',\n",
       "  'genres': ['Action', 'Sci-Fi', 'Thriller'],\n",
       "  'user_id': 5,\n",
       "  'scores': [inf,\n",
       "   tensor(5.0693, device='cuda:0'),\n",
       "   tensor(5.0151, device='cuda:0'),\n",
       "   tensor(5.0151, device='cuda:0'),\n",
       "   tensor(4.8019, device='cuda:0'),\n",
       "   tensor(4.8019, device='cuda:0')],\n",
       "  'break': False},\n",
       " 6: {'old': ['drama: summary: a collection of drama films depicting various themes, including coming-of-age stories, crime, christmas fantasy, and lgbt-related content. these movies explore complex human emotions and relationships. thriller: summary: a collection of thrilling movies ranging from supernatural romance to detective action comedies, with elements of drama and neo-noir. these films explore themes of love, betrayal, and suspense, featuring charismatic characters and intense plots. crime: summary: high-stakes crime films featuring law enforcement and legal proceedings, including action, thriller, and neo-noir genres, with elements of comedy and drama. romance: summary: a collection of romantic comedies and dramas featuring characters exploring relationships and personal growth. the films include elements of adventure, comedy, and cultural exploration, providing a diverse range of romantic experiences. war: summary: a collection of powerful war films with epic dramas, historical events, and intense action. these movies explore the themes of courage, sacrifice, and the complexities of human nature during times of conflict. western: summary: a collection of western films that explore themes of legend, comedy, lawmen, and the wild west. action: summary: action movies from the 90s with a mix of comedy and drama, featuring spies, cops, and adventure. scifi: summary: a collection of sci-fi films featuring various elements such as cloning, post-apocalyptic settings, time travel, and the creation of theme parks with dinosaurs. mystery: summary: a collection of mystery movies ranging from cyberpunk thrillers to black comedy mysteries, featuring a mix of neo-noir, legal thrillers, and fantasy thrillers. these films explore murder cases, investigations, and psychological twists in captivating ways. documentary: summary: a collection of documentary films exploring various subjects, from political campaigns and historical events to music, hollywood scandals, and influential figures like malcolm x and nico. comedy: summary: a collection of comedy films spanning various themes and genres, including parodies, family humor, and fantasy adventures. fantasy: summary: fantasy movies that transport viewers to imaginative worlds filled with magic, romance, and adventure. these films range from animated classics to live-action dramas, captivating audiences with their enchanting stories and memorable characters. adventure: summary: a collection of adventure movies featuring epic quests, wild west adventures, spy action comedies, and animated fantasy adventures. animation: summary: this is a collection of animated films that encompass romantic, musical, fantasy, comedy, and adventure genres, produced by walt disney productions and directed by various filmmakers. the movies include stories like talking animals going on adventures, a boy and his magical children: summary: a collection of enchanting and heartwarming stories that capture the joy and imagination of childhood. experience magical adventures and endearing friendships in these animated and live-action films. horror: summary: a collection of horror films from the 1990s, featuring themes of vampires, supernatural elements, psychological disorders, and eerie gothic settings. the movies explore fear, addiction, and the line between reality and fantasy. musical: summary: a collection of whimsical and enchanting musicals, featuring fantastical elements and beloved characters, based on popular books and fairy tales.'],\n",
       "  'new': ['drama: summary: a collection of drama films depicting various themes, including coming-of-age stories, crime, christmas fantasy, and lgbt-related content. these movies explore complex human emotions and relationships. thriller: summary: a collection of thrilling movies ranging from supernatural romance to detective action comedies, with elements of drama and neo-noir. these films explore themes of love, betrayal, and suspense, featuring charismatic characters and intense plots. crime: summary: high-stakes crime films featuring law enforcement and legal proceedings, including action, thriller, and neo-noir genres, with elements of comedy and drama. romance: summary: a collection of romantic comedies and dramas featuring characters exploring relationships and personal growth. the films include elements of adventure, comedy, and cultural exploration, providing a diverse range of romantic experiences. war: summary: a collection of powerful war films with epic dramas, historical events, and intense action. these movies explore the themes of courage, sacrifice, and the complexities of human nature during times of conflict. western: summary: a collection of western films that explore themes of legend, comedy, lawmen, and the wild west. action: summary: action movies from the 90s with a mix of comedy and drama, featuring spies, cops, and adventure. scifi: summary: a collection of sci-fi films featuring various elements such as cloning, post-apocalyptic settings, time travel, and the creation of theme parks with dinosaurs. mystery: summary: a collection of movies ranging from cyberpunk thrillers to black comedy mysteries, featuring a mix of neo-noir, legal thrillers, and fantasy thrillers. these films explore murder cases, investigations, and psychological twists in captivating ways. documentary: summary: a collection of documentary films exploring various subjects, from political campaigns and historical events to music, hollywood scandals, and influential figures like malcolm x and nico. comedy: summary: a collection of comedy films spanning various themes and genres, including parodies, family humor, and fantasy adventures. fantasy: summary: fantasy movies that transport viewers to imaginative worlds filled with magic, romance, and adventure. these films range from animated classics to live-action dramas, captivating audiences with their enchanting stories and memorable characters. adventure: summary: a collection of adventure movies featuring epic quests, wild west adventures, spy action comedies, and animated fantasy adventures. animation: summary: this is a collection of animated films that encompass romantic, musical, fantasy, comedy, and adventure genres, produced by walt disney productions and directed by various filmmakers. the movies include stories like talking animals going on adventures, a boy and his magical children: summary: a collection of enchanting and heartwarming stories that capture the joy and imagination of childhood. experience magical adventures and endearing friendships in these animated and live-action films. horror: summary: a collection of horror films from the 1990s, featuring themes of vampires, supernatural elements, psychological disorders, and eerie gothic settings. the movies explore fear, addiction, and the line between reality and fantasy. musical: summary: a collection of whimsical and enchanting musicals, featuring fantastical elements and beloved characters, based on popular books and fairy tales.'],\n",
       "  'movie': 368,\n",
       "  'steps': 4,\n",
       "  'title': 'Black Sheep (1996)',\n",
       "  'genres': ['Comedy'],\n",
       "  'user_id': 6,\n",
       "  'scores': [inf,\n",
       "   tensor(5.4645, device='cuda:0'),\n",
       "   tensor(5.4645, device='cuda:0'),\n",
       "   tensor(5.3945, device='cuda:0'),\n",
       "   tensor(5.3945, device='cuda:0'),\n",
       "   tensor(5.3945, device='cuda:0')],\n",
       "  'break': False},\n",
       " 7: {'old': ['children: summary: adventure-filled fantasy movies with comedy and superhero themes, perfect for children of all ages. comedy: summary: a collection of comedy films that range from independent black comedy to romantic comedy-drama. these films showcase a variety of comedic themes and feature notable actors such as steve buscemi, catherine keener, dan aykroyd, and lara romance: summary: a collection of romantic films that showcase comedic elements and drama, featuring a variety of unique relationships and situations. drama: summary: a collection of drama films encompassing various themes, including legal thriller, feminism, crime, and mystery. these movies explore complex human relationships, personal struggles, and societal issues. thriller: summary: a collection of intense thriller films, ranging from crime dramas to action-packed mysteries, with notable actors and directors. the movies explore themes such as political conspiracies, cyberpunk technology, psychological drama, and cat-and-mouse games. unpredict action: summary: a collection of action-packed films, ranging from epic space opera to political thrillers. these movies feature elements of science fiction, cyberpunk, and war, with notable actors like denzel washington and russell crowe. scifi: summary: a collection of sci-fi films with epic space opera themes, cyberpunk elements, and intense action sequences. horror: summary: a collection of gripping horror films with elements of psychological thrill, suspense, and supernatural horror.'],\n",
       "  'new': ['children: summary: adventure-filled fantasy movies with comedy and superhero themes, perfect for children of all ages. comedy: summary: a collection of comedy films that range from independent black comedy to romantic comedy-drama. these films showcase a variety of comedic themes and feature notable actors such as steve buscemi, catherine keener, dan aykroyd, and lara romance: summary: a collection of romantic films that showcase comedic elements and drama, featuring a variety of unique relationships and situations. drama: summary: a collection of drama films encompassing various themes, including legal thriller, feminism, crime, and mystery. these movies explore complex human relationships, personal struggles, and societal issues. thriller: summary: a collection of intense thriller films, ranging from crime dramas to action-packed mysteries, with notable actors and directors. the movies explore themes such as political conspiracies, cyberpunk technology, psychological drama, and cat-and-mouse games. unpredict action: summary: a collection of action-packed films, ranging from epic space opera to political thrillers. these movies feature elements of science fiction, cyberpunk, and war, with notable actors like washington and russell crowe. scifi: summary: a collection of sci-fi films with epic space opera themes, cyberpunk elements, and intense action sequences. horror: summary: a collection of gripping horror films with elements of psychological thrill, suspense, and supernatural horror.'],\n",
       "  'movie': 695,\n",
       "  'steps': 4,\n",
       "  'title': 'City Hall (1996)',\n",
       "  'genres': ['Drama', 'Thriller'],\n",
       "  'user_id': 7,\n",
       "  'scores': [inf,\n",
       "   tensor(5.1587, device='cuda:0'),\n",
       "   tensor(5.1587, device='cuda:0'),\n",
       "   tensor(5.1587, device='cuda:0'),\n",
       "   tensor(5.1587, device='cuda:0'),\n",
       "   tensor(5.1587, device='cuda:0')],\n",
       "  'break': False},\n",
       " 8: {'old': ['drama: summary: a collection of diverse drama films spanning different time periods and settings. these movies explore themes such as war, historical events, personal struggles, and cultural differences. prepare for engaging storytelling and compelling performances. thriller: summary: a collection of gripping neo-noir crime thrillers with captivating storytelling and compelling characters. comedy: summary: a collection of lighthearted comedy-drama films with romantic elements, centered around various characters and their humorous situations.'],\n",
       "  'new': 'drama: summary: a collection of diverse drama films spanning different time periods and settings. these movies explore themes such as war, historical events, personal struggles, and cultural differences. prepare for engaging storytelling and compelling performances. thriller: summary: a collection of gripping neo-noir crime thrillers with captivating storytelling and test characters. comedy: summary: a collection of lighthearted comedy-drama films with romantic elements, centered around various characters and their humorous situations.',\n",
       "  'movie': 559,\n",
       "  'steps': 0,\n",
       "  'title': \"Kid in King Arthur's Court, A (1995)\",\n",
       "  'genres': ['Adventure',\n",
       "   'Children',\n",
       "   'Comedy',\n",
       "   'Fantasy',\n",
       "   'Romance',\n",
       "   'Sci-Fi'],\n",
       "  'user_id': 8,\n",
       "  'scores': [inf, tensor(0., device='cuda:0')],\n",
       "  'break': True},\n",
       " 9: {'old': ['drama: summary: this collection of drama movies explores various themes, including crime, romance, and personal journeys. from british films to american dramas, these stories delve into the human condition, addressing issues of love, loss, and societal challenges. romance: summary: a collection of romantic films spanning different subgenres, including romantic comedies, dramas, and musicals. these movies explore themes of love, relationships, and personal growth. action: summary: action-packed films filled with thrilling crime, martial arts, cyberpunk, and sci-fi elements. from the adrenaline-fueled world of hackers to intense battles and jaw-dropping stunts, these movies will keep you on the edge of your scifi: summary: a collection of science fiction films that explore themes such as time travel, cloning, and genetic experimentation. the movies range from thrilling adventures in dinosaur parks to cyberpunk thrillers set in a dystopian future. thriller: summary: a collection of 1990s thriller films featuring crime, suspense, psychological twists, and action. the films star a variety of notable actors and cover genres such as cybercrime, neo-noir, psychological drama, and action horror. comedy: summary: a collection of comedic films featuring romance, drama, coming-of-age, and superhero elements. crime: summary: a collection of crime films spanning the early to mid-1990s, featuring comedy, cyberpunk, legal thriller, neo-noir, mystery, and superhero genres. the movies delve into themes of hacking, legal battles, heists, war: summary: war movies range from powerful historical dramas depicting the atrocities of war to satirical comedies highlighting international relations, and intense dramas set against the backdrop of political unrest. these films explore themes of human resilience, activism, and the untold stories of mystery: summary: a collection of mystery movies from the mid-90s, featuring elements of comedy, science fiction, psychological thrills, and neo-noir. adventure: summary: adventure movies from the 90s featuring thrilling quests, exotic locations, and diverse characters. these films range from action-packed science fiction to heartfelt family adventures. children: summary: a collection of beloved children\\'s movies featuring animated adventures, musical numbers, and heartwarming stories. fantasy: summary: a collection of fantasy films that transport viewers into magical worlds filled with adventure and imagination. these movies feature young protagonists embarking on extraordinary quests, often blending animation with live-action elements. from tales of knights and legendary tables to enchanted libraries and toys horror: summary: a collection of horror films ranging from gothic comedies to supernatural slashers, exploring various themes like science fiction, psychological thrillers, and slasher genres. animation: summary: these animated films offer fantasy adventures with memorable characters and music, capturing the imaginations of audiences with their vibrant animation and heartwarming stories. documentary: summary: documentaries that explore important historical figures and events, including the assassination of malcolm x and the life of anne frank. also included are documentaries about controversial figures like heidi fleiss and mockumentaries like \"man of the year\".'],\n",
       "  'new': ['drama: summary: this collection of drama movies explores various themes, including crime, romance, and personal journeys. from british films to american dramas, these stories delve into the human condition, addressing issues of love, loss, and societal challenges. romance: summary: a collection of romantic films spanning different subgenres, including romantic comedies, dramas, and musicals. these movies explore themes of love, relationships, and personal growth. action: summary: action-packed films filled with thrilling crime, martial arts, cyberpunk, and sci-fi elements. from the adrenaline-fueled world of hackers to intense battles and jaw-dropping stunts, these movies will keep you on the edge of your scifi: summary: a collection of science fiction films that explore themes such as time travel, cloning, and genetic experimentation. the movies range from thrilling adventures in dinosaur parks to cyberpunk thrillers set in a dystopian future. thriller: summary: a collection of thriller films featuring crime, suspense, psychological twists, and action. the films star a variety of notable actors and cover genres such as cybercrime, neo-noir, psychological drama, and action horror. comedy: summary: a collection of comedic films featuring romance, drama, coming-of-age, and superhero elements. crime: summary: a collection of crime films spanning the early to mid-1990s, featuring comedy, cyberpunk, legal thriller, neo-noir, mystery, and superhero genres. the movies delve into themes of hacking, legal battles, heists, war: summary: war movies range from powerful historical dramas depicting the atrocities of war to satirical comedies highlighting international relations, and intense dramas set against the backdrop of political unrest. these films explore themes of human resilience, activism, and the untold stories of mystery: summary: a collection of mystery movies from the mid-90s, featuring elements of comedy, science fiction, psychological thrills, and neo-noir. adventure: summary: adventure movies from the 90s featuring thrilling quests, exotic locations, and diverse characters. these films range from action-packed science fiction to heartfelt family adventures. children: summary: a collection of beloved children\\'s movies featuring animated adventures, musical numbers, and heartwarming stories. fantasy: summary: a collection of fantasy films that transport viewers into magical worlds filled with adventure and imagination. these movies feature young protagonists embarking on extraordinary quests, often blending animation with live-action elements. from tales of knights and legendary tables to enchanted libraries and toys horror: summary: a collection of horror films ranging from gothic comedies to supernatural slashers, exploring various themes like science fiction, psychological thrillers, and slasher genres. animation: summary: these animated films offer fantasy adventures with memorable characters and music, capturing the imaginations of audiences with their vibrant animation and heartwarming stories. documentary: summary: documentaries that explore important historical figures and events, including the assassination of malcolm x and the life of anne frank. also included are documentaries about controversial figures like heidi fleiss and mockumentaries like \"man of the year\".'],\n",
       "  'movie': 1227,\n",
       "  'steps': 4,\n",
       "  'title': 'Under Siege 2: Dark Territory (1995)',\n",
       "  'genres': ['Action'],\n",
       "  'user_id': 9,\n",
       "  'scores': [inf,\n",
       "   tensor(4.0866, device='cuda:0'),\n",
       "   tensor(4.0866, device='cuda:0'),\n",
       "   tensor(4.0866, device='cuda:0'),\n",
       "   tensor(4.0866, device='cuda:0'),\n",
       "   tensor(4.0866, device='cuda:0')],\n",
       "  'break': False}}"
      ]
     },
     "execution_count": 98,
     "metadata": {},
     "output_type": "execute_result"
    }
   ],
   "source": [
    "with open('/home/mila/e/emiliano.penaloza/LLM4REC/climber/result_dict_down.pkl','rb') as f:\n",
    "    data = pickle.load(f)\n",
    "first = data[5]\n",
    "user_id = 5 \n",
    "data"
   ]
  },
  {
   "cell_type": "code",
   "execution_count": 18,
   "metadata": {},
   "outputs": [],
   "source": [
    "import re\n",
    "def make_string_dict(data):\n",
    "    \n",
    "    genre_summary_dict = {}\n",
    "    data = data[0].lower().replace('\\n',' ').replace('-','').replace('summary:','summary')\n",
    "\n",
    "    # Use regular expression to find genre and summary information\n",
    "    matches = re.finditer(r'(\\w+): (.+?)(?=\\w+:|$)', data)\n",
    "\n",
    "    # Iterate through the matches and extract genre and summary information\n",
    "    for match in matches:\n",
    "        genre, summary = match.group(1), match.group(2)\n",
    "        genre_summary_dict[genre] = summary.replace('summary','summary:').strip()\n",
    "\n",
    "    # Convert the dictionary to JSON\n",
    "    \n",
    "    return genre_summary_dict\n",
    "summaries = make_string_dict(first['old'])\n",
    "summaries_new = make_string_dict(first['new'])\n"
   ]
  },
  {
   "cell_type": "code",
   "execution_count": 22,
   "metadata": {},
   "outputs": [
    {
     "name": "stdout",
     "output_type": "stream",
     "text": [
      "rating_pred=array([[ 2.9418287,  1.3047427, -2.2056112, ..., -6.270923 , -7.307493 ,\n",
      "        -7.2975984]], dtype=float32)\n",
      "['0 : Johnny Mnemonic (1995) Action|Sci-Fi|Thriller',\n",
      " \"1 : Mighty Morphin Power Rangers: The Movie (1995) Action|Children's\",\n",
      " '2 : Living in Oblivion (1995) Comedy',\n",
      " '3 : Exit to Eden (1994) Comedy',\n",
      " '4 : Mad Love (1995) Drama|Romance',\n",
      " '5 : Bye Bye, Love (1995) Comedy',\n",
      " '6 : August (1996) Drama',\n",
      " '7 : Yankee Zulu (1994) Comedy|Drama',\n",
      " '8 : Destiny Turns on the Radio (1995) Comedy',\n",
      " '9 : In the Bleak Midwinter (1995) Comedy',\n",
      " '10 : Hate (Haine, La) (1995) Drama',\n",
      " '11 : Before Sunrise (1995) Drama|Romance',\n",
      " '12 : Quiz Show (1994) Drama',\n",
      " '13 : Solo (1996) Action|Sci-Fi|Thriller',\n",
      " '14 : Kids in the Hall: Brain Candy (1996) Comedy',\n",
      " '15 : Bhaji on the Beach (1993) Comedy|Drama',\n",
      " '16 : Black Sheep (1996) Comedy',\n",
      " '17 : Once Upon a Time... When We Were Colored (1995) Drama',\n",
      " '18 : Clean Slate (1994) Comedy',\n",
      " '19 : Calendar Girl (1993) Drama']\n"
     ]
    },
    {
     "data": {
      "text/plain": [
       "tensor([[[5.3849, 4.7300, 4.1718, 4.0173, 3.7522, 3.6169, 3.4238, 3.2670,\n",
       "          3.2548, 3.2110, 3.1619, 3.1258, 3.1133, 3.0163, 2.9157, 2.8986,\n",
       "          2.8662, 2.8463, 2.8085, 2.7866]]], device='cuda:0')"
      ]
     },
     "execution_count": 22,
     "metadata": {},
     "output_type": "execute_result"
    }
   ],
   "source": [
    "preds, scores = get_preds(summaries,user_id)\n",
    "scores[:,preds]\n"
   ]
  },
  {
   "cell_type": "code",
   "execution_count": 23,
   "metadata": {},
   "outputs": [
    {
     "name": "stdout",
     "output_type": "stream",
     "text": [
      "rating_pred=array([[ 2.621348 ,  1.2781109, -1.8051425, ..., -5.7661824, -6.681301 ,\n",
      "        -6.7262344]], dtype=float32)\n",
      "['0 : Johnny Mnemonic (1995) Action|Sci-Fi|Thriller',\n",
      " \"1 : Mighty Morphin Power Rangers: The Movie (1995) Action|Children's\",\n",
      " '2 : Living in Oblivion (1995) Comedy',\n",
      " '3 : Exit to Eden (1994) Comedy',\n",
      " '4 : Mad Love (1995) Drama|Romance',\n",
      " '5 : Bye Bye, Love (1995) Comedy',\n",
      " '6 : Quiz Show (1994) Drama',\n",
      " '7 : Yankee Zulu (1994) Comedy|Drama',\n",
      " '8 : In the Bleak Midwinter (1995) Comedy',\n",
      " '9 : August (1996) Drama',\n",
      " '10 : Before Sunrise (1995) Drama|Romance',\n",
      " '11 : Destiny Turns on the Radio (1995) Comedy',\n",
      " '12 : Bhaji on the Beach (1993) Comedy|Drama',\n",
      " '13 : Once Upon a Time... When We Were Colored (1995) Drama',\n",
      " '14 : Clean Slate (1994) Comedy',\n",
      " '15 : Solo (1996) Action|Sci-Fi|Thriller',\n",
      " '16 : Hate (Haine, La) (1995) Drama',\n",
      " '17 : Strange Days (1995) Action|Crime|Sci-Fi',\n",
      " '18 : Safe (1995) Thriller',\n",
      " '19 : Black Sheep (1996) Comedy']\n"
     ]
    },
    {
     "data": {
      "text/plain": [
       "tensor([[[4.8019, 4.2590, 3.7453, 3.5889, 3.3896, 3.1480, 2.9575, 2.9272,\n",
       "          2.8972, 2.8730, 2.7684, 2.7650, 2.7613, 2.7112, 2.7105, 2.7018,\n",
       "          2.6813, 2.5314, 2.5257, 2.4328]]], device='cuda:0')"
      ]
     },
     "execution_count": 23,
     "metadata": {},
     "output_type": "execute_result"
    }
   ],
   "source": [
    "preds, scores = get_preds(summaries_new,user_id)\n",
    "scores[:,preds]\n"
   ]
  },
  {
   "cell_type": "code",
   "execution_count": null,
   "metadata": {},
   "outputs": [
    {
     "data": {
      "text/plain": [
       "(193, 194)"
      ]
     },
     "execution_count": 120,
     "metadata": {},
     "output_type": "execute_result"
    }
   ],
   "source": [
    "\n",
    "len(first['new'][0].split()),len(first['old'][0].split())"
   ]
  },
  {
   "cell_type": "code",
   "execution_count": null,
   "metadata": {},
   "outputs": [
    {
     "data": {
      "text/plain": [
       "{'old': [\"action: summary: action-packed films with thrilling plots and intense characters. from sci-fi to crime, these movies deliver excitement and adrenaline. thriller: summary: a collection of thrilling films spanning various genres, including medical disasters, westerns, crime dramas, and spy thrillers, featuring intense storylines and memorable performances. adventure: summary: adventure awaits as a kid is transported to a fantastical world, toys come to life, and a spy battles against enemies in thrilling missions. children: summary: a collection of children's adventure movies with a touch of fantasy and comedy. comedy: summary: a collection of comedic films featuring various themes, including prank calls, blended families, romantic entanglements, and the comedic dynamics of unusual situations. romance: summary: a collection of romantic comedy and drama films set in various time periods and featuring characters navigating love, relationships, and unexpected twists. crime: summary: dark and intense crime films exploring the human psyche, featuring memorable characters and gripping narratives. directed by renowned filmmakers, these movies delve into themes of violence, corruption, and the consequences of one's actions. drama: summary: a collection of drama films, each with its own unique story and setting, exploring themes of historical events, personal relationships, and societal issues.\"],\n",
       " 'new': [\"action: summary: action-packed films with thrilling plots and intense characters. from sci-fi to crime, these movies deliver excitement and adrenaline. thriller: summary: a collection of thrilling films spanning various genres, including medical disasters, westerns, crime dramas, and spy thrillers, featuring intense storylines and memorable performances. adventure: summary: adventure awaits as a kid is transported to a fantastical world, toys come to life, and a spy battles against enemies in thrilling missions. children: summary: a collection of children's adventure movies with a touch of fantasy and comedy. comedy: summary: a collection of comedic films featuring various themes, including prank calls, blended families, romantic entanglements, and the comedic dynamics of unusual situations. romance: summary: a collection of comedy and drama films set in various time periods and featuring characters navigating love, relationships, and unexpected twists. crime: summary: dark and intense crime films exploring the human psyche, featuring memorable characters and gripping narratives. directed by renowned filmmakers, these movies delve into themes of violence, corruption, and the consequences of one's actions. drama: summary: a collection of drama films, each with its own unique story and setting, exploring themes of historical events, personal relationships, and societal issues.\"],\n",
       " 'movie': 1072,\n",
       " 'steps': 4,\n",
       " 'title': 'Shallow Grave (1994)',\n",
       " 'genres': ['Thriller']}"
      ]
     },
     "execution_count": 132,
     "metadata": {},
     "output_type": "execute_result"
    }
   ],
   "source": [
    "first"
   ]
  },
  {
   "cell_type": "code",
   "execution_count": 42,
   "metadata": {},
   "outputs": [
    {
     "data": {
      "text/plain": [
       "[]"
      ]
     },
     "execution_count": 42,
     "metadata": {},
     "output_type": "execute_result"
    }
   ],
   "source": [
    "def find_different_word_indices(s1, s2):\n",
    "    # Split the strings into lists of words\n",
    "    words_s1 = s1.split()[88:]\n",
    "    words_s2 = s2.split()[87:]\n",
    "\n",
    "    # Find the minimum length of the two lists\n",
    "    min_len = min(len(words_s1), len(words_s2))\n",
    "\n",
    "    # Initialize a list to store the indices of differences\n",
    "    different_indices = []\n",
    "\n",
    "    # Iterate through each word and compare\n",
    "    i = 0\n",
    "    k=0\n",
    "    while i < len(words_s1):\n",
    "\n",
    "        while  i < len(words_s1) and words_s1[i] != words_s2[k]:\n",
    "            print(f\"{ words_s2[k]=}\")\n",
    "            print(f\"{words_s1[i]=}\")\n",
    "            different_indices.append(i)\n",
    "            i += 1\n",
    "        i+=1\n",
    "        k+=1\n",
    "\n",
    "    return different_indices\n",
    "find_different_word_indices(first['old'][0],first['new'][0])\n",
    "\n"
   ]
  }
 ],
 "metadata": {
  "kernelspec": {
   "display_name": "torch_gpu",
   "language": "python",
   "name": "python3"
  },
  "language_info": {
   "codemirror_mode": {
    "name": "ipython",
    "version": 3
   },
   "file_extension": ".py",
   "mimetype": "text/x-python",
   "name": "python",
   "nbconvert_exporter": "python",
   "pygments_lexer": "ipython3",
   "version": "3.10.11"
  }
 },
 "nbformat": 4,
 "nbformat_minor": 2
}
