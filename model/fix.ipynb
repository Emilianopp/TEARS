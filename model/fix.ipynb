{
 "cells": [
  {
   "cell_type": "code",
   "execution_count": 14,
   "metadata": {},
   "outputs": [],
   "source": [
    "import pandas as pd \n",
    "path = '/home/mila/e/emiliano.penaloza/TEARS/saved_user_summary/goodbooks/results_large_genre_test_gpt-4-1106-preview.csv'\n",
    "path = '/home/mila/e/emiliano.penaloza/TEARS/saved_user_summary/goodbooks/results_large_genre_test_llama3.1-405b.csv'\n",
    "# df = pd.read_csv(path,index_col=0).drop(columns=['Unnamed: 0',\n",
    "#                                                  ])\n",
    "df = pd.read_csv(path,index_col=0)"
   ]
  },
  {
   "cell_type": "code",
   "execution_count": 15,
   "metadata": {},
   "outputs": [
    {
     "data": {
      "text/html": [
       "<div>\n",
       "<style scoped>\n",
       "    .dataframe tbody tr th:only-of-type {\n",
       "        vertical-align: middle;\n",
       "    }\n",
       "\n",
       "    .dataframe tbody tr th {\n",
       "        vertical-align: top;\n",
       "    }\n",
       "\n",
       "    .dataframe thead th {\n",
       "        text-align: right;\n",
       "    }\n",
       "</style>\n",
       "<table border=\"1\" class=\"dataframe\">\n",
       "  <thead>\n",
       "    <tr style=\"text-align: right;\">\n",
       "      <th></th>\n",
       "      <th>keys</th>\n",
       "      <th>move_down_genres</th>\n",
       "      <th>move_up_genres</th>\n",
       "      <th>outputs</th>\n",
       "      <th>deltas_ndcg_down</th>\n",
       "      <th>deltas_ndcg_up</th>\n",
       "    </tr>\n",
       "  </thead>\n",
       "  <tbody>\n",
       "    <tr>\n",
       "      <th>0</th>\n",
       "      <td>8279.0</td>\n",
       "      <td>fantasy</td>\n",
       "      <td>romance</td>\n",
       "      <td>The user enjoys romance and contemporary genre...</td>\n",
       "      <td>0.494520</td>\n",
       "      <td>-0.722918</td>\n",
       "    </tr>\n",
       "    <tr>\n",
       "      <th>1</th>\n",
       "      <td>1335.0</td>\n",
       "      <td>romance</td>\n",
       "      <td>science</td>\n",
       "      <td>The user enjoys reading books that fall under ...</td>\n",
       "      <td>0.241133</td>\n",
       "      <td>0.000000</td>\n",
       "    </tr>\n",
       "    <tr>\n",
       "      <th>2</th>\n",
       "      <td>5641.0</td>\n",
       "      <td>science fiction</td>\n",
       "      <td>romance</td>\n",
       "      <td>The user enjoys romance novels with complex, t...</td>\n",
       "      <td>0.331864</td>\n",
       "      <td>-0.375469</td>\n",
       "    </tr>\n",
       "  </tbody>\n",
       "</table>\n",
       "</div>"
      ],
      "text/plain": [
       "     keys move_down_genres move_up_genres  \\\n",
       "0  8279.0          fantasy        romance   \n",
       "1  1335.0          romance        science   \n",
       "2  5641.0  science fiction        romance   \n",
       "\n",
       "                                             outputs  deltas_ndcg_down  \\\n",
       "0  The user enjoys romance and contemporary genre...          0.494520   \n",
       "1  The user enjoys reading books that fall under ...          0.241133   \n",
       "2  The user enjoys romance novels with complex, t...          0.331864   \n",
       "\n",
       "   deltas_ndcg_up  \n",
       "0       -0.722918  \n",
       "1        0.000000  \n",
       "2       -0.375469  "
      ]
     },
     "execution_count": 15,
     "metadata": {},
     "output_type": "execute_result"
    }
   ],
   "source": [
    "df.head(3)"
   ]
  },
  {
   "cell_type": "code",
   "execution_count": 16,
   "metadata": {},
   "outputs": [],
   "source": [
    "df.rename(columns={\n",
    "    'T5Vae': 'TearsMVAE',\n",
    "    'VariationalT5': 'TearsBase',\n",
    "    'OTRecVAE': 'TearsRecVAE',\n",
    "    'MacridTEARS': 'TearsMacrid',\n",
    "    'gpt_chosen_MacridTEARS': 'gpt_chosen_TearsMacrid',\n",
    "    'gpt_chosen_T5Vae': 'gpt_chosen_TearsMVAE',\n",
    "    'gpt_chosen_VariationalT5': 'gpt_chosen_TearsBase',\n",
    "    'gpt_chosen_OTRecVAE': 'gpt_chosen_TearsRecVAE',\n",
    "    'OTRecVAE_ranks': 'TearsRecVAE_ranks',\n",
    "    'T5Vae_ranks': 'TearsMVAE_ranks',\n",
    "    'VariationalT5_ranks': 'TearsBase_ranks',\n",
    "    'MacridTEARS_ranks': 'TearsMacrid_ranks'\n",
    "}, inplace=True)"
   ]
  },
  {
   "cell_type": "code",
   "execution_count": 52,
   "metadata": {},
   "outputs": [],
   "source": [
    "df.drop(columns = ['Ranking Difference']).to_csv(path)"
   ]
  }
 ],
 "metadata": {
  "kernelspec": {
   "display_name": "llm4rec",
   "language": "python",
   "name": "python3"
  },
  "language_info": {
   "codemirror_mode": {
    "name": "ipython",
    "version": 3
   },
   "file_extension": ".py",
   "mimetype": "text/x-python",
   "name": "python",
   "nbconvert_exporter": "python",
   "pygments_lexer": "ipython3",
   "version": "3.10.11"
  }
 },
 "nbformat": 4,
 "nbformat_minor": 2
}
