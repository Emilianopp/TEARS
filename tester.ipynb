{
 "cells": [
  {
   "cell_type": "code",
   "execution_count": 4,
   "metadata": {},
   "outputs": [],
   "source": [
    "import json\n",
    "from tqdm import tqdm\n",
    "# import openai\n",
    "from helper.dataloader import map_title_to_id, map_id_to_title\n",
    "from data.dataloader import get_dataloader\n",
    "import re\n",
    "from torch.utils.data import DataLoader, Subset\n",
    "import torch\n",
    "import os\n",
    "# from dotenv import load_dotenv\n",
    "        "
   ]
  },
  {
   "cell_type": "code",
   "execution_count": 5,
   "metadata": {},
   "outputs": [],
   "source": [
    "with open('/Users/emilianopenaloza/Git/LLM4Rec/saved_user_summary/ml-100k/user_summary_gpt3.5_in1_title0_full.json', \"r\") as f:\n",
    "            embeddings = json.load(f)"
   ]
  },
  {
   "cell_type": "code",
   "execution_count": 7,
   "metadata": {},
   "outputs": [
    {
     "data": {
      "text/plain": [
       "943"
      ]
     },
     "execution_count": 7,
     "metadata": {},
     "output_type": "execute_result"
    }
   ],
   "source": [
    "len(embeddings)"
   ]
  },
  {
   "cell_type": "code",
   "execution_count": 16,
   "metadata": {},
   "outputs": [],
   "source": [
    "def json_to_list(data):\n",
    "    summaries = []\n",
    "    for key, genre_summaries in data.items():\n",
    "            summaries.append(genre_summaries)\n",
    "    return summaries"
   ]
  },
  {
   "cell_type": "code",
   "execution_count": 17,
   "metadata": {},
   "outputs": [],
   "source": [
    "test_list = json_to_list(embeddings)"
   ]
  },
  {
   "cell_type": "code",
   "execution_count": 25,
   "metadata": {},
   "outputs": [
    {
     "data": {
      "text/plain": [
       "943"
      ]
     },
     "execution_count": 25,
     "metadata": {},
     "output_type": "execute_result"
    }
   ],
   "source": [
    "def summarize_summaries_prompt(user_summaries): \n",
    "    role_prompt = 'The following are the summaries of movies watched by the user, in the format genre: summary. \\n'\n",
    "    prompts = []\n",
    "    for user in user_summaries:\n",
    "        summary_prompt = \"\"\n",
    "        for genre, summary in user.items():\n",
    "            summary_prompt += f\"{genre}: {summary}\\n\"\n",
    "        prompts += [role_prompt + summary_prompt]\n",
    "        \n",
    "    return prompts\n",
    "len(summarize_summaries_prompt(test_list))"
   ]
  },
  {
   "cell_type": "code",
   "execution_count": null,
   "metadata": {},
   "outputs": [],
   "source": []
  }
 ],
 "metadata": {
  "kernelspec": {
   "display_name": "torch_gpu",
   "language": "python",
   "name": "python3"
  },
  "language_info": {
   "codemirror_mode": {
    "name": "ipython",
    "version": 3
   },
   "file_extension": ".py",
   "mimetype": "text/x-python",
   "name": "python",
   "nbconvert_exporter": "python",
   "pygments_lexer": "ipython3",
   "version": "3.8.6"
  },
  "orig_nbformat": 4
 },
 "nbformat": 4,
 "nbformat_minor": 2
}
